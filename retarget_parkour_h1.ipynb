{
 "cells": [
  {
   "cell_type": "code",
   "execution_count": 14,
   "metadata": {
    "pycharm": {
     "is_executing": true
    }
   },
   "outputs": [],
   "source": [
    "import pybullet as p\n",
    "import pybullet_data\n",
    "import argparse\n",
    "import numpy as np\n",
    "import os\n",
    "import os.path as osp\n",
    "import joblib\n",
    "from scipy.spatial.transform import Rotation as R\n",
    "from tqdm import tqdm\n",
    "import sys\n",
    "from contextlib import contextmanager\n",
    "from multiprocessing import Pool\n",
    "import time\n",
    "import plotly\n",
    "import plotly.graph_objs as go\n",
    "import json\n",
    "import trimesh"
   ]
  },
  {
   "cell_type": "code",
   "execution_count": 101,
   "metadata": {},
   "outputs": [],
   "source": [
    "# file_name = \"data/parkour/motion/parkour-speed-vaultl.json\"\n",
    "file_name = \"data/parkour/try_poses.json\"\n",
    "with open(file_name) as file:\n",
    "    motion = json.load(file)\n",
    "mesh_file_name = \"data/parkour/object/Parkour_Speed Vault(L)/obj.obj\"\n",
    "mesh = trimesh.load(mesh_file_name)\n",
    "vertices = mesh.vertices"
   ]
  },
  {
   "cell_type": "code",
   "execution_count": 102,
   "metadata": {},
   "outputs": [
    {
     "name": "stdout",
     "output_type": "stream",
     "text": [
      "[[ 0.43170593 -0.00209164 -0.08844433]\n",
      " [ 1.00228767 -0.0020919  -0.12930559]\n",
      " [ 1.00228767  0.72663563 -0.1293059 ]\n",
      " [ 0.43170593  0.72663574 -0.08844461]\n",
      " [ 0.39857309 -0.00209164 -0.55110512]\n",
      " [ 0.39857309  0.72663574 -0.55110542]\n",
      " [ 0.96915474 -0.0020919  -0.59196648]\n",
      " [ 0.96915474  0.72663563 -0.59196678]]\n"
     ]
    }
   ],
   "source": [
    "vertices = mesh.vertices / 100\n",
    "print(vertices)"
   ]
  },
  {
   "cell_type": "code",
   "execution_count": 103,
   "metadata": {},
   "outputs": [],
   "source": [
    "pelvis = np.array(motion[\"CC_Base_Pelvis\"])\n",
    "\n",
    "l_upperarm = np.array(motion[\"CC_Base_L_Upperarm\"])\n",
    "l_forearm = np.array(motion[\"CC_Base_L_Forearm\"])\n",
    "l_hand = np.array(motion[\"CC_Base_L_Hand\"])\n",
    "\n",
    "r_upperarm = np.array(motion[\"CC_Base_R_Upperarm\"])\n",
    "r_forearm = np.array(motion[\"CC_Base_R_Forearm\"])\n",
    "r_hand = np.array(motion[\"CC_Base_R_Hand\"])\n",
    "\n",
    "l_thigh = np.array(motion[\"CC_Base_L_Thigh\"])\n",
    "l_calf = np.array(motion[\"CC_Base_L_Calf\"])\n",
    "l_foot = np.array(motion[\"CC_Base_L_Foot\"])\n",
    "l_toe = np.array(motion[\"CC_Base_L_ToeBase\"])\n",
    "\n",
    "r_thigh = np.array(motion[\"CC_Base_R_Thigh\"])\n",
    "r_calf = np.array(motion[\"CC_Base_R_Calf\"])\n",
    "r_foot = np.array(motion[\"CC_Base_R_Foot\"])\n",
    "r_toe = np.array(motion[\"CC_Base_R_ToeBase\"])\n",
    "\n",
    "# pelvis = np.array(motion[\"CC_Base_Pelvis\"])[:,[2,0,1]]\n",
    "\n",
    "# l_upperarm = np.array(motion[\"CC_Base_L_Upperarm\"])[:,[2,0,1]]\n",
    "# l_forearm = np.array(motion[\"CC_Base_L_Forearm\"])[:,[2,0,1]]\n",
    "# l_hand = np.array(motion[\"CC_Base_L_Hand\"])[:,[2,0,1]]\n",
    "\n",
    "# r_upperarm = np.array(motion[\"CC_Base_R_Upperarm\"])[:,[2,0,1]]\n",
    "# r_forearm = np.array(motion[\"CC_Base_R_Forearm\"])[:,[2,0,1]]\n",
    "# r_hand = np.array(motion[\"CC_Base_R_Hand\"])[:,[2,0,1]]\n",
    "\n",
    "# l_thigh = np.array(motion[\"CC_Base_L_Thigh\"])[:,[2,0,1]]\n",
    "# l_calf = np.array(motion[\"CC_Base_L_Calf\"])[:,[2,0,1]]\n",
    "# l_foot = np.array(motion[\"CC_Base_L_Foot\"])[:,[2,0,1]]\n",
    "# l_toe = np.array(motion[\"CC_Base_L_ToeBase\"])[:,[2,0,1]]\n",
    "\n",
    "# r_thigh = np.array(motion[\"CC_Base_R_Thigh\"])[:,[2,0,1]]\n",
    "# r_calf = np.array(motion[\"CC_Base_R_Calf\"])[:,[2,0,1]]\n",
    "# r_foot = np.array(motion[\"CC_Base_R_Foot\"])[:,[2,0,1]]\n",
    "# r_toe = np.array(motion[\"CC_Base_R_ToeBase\"])[:,[2,0,1]]\n",
    "\n",
    "\n",
    "skeleton = np.array(\n",
    "    [\n",
    "        pelvis,\n",
    "        l_thigh,\n",
    "        l_calf,\n",
    "        l_foot,\n",
    "        l_toe,\n",
    "        l_upperarm,\n",
    "        l_forearm,\n",
    "        l_hand,\n",
    "        r_thigh,\n",
    "        r_calf,\n",
    "        r_foot,\n",
    "        r_toe,\n",
    "        r_upperarm,\n",
    "        r_forearm,\n",
    "        r_hand,\n",
    "    ]\n",
    ")\n",
    "\n",
    "# skeleton = skeleton.transpose(1,0,2) / 100\n",
    "skeleton = skeleton.transpose(1,0,2) / 100\n",
    "num_frames = skeleton.shape[0]"
   ]
  },
  {
   "cell_type": "code",
   "execution_count": 104,
   "metadata": {},
   "outputs": [
    {
     "data": {
      "text/plain": [
       "245"
      ]
     },
     "execution_count": 104,
     "metadata": {},
     "output_type": "execute_result"
    }
   ],
   "source": [
    "num_frames"
   ]
  },
  {
   "cell_type": "code",
   "execution_count": 105,
   "metadata": {},
   "outputs": [
    {
     "data": {
      "text/plain": [
       "array([ 0.60851575,  0.92007931, -2.44167332])"
      ]
     },
     "execution_count": 105,
     "metadata": {},
     "output_type": "execute_result"
    }
   ],
   "source": [
    "skeleton[0,0]"
   ]
  },
  {
   "cell_type": "code",
   "execution_count": 115,
   "metadata": {},
   "outputs": [
    {
     "data": {
      "application/vnd.plotly.v1+json": {
       "config": {
        "plotlyServerURL": "https://plot.ly"
       },
       "data": [
        {
         "line": {
          "color": "red",
          "width": 4
         },
         "mode": "lines",
         "type": "scatter3d",
         "x": [
          0.6085157490005195,
          0.7024894269415948
         ],
         "y": [
          0.9200793130223393,
          0.8936831330009564
         ],
         "z": [
          -2.4416733179872145,
          -2.4363865932153606
         ]
        },
        {
         "line": {
          "color": "red",
          "width": 4
         },
         "mode": "lines",
         "type": "scatter3d",
         "x": [
          0.7024894269415948,
          0.6910624448158829
         ],
         "y": [
          0.8936831330009564,
          0.5331789836455398
         ],
         "z": [
          -2.4363865932153606,
          -2.1989765843899653
         ]
        },
        {
         "line": {
          "color": "red",
          "width": 4
         },
         "mode": "lines",
         "type": "scatter3d",
         "x": [
          0.6910624448158829,
          0.7000787006493973
         ],
         "y": [
          0.5331789836455398,
          0.0611480420292871
         ],
         "z": [
          -2.1989765843899653,
          -2.277518872760943
         ]
        },
        {
         "line": {
          "color": "red",
          "width": 4
         },
         "mode": "lines",
         "type": "scatter3d",
         "x": [
          0.7000787006493973,
          0.70846415316756
         ],
         "y": [
          0.0611480420292871,
          0.030461890047827
         ],
         "z": [
          -2.277518872760943,
          -2.123067506272121
         ]
        },
        {
         "line": {
          "color": "red",
          "width": 4
         },
         "mode": "lines",
         "type": "scatter3d",
         "x": [
          0.6085157490005195,
          0.7836444206850014
         ],
         "y": [
          0.9200793130223393,
          1.3116571464823712
         ],
         "z": [
          -2.4416733179872145,
          -2.1943271361554904
         ]
        },
        {
         "line": {
          "color": "red",
          "width": 4
         },
         "mode": "lines",
         "type": "scatter3d",
         "x": [
          0.7836444206850014,
          0.8798972139135037
         ],
         "y": [
          1.3116571464823712,
          1.1470161534636718
         ],
         "z": [
          -2.1943271361554904,
          -2.360211850078999
         ]
        },
        {
         "line": {
          "color": "red",
          "width": 4
         },
         "mode": "lines",
         "type": "scatter3d",
         "x": [
          0.8798972139135037,
          0.8381480136354817
         ],
         "y": [
          1.1470161534636718,
          0.8912878450813996
         ],
         "z": [
          -2.360211850078999,
          -2.284916905834143
         ]
        },
        {
         "line": {
          "color": "red",
          "width": 4
         },
         "mode": "lines",
         "type": "scatter3d",
         "x": [
          0.6085157490005195,
          0.514796595066273
         ],
         "y": [
          0.9200793130223393,
          0.8972997465884716
         ],
         "z": [
          -2.4416733179872145,
          -2.457597019078192
         ]
        },
        {
         "line": {
          "color": "red",
          "width": 4
         },
         "mode": "lines",
         "type": "scatter3d",
         "x": [
          0.514796595066273,
          0.4809673309651164
         ],
         "y": [
          0.8972997465884716,
          0.46683311619689527
         ],
         "z": [
          -2.457597019078192,
          -2.4609393461535056
         ]
        },
        {
         "line": {
          "color": "red",
          "width": 4
         },
         "mode": "lines",
         "type": "scatter3d",
         "x": [
          0.4809673309651164,
          0.4644208623302697
         ],
         "y": [
          0.46683311619689527,
          0.17615787486109102
         ],
         "z": [
          -2.4609393461535056,
          -2.8408024676362764
         ]
        },
        {
         "line": {
          "color": "red",
          "width": 4
         },
         "mode": "lines",
         "type": "scatter3d",
         "x": [
          0.4644208623302697,
          0.4551910742135908
         ],
         "y": [
          0.17615787486109102,
          0.025626511915284117
         ],
         "z": [
          -2.8408024676362764,
          -2.7949142587255955
         ]
        },
        {
         "line": {
          "color": "red",
          "width": 4
         },
         "mode": "lines",
         "type": "scatter3d",
         "x": [
          0.6085157490005195,
          0.40515158710799276
         ],
         "y": [
          0.9200793130223393,
          1.3032906586502608
         ],
         "z": [
          -2.4416733179872145,
          -2.1964000570268487
         ]
        },
        {
         "line": {
          "color": "red",
          "width": 4
         },
         "mode": "lines",
         "type": "scatter3d",
         "x": [
          0.40515158710799276,
          0.31163450505497853
         ],
         "y": [
          1.3032906586502608,
          1.0912039482150535
         ],
         "z": [
          -2.1964000570268487,
          -2.2972403945428703
         ]
        },
        {
         "line": {
          "color": "red",
          "width": 4
         },
         "mode": "lines",
         "type": "scatter3d",
         "x": [
          0.31163450505497853,
          0.4229485650375536
         ],
         "y": [
          1.0912039482150535,
          0.9131595050441887
         ],
         "z": [
          -2.2972403945428703,
          -2.127774655182966
         ]
        },
        {
         "line": {
          "color": "red",
          "width": 4
         },
         "mode": "lines",
         "type": "scatter3d",
         "x": [
          0.7591027255749055,
          0.8526844236960153
         ],
         "y": [
          0.9238650671050115,
          0.8975645070060426
         ],
         "z": [
          2.2883405475264436,
          2.2986627369079944
         ]
        },
        {
         "line": {
          "color": "red",
          "width": 4
         },
         "mode": "lines",
         "type": "scatter3d",
         "x": [
          0.8526844236960153,
          0.8671208157166825
         ],
         "y": [
          0.8975645070060426,
          0.5336051432025564
         ],
         "z": [
          2.2986627369079944,
          2.5305736654214543
         ]
        },
        {
         "line": {
          "color": "red",
          "width": 4
         },
         "mode": "lines",
         "type": "scatter3d",
         "x": [
          0.8671208157166825,
          0.9102559175751647
         ],
         "y": [
          0.5336051432025564,
          0.061179243864154034
         ],
         "z": [
          2.5305736654214543,
          2.467196904325692
         ]
        },
        {
         "line": {
          "color": "red",
          "width": 4
         },
         "mode": "lines",
         "type": "scatter3d",
         "x": [
          0.9102559175751647,
          0.9125894966986874
         ],
         "y": [
          0.061179243864154034,
          0.03049312061279198
         ],
         "z": [
          2.467196904325692,
          2.6218582999215063
         ]
        },
        {
         "line": {
          "color": "red",
          "width": 4
         },
         "mode": "lines",
         "type": "scatter3d",
         "x": [
          0.7591027255749055,
          0.9342137131713021
         ],
         "y": [
          0.9238650671050115,
          1.3360739314798622
         ],
         "z": [
          2.2883405475264436,
          2.4954682916154116
         ]
        },
        {
         "line": {
          "color": "red",
          "width": 4
         },
         "mode": "lines",
         "type": "scatter3d",
         "x": [
          0.9342137131713021,
          1.0314830729456104
         ],
         "y": [
          1.3360739314798622,
          1.1589249236095143
         ],
         "z": [
          2.4954682916154116,
          2.343659299522516
         ]
        },
        {
         "line": {
          "color": "red",
          "width": 4
         },
         "mode": "lines",
         "type": "scatter3d",
         "x": [
          1.0314830729456104,
          0.9936843568749961
         ],
         "y": [
          1.1589249236095143,
          0.9058121910731165
         ],
         "z": [
          2.343659299522516,
          2.4291849030293644
         ]
        },
        {
         "line": {
          "color": "red",
          "width": 4
         },
         "mode": "lines",
         "type": "scatter3d",
         "x": [
          0.7591027255749055,
          0.6655933535342016
         ],
         "y": [
          0.9238650671050115,
          0.9001499234584608
         ],
         "z": [
          2.2883405475264436,
          2.2725504500514297
         ]
        },
        {
         "line": {
          "color": "red",
          "width": 4
         },
         "mode": "lines",
         "type": "scatter3d",
         "x": [
          0.6655933535342016,
          0.6666334880045163
         ],
         "y": [
          0.9001499234584608,
          0.4683551107050057
         ],
         "z": [
          2.2725504500514297,
          2.2695259631562754
         ]
        },
        {
         "line": {
          "color": "red",
          "width": 4
         },
         "mode": "lines",
         "type": "scatter3d",
         "x": [
          0.6666334880045163,
          0.6954139811901833
         ],
         "y": [
          0.4683551107050057,
          0.18131509617392133
         ],
         "z": [
          2.2695259631562754,
          1.8876343412439964
         ]
        },
        {
         "line": {
          "color": "red",
          "width": 4
         },
         "mode": "lines",
         "type": "scatter3d",
         "x": [
          0.6954139811901833,
          0.6866894204590726
         ],
         "y": [
          0.18131509617392133,
          0.03072965204884106
         ],
         "z": [
          1.8876343412439964,
          1.9334438237301002
         ]
        },
        {
         "line": {
          "color": "red",
          "width": 4
         },
         "mode": "lines",
         "type": "scatter3d",
         "x": [
          0.7591027255749055,
          0.5560294149111042
         ],
         "y": [
          0.9238650671050115,
          1.332434792998637
         ],
         "z": [
          2.2883405475264436,
          2.4886741912540074
         ]
        },
        {
         "line": {
          "color": "red",
          "width": 4
         },
         "mode": "lines",
         "type": "scatter3d",
         "x": [
          0.5560294149111042,
          0.4629262863992794
         ],
         "y": [
          1.332434792998637,
          1.109347068738401
         ],
         "z": [
          2.4886741912540074,
          2.414791107003096
         ]
        },
        {
         "line": {
          "color": "red",
          "width": 4
         },
         "mode": "lines",
         "type": "scatter3d",
         "x": [
          0.4629262863992794,
          0.5734281214784513
         ],
         "y": [
          1.109347068738401,
          0.957333007800661
         ],
         "z": [
          2.414791107003096,
          2.6084153988669745
         ]
        },
        {
         "marker": {
          "opacity": 0.8,
          "size": 6
         },
         "mode": "markers",
         "type": "scatter3d",
         "x": [
          0.6085157490005195,
          0.7024894269415948,
          0.6910624448158829,
          0.7000787006493973,
          0.70846415316756,
          0.7836444206850014,
          0.8798972139135037,
          0.8381480136354817,
          0.514796595066273,
          0.4809673309651164,
          0.4644208623302697,
          0.4551910742135908,
          0.40515158710799276,
          0.31163450505497853,
          0.4229485650375536
         ],
         "y": [
          0.9200793130223393,
          0.8936831330009564,
          0.5331789836455398,
          0.0611480420292871,
          0.030461890047827,
          1.3116571464823712,
          1.1470161534636718,
          0.8912878450813996,
          0.8972997465884716,
          0.46683311619689527,
          0.17615787486109102,
          0.025626511915284117,
          1.3032906586502608,
          1.0912039482150535,
          0.9131595050441887
         ],
         "z": [
          -2.4416733179872145,
          -2.4363865932153606,
          -2.1989765843899653,
          -2.277518872760943,
          -2.123067506272121,
          -2.1943271361554904,
          -2.360211850078999,
          -2.284916905834143,
          -2.457597019078192,
          -2.4609393461535056,
          -2.8408024676362764,
          -2.7949142587255955,
          -2.1964000570268487,
          -2.2972403945428703,
          -2.127774655182966
         ]
        },
        {
         "marker": {
          "opacity": 0.8,
          "size": 6
         },
         "mode": "markers",
         "type": "scatter3d",
         "x": [
          0.7591027255749055,
          0.8526844236960153,
          0.8671208157166825,
          0.9102559175751647,
          0.9125894966986874,
          0.9342137131713021,
          1.0314830729456104,
          0.9936843568749961,
          0.6655933535342016,
          0.6666334880045163,
          0.6954139811901833,
          0.6866894204590726,
          0.5560294149111042,
          0.4629262863992794,
          0.5734281214784513
         ],
         "y": [
          0.9238650671050115,
          0.8975645070060426,
          0.5336051432025564,
          0.061179243864154034,
          0.03049312061279198,
          1.3360739314798622,
          1.1589249236095143,
          0.9058121910731165,
          0.9001499234584608,
          0.4683551107050057,
          0.18131509617392133,
          0.03072965204884106,
          1.332434792998637,
          1.109347068738401,
          0.957333007800661
         ],
         "z": [
          2.2883405475264436,
          2.2986627369079944,
          2.5305736654214543,
          2.467196904325692,
          2.6218582999215063,
          2.4954682916154116,
          2.343659299522516,
          2.4291849030293644,
          2.2725504500514297,
          2.2695259631562754,
          1.8876343412439964,
          1.9334438237301002,
          2.4886741912540074,
          2.414791107003096,
          2.6084153988669745
         ]
        },
        {
         "color": "lightpink",
         "opacity": 0.5,
         "type": "mesh3d",
         "x": [
          0.43170592999999996,
          1.00228767,
          1.00228767,
          0.43170592999999996,
          0.39857309,
          0.39857309,
          0.96915474,
          0.96915474
         ],
         "y": [
          -0.00209164,
          -0.0020919,
          0.72663563,
          0.72663574,
          -0.00209164,
          0.72663574,
          -0.0020919,
          0.72663563
         ],
         "z": [
          -0.08844433,
          -0.12930559,
          -0.1293059,
          -0.08844461,
          -0.55110512,
          -0.5511054200000001,
          -0.5919664800000001,
          -0.59196678
         ]
        }
       ],
       "layout": {
        "margin": {
         "b": 0,
         "l": 0,
         "r": 0,
         "t": 0
        },
        "scene": {
         "aspectratio": {
          "x": 1,
          "y": 1,
          "z": 1
         }
        },
        "template": {
         "data": {
          "bar": [
           {
            "error_x": {
             "color": "#2a3f5f"
            },
            "error_y": {
             "color": "#2a3f5f"
            },
            "marker": {
             "line": {
              "color": "#E5ECF6",
              "width": 0.5
             },
             "pattern": {
              "fillmode": "overlay",
              "size": 10,
              "solidity": 0.2
             }
            },
            "type": "bar"
           }
          ],
          "barpolar": [
           {
            "marker": {
             "line": {
              "color": "#E5ECF6",
              "width": 0.5
             },
             "pattern": {
              "fillmode": "overlay",
              "size": 10,
              "solidity": 0.2
             }
            },
            "type": "barpolar"
           }
          ],
          "carpet": [
           {
            "aaxis": {
             "endlinecolor": "#2a3f5f",
             "gridcolor": "white",
             "linecolor": "white",
             "minorgridcolor": "white",
             "startlinecolor": "#2a3f5f"
            },
            "baxis": {
             "endlinecolor": "#2a3f5f",
             "gridcolor": "white",
             "linecolor": "white",
             "minorgridcolor": "white",
             "startlinecolor": "#2a3f5f"
            },
            "type": "carpet"
           }
          ],
          "choropleth": [
           {
            "colorbar": {
             "outlinewidth": 0,
             "ticks": ""
            },
            "type": "choropleth"
           }
          ],
          "contour": [
           {
            "colorbar": {
             "outlinewidth": 0,
             "ticks": ""
            },
            "colorscale": [
             [
              0,
              "#0d0887"
             ],
             [
              0.1111111111111111,
              "#46039f"
             ],
             [
              0.2222222222222222,
              "#7201a8"
             ],
             [
              0.3333333333333333,
              "#9c179e"
             ],
             [
              0.4444444444444444,
              "#bd3786"
             ],
             [
              0.5555555555555556,
              "#d8576b"
             ],
             [
              0.6666666666666666,
              "#ed7953"
             ],
             [
              0.7777777777777778,
              "#fb9f3a"
             ],
             [
              0.8888888888888888,
              "#fdca26"
             ],
             [
              1,
              "#f0f921"
             ]
            ],
            "type": "contour"
           }
          ],
          "contourcarpet": [
           {
            "colorbar": {
             "outlinewidth": 0,
             "ticks": ""
            },
            "type": "contourcarpet"
           }
          ],
          "heatmap": [
           {
            "colorbar": {
             "outlinewidth": 0,
             "ticks": ""
            },
            "colorscale": [
             [
              0,
              "#0d0887"
             ],
             [
              0.1111111111111111,
              "#46039f"
             ],
             [
              0.2222222222222222,
              "#7201a8"
             ],
             [
              0.3333333333333333,
              "#9c179e"
             ],
             [
              0.4444444444444444,
              "#bd3786"
             ],
             [
              0.5555555555555556,
              "#d8576b"
             ],
             [
              0.6666666666666666,
              "#ed7953"
             ],
             [
              0.7777777777777778,
              "#fb9f3a"
             ],
             [
              0.8888888888888888,
              "#fdca26"
             ],
             [
              1,
              "#f0f921"
             ]
            ],
            "type": "heatmap"
           }
          ],
          "heatmapgl": [
           {
            "colorbar": {
             "outlinewidth": 0,
             "ticks": ""
            },
            "colorscale": [
             [
              0,
              "#0d0887"
             ],
             [
              0.1111111111111111,
              "#46039f"
             ],
             [
              0.2222222222222222,
              "#7201a8"
             ],
             [
              0.3333333333333333,
              "#9c179e"
             ],
             [
              0.4444444444444444,
              "#bd3786"
             ],
             [
              0.5555555555555556,
              "#d8576b"
             ],
             [
              0.6666666666666666,
              "#ed7953"
             ],
             [
              0.7777777777777778,
              "#fb9f3a"
             ],
             [
              0.8888888888888888,
              "#fdca26"
             ],
             [
              1,
              "#f0f921"
             ]
            ],
            "type": "heatmapgl"
           }
          ],
          "histogram": [
           {
            "marker": {
             "pattern": {
              "fillmode": "overlay",
              "size": 10,
              "solidity": 0.2
             }
            },
            "type": "histogram"
           }
          ],
          "histogram2d": [
           {
            "colorbar": {
             "outlinewidth": 0,
             "ticks": ""
            },
            "colorscale": [
             [
              0,
              "#0d0887"
             ],
             [
              0.1111111111111111,
              "#46039f"
             ],
             [
              0.2222222222222222,
              "#7201a8"
             ],
             [
              0.3333333333333333,
              "#9c179e"
             ],
             [
              0.4444444444444444,
              "#bd3786"
             ],
             [
              0.5555555555555556,
              "#d8576b"
             ],
             [
              0.6666666666666666,
              "#ed7953"
             ],
             [
              0.7777777777777778,
              "#fb9f3a"
             ],
             [
              0.8888888888888888,
              "#fdca26"
             ],
             [
              1,
              "#f0f921"
             ]
            ],
            "type": "histogram2d"
           }
          ],
          "histogram2dcontour": [
           {
            "colorbar": {
             "outlinewidth": 0,
             "ticks": ""
            },
            "colorscale": [
             [
              0,
              "#0d0887"
             ],
             [
              0.1111111111111111,
              "#46039f"
             ],
             [
              0.2222222222222222,
              "#7201a8"
             ],
             [
              0.3333333333333333,
              "#9c179e"
             ],
             [
              0.4444444444444444,
              "#bd3786"
             ],
             [
              0.5555555555555556,
              "#d8576b"
             ],
             [
              0.6666666666666666,
              "#ed7953"
             ],
             [
              0.7777777777777778,
              "#fb9f3a"
             ],
             [
              0.8888888888888888,
              "#fdca26"
             ],
             [
              1,
              "#f0f921"
             ]
            ],
            "type": "histogram2dcontour"
           }
          ],
          "mesh3d": [
           {
            "colorbar": {
             "outlinewidth": 0,
             "ticks": ""
            },
            "type": "mesh3d"
           }
          ],
          "parcoords": [
           {
            "line": {
             "colorbar": {
              "outlinewidth": 0,
              "ticks": ""
             }
            },
            "type": "parcoords"
           }
          ],
          "pie": [
           {
            "automargin": true,
            "type": "pie"
           }
          ],
          "scatter": [
           {
            "fillpattern": {
             "fillmode": "overlay",
             "size": 10,
             "solidity": 0.2
            },
            "type": "scatter"
           }
          ],
          "scatter3d": [
           {
            "line": {
             "colorbar": {
              "outlinewidth": 0,
              "ticks": ""
             }
            },
            "marker": {
             "colorbar": {
              "outlinewidth": 0,
              "ticks": ""
             }
            },
            "type": "scatter3d"
           }
          ],
          "scattercarpet": [
           {
            "marker": {
             "colorbar": {
              "outlinewidth": 0,
              "ticks": ""
             }
            },
            "type": "scattercarpet"
           }
          ],
          "scattergeo": [
           {
            "marker": {
             "colorbar": {
              "outlinewidth": 0,
              "ticks": ""
             }
            },
            "type": "scattergeo"
           }
          ],
          "scattergl": [
           {
            "marker": {
             "colorbar": {
              "outlinewidth": 0,
              "ticks": ""
             }
            },
            "type": "scattergl"
           }
          ],
          "scattermapbox": [
           {
            "marker": {
             "colorbar": {
              "outlinewidth": 0,
              "ticks": ""
             }
            },
            "type": "scattermapbox"
           }
          ],
          "scatterpolar": [
           {
            "marker": {
             "colorbar": {
              "outlinewidth": 0,
              "ticks": ""
             }
            },
            "type": "scatterpolar"
           }
          ],
          "scatterpolargl": [
           {
            "marker": {
             "colorbar": {
              "outlinewidth": 0,
              "ticks": ""
             }
            },
            "type": "scatterpolargl"
           }
          ],
          "scatterternary": [
           {
            "marker": {
             "colorbar": {
              "outlinewidth": 0,
              "ticks": ""
             }
            },
            "type": "scatterternary"
           }
          ],
          "surface": [
           {
            "colorbar": {
             "outlinewidth": 0,
             "ticks": ""
            },
            "colorscale": [
             [
              0,
              "#0d0887"
             ],
             [
              0.1111111111111111,
              "#46039f"
             ],
             [
              0.2222222222222222,
              "#7201a8"
             ],
             [
              0.3333333333333333,
              "#9c179e"
             ],
             [
              0.4444444444444444,
              "#bd3786"
             ],
             [
              0.5555555555555556,
              "#d8576b"
             ],
             [
              0.6666666666666666,
              "#ed7953"
             ],
             [
              0.7777777777777778,
              "#fb9f3a"
             ],
             [
              0.8888888888888888,
              "#fdca26"
             ],
             [
              1,
              "#f0f921"
             ]
            ],
            "type": "surface"
           }
          ],
          "table": [
           {
            "cells": {
             "fill": {
              "color": "#EBF0F8"
             },
             "line": {
              "color": "white"
             }
            },
            "header": {
             "fill": {
              "color": "#C8D4E3"
             },
             "line": {
              "color": "white"
             }
            },
            "type": "table"
           }
          ]
         },
         "layout": {
          "annotationdefaults": {
           "arrowcolor": "#2a3f5f",
           "arrowhead": 0,
           "arrowwidth": 1
          },
          "autotypenumbers": "strict",
          "coloraxis": {
           "colorbar": {
            "outlinewidth": 0,
            "ticks": ""
           }
          },
          "colorscale": {
           "diverging": [
            [
             0,
             "#8e0152"
            ],
            [
             0.1,
             "#c51b7d"
            ],
            [
             0.2,
             "#de77ae"
            ],
            [
             0.3,
             "#f1b6da"
            ],
            [
             0.4,
             "#fde0ef"
            ],
            [
             0.5,
             "#f7f7f7"
            ],
            [
             0.6,
             "#e6f5d0"
            ],
            [
             0.7,
             "#b8e186"
            ],
            [
             0.8,
             "#7fbc41"
            ],
            [
             0.9,
             "#4d9221"
            ],
            [
             1,
             "#276419"
            ]
           ],
           "sequential": [
            [
             0,
             "#0d0887"
            ],
            [
             0.1111111111111111,
             "#46039f"
            ],
            [
             0.2222222222222222,
             "#7201a8"
            ],
            [
             0.3333333333333333,
             "#9c179e"
            ],
            [
             0.4444444444444444,
             "#bd3786"
            ],
            [
             0.5555555555555556,
             "#d8576b"
            ],
            [
             0.6666666666666666,
             "#ed7953"
            ],
            [
             0.7777777777777778,
             "#fb9f3a"
            ],
            [
             0.8888888888888888,
             "#fdca26"
            ],
            [
             1,
             "#f0f921"
            ]
           ],
           "sequentialminus": [
            [
             0,
             "#0d0887"
            ],
            [
             0.1111111111111111,
             "#46039f"
            ],
            [
             0.2222222222222222,
             "#7201a8"
            ],
            [
             0.3333333333333333,
             "#9c179e"
            ],
            [
             0.4444444444444444,
             "#bd3786"
            ],
            [
             0.5555555555555556,
             "#d8576b"
            ],
            [
             0.6666666666666666,
             "#ed7953"
            ],
            [
             0.7777777777777778,
             "#fb9f3a"
            ],
            [
             0.8888888888888888,
             "#fdca26"
            ],
            [
             1,
             "#f0f921"
            ]
           ]
          },
          "colorway": [
           "#636efa",
           "#EF553B",
           "#00cc96",
           "#ab63fa",
           "#FFA15A",
           "#19d3f3",
           "#FF6692",
           "#B6E880",
           "#FF97FF",
           "#FECB52"
          ],
          "font": {
           "color": "#2a3f5f"
          },
          "geo": {
           "bgcolor": "white",
           "lakecolor": "white",
           "landcolor": "#E5ECF6",
           "showlakes": true,
           "showland": true,
           "subunitcolor": "white"
          },
          "hoverlabel": {
           "align": "left"
          },
          "hovermode": "closest",
          "mapbox": {
           "style": "light"
          },
          "paper_bgcolor": "white",
          "plot_bgcolor": "#E5ECF6",
          "polar": {
           "angularaxis": {
            "gridcolor": "white",
            "linecolor": "white",
            "ticks": ""
           },
           "bgcolor": "#E5ECF6",
           "radialaxis": {
            "gridcolor": "white",
            "linecolor": "white",
            "ticks": ""
           }
          },
          "scene": {
           "xaxis": {
            "backgroundcolor": "#E5ECF6",
            "gridcolor": "white",
            "gridwidth": 2,
            "linecolor": "white",
            "showbackground": true,
            "ticks": "",
            "zerolinecolor": "white"
           },
           "yaxis": {
            "backgroundcolor": "#E5ECF6",
            "gridcolor": "white",
            "gridwidth": 2,
            "linecolor": "white",
            "showbackground": true,
            "ticks": "",
            "zerolinecolor": "white"
           },
           "zaxis": {
            "backgroundcolor": "#E5ECF6",
            "gridcolor": "white",
            "gridwidth": 2,
            "linecolor": "white",
            "showbackground": true,
            "ticks": "",
            "zerolinecolor": "white"
           }
          },
          "shapedefaults": {
           "line": {
            "color": "#2a3f5f"
           }
          },
          "ternary": {
           "aaxis": {
            "gridcolor": "white",
            "linecolor": "white",
            "ticks": ""
           },
           "baxis": {
            "gridcolor": "white",
            "linecolor": "white",
            "ticks": ""
           },
           "bgcolor": "#E5ECF6",
           "caxis": {
            "gridcolor": "white",
            "linecolor": "white",
            "ticks": ""
           }
          },
          "title": {
           "x": 0.05
          },
          "xaxis": {
           "automargin": true,
           "gridcolor": "white",
           "linecolor": "white",
           "ticks": "",
           "title": {
            "standoff": 15
           },
           "zerolinecolor": "white",
           "zerolinewidth": 2
          },
          "yaxis": {
           "automargin": true,
           "gridcolor": "white",
           "linecolor": "white",
           "ticks": "",
           "title": {
            "standoff": 15
           },
           "zerolinecolor": "white",
           "zerolinewidth": 2
          }
         }
        }
       }
      }
     },
     "metadata": {},
     "output_type": "display_data"
    }
   ],
   "source": [
    "connection = [[0,1], [1,2], [2,3], [3,4], [0,5], [5,6], [6,7], [0,8], [8,9], [9,10], [10,11], [0,12], [12,13], [13,14]]\n",
    "\n",
    "data = []\n",
    "\n",
    "frame_idx = 0\n",
    "joints_1 = go.Scatter3d(\n",
    "    x=skeleton[frame_idx, :, 0],  \n",
    "    y=skeleton[frame_idx, :, 1],  \n",
    "    z=skeleton[frame_idx, :, 2], \n",
    "    mode='markers',\n",
    "    marker={\n",
    "        'size': 6,\n",
    "        'opacity': 0.8,\n",
    "    }\n",
    ")\n",
    "\n",
    "for c in connection:\n",
    "    line_trace = go.Scatter3d(\n",
    "        x=skeleton[frame_idx, c, 0],\n",
    "        y=skeleton[frame_idx, c, 1],\n",
    "        z=skeleton[frame_idx, c, 2],\n",
    "        mode='lines',\n",
    "        line=dict(color='red', width=4)\n",
    "    )\n",
    "    data.append(line_trace)\n",
    "\n",
    "frame_idx = 100\n",
    "joints_2 = go.Scatter3d(\n",
    "    x=skeleton[frame_idx, :, 0],  \n",
    "    y=skeleton[frame_idx, :, 1],  \n",
    "    z=skeleton[frame_idx, :, 2], \n",
    "    mode='markers',\n",
    "    marker={\n",
    "        'size': 6,\n",
    "        'opacity': 0.8,\n",
    "    }\n",
    ")\n",
    "\n",
    "for c in connection:\n",
    "    line_trace = go.Scatter3d(\n",
    "        x=skeleton[frame_idx, c, 0],\n",
    "        y=skeleton[frame_idx, c, 1],\n",
    "        z=skeleton[frame_idx, c, 2],\n",
    "        mode='lines',\n",
    "        line=dict(color='red', width=4)\n",
    "    )\n",
    "    data.append(line_trace)\n",
    "\n",
    "layout = go.Layout(\n",
    "        margin={'l': 0, 'r': 0, 'b': 0, 't': 0},\n",
    "        scene = dict(\n",
    "            # xaxis = dict(title=\"x\", range = [-2,2]),\n",
    "            # yaxis = dict(title=\"y\", range = [-2,2]),\n",
    "            # zaxis = dict(title=\"z\", range = [-2,2]),\n",
    "            aspectratio=dict(x=1, y=1, z=1)\n",
    "    ))\n",
    "\n",
    "obstacle = go.Mesh3d(x=vertices[:,0], y=vertices[:,1], z=vertices[:,2], color='lightpink', opacity=0.50)\n",
    "\n",
    "\n",
    "fig = go.Figure(data=data + [joints_1, joints_2, obstacle], layout=layout)\n",
    "# plotly.offline.iplot(fig)\n",
    "fig.show()"
   ]
  },
  {
   "cell_type": "code",
   "execution_count": 97,
   "metadata": {},
   "outputs": [
    {
     "ename": "NameError",
     "evalue": "name 'show_motion' is not defined",
     "output_type": "error",
     "traceback": [
      "\u001b[0;31m---------------------------------------------------------------------------\u001b[0m",
      "\u001b[0;31mNameError\u001b[0m                                 Traceback (most recent call last)",
      "Cell \u001b[0;32mIn[97], line 1\u001b[0m\n\u001b[0;32m----> 1\u001b[0m \u001b[43mshow_motion\u001b[49m(\u001b[38;5;241m256\u001b[39m)\n",
      "\u001b[0;31mNameError\u001b[0m: name 'show_motion' is not defined"
     ]
    }
   ],
   "source": [
    "show_motion(256)"
   ]
  },
  {
   "cell_type": "code",
   "execution_count": 9,
   "metadata": {},
   "outputs": [
    {
     "name": "stdout",
     "output_type": "stream",
     "text": [
      "b3Warning[examples/Importers/ImportURDFDemo/BulletUrdfImporter.cpp,126]:\n",
      "No inertial data for link, using mass=1, localinertiadiagonal = 1,1,1, identity local inertial frameb3Warning[examples/Importers/ImportURDFDemo/BulletUrdfImporter.cpp,126]:\n",
      "imu_linkb3Warning[examples/Importers/ImportURDFDemo/BulletUrdfImporter.cpp,126]:\n",
      "No inertial data for link, using mass=1, localinertiadiagonal = 1,1,1, identity local inertial frameb3Warning[examples/Importers/ImportURDFDemo/BulletUrdfImporter.cpp,126]:\n",
      "logo_link"
     ]
    }
   ],
   "source": [
    "robot_urdf = \"/home/jianrenw/Research/humanoid_parkour/retarget/h1_description/urdf/h1.urdf\"\n",
    "\n",
    "physicsClient = p.connect(p.DIRECT)  # or p.DIRECT for non-graphical version\n",
    "p.setAdditionalSearchPath(pybullet_data.getDataPath())  # used by loadURDF\n",
    "robot_start_pos = [0, 0, 0]\n",
    "robot_start_orientation = p.getQuaternionFromEuler([0, 0, 0])\n",
    "\n",
    "humanoid = p.loadURDF(robot_urdf, robot_start_pos, robot_start_orientation)\n",
    "\n",
    "time_step = 1.0 / 240.0\n",
    "p.setTimeStep(time_step)\n",
    "\n",
    "num_joints = p.getNumJoints(humanoid)\n",
    "\n",
    "joint_names = []\n",
    "joint_lower_limits = []\n",
    "joint_upper_limits = []\n",
    "\n",
    "# Iterate through the joints and print their names\n",
    "for joint_index in range(num_joints):\n",
    "    joint_info = p.getJointInfo(humanoid, joint_index)\n",
    "    joint_name = joint_info[1].decode(\n",
    "        \"utf-8\"\n",
    "    )  # Decode the byte string to get the joint name\n",
    "    joint_lower_limit = joint_info[8]  # Lower joint limit\n",
    "    joint_upper_limit = joint_info[9]  # Upper joint limit\n",
    "    joint_names.append(joint_name)\n",
    "    joint_lower_limits.append(joint_lower_limit)\n",
    "    joint_upper_limits.append(joint_upper_limit)\n",
    "\n",
    "joint_lower_limits = np.array(joint_lower_limits)\n",
    "joint_upper_limits = np.array(joint_upper_limits)\n",
    "\n",
    "p.disconnect()"
   ]
  },
  {
   "cell_type": "code",
   "execution_count": 10,
   "metadata": {},
   "outputs": [],
   "source": [
    "def create_joint_frame_visualization(robot, joint_index, frame_size=0.1):\n",
    "    joint_position, joint_orientation = p.getLinkState(robot, joint_index)[4:6]\n",
    "\n",
    "\n",
    "    # Calculate the rotation matrix from Euler angles\n",
    "    rot_matrix = p.getMatrixFromQuaternion(joint_orientation)\n",
    "    rot_matrix = np.array(rot_matrix).reshape(3, 3)\n",
    "    # Extract the rotated axes\n",
    "    x_axis_end = np.dot(rot_matrix, [frame_size, 0, 0]) + joint_position\n",
    "    y_axis_end = np.dot(rot_matrix, [0, frame_size, 0]) + joint_position\n",
    "    z_axis_end = np.dot(rot_matrix, [0, 0, frame_size]) + joint_position\n",
    "\n",
    "\n",
    "    p.addUserDebugLine(joint_position, x_axis_end, [1, 0, 0], parentObjectUniqueId=-1, parentLinkIndex=-1)\n",
    "\n",
    "    # Y-axis (green)\n",
    "    p.addUserDebugLine(joint_position, y_axis_end, [0, 1, 0], parentObjectUniqueId=-1, parentLinkIndex=-1)\n",
    "\n",
    "    # Z-axis (blue)\n",
    "    p.addUserDebugLine(joint_position, z_axis_end, [0, 0, 1], parentObjectUniqueId=-1, parentLinkIndex=-1)\n",
    "\n",
    "# Function to update the base position at each time step\n",
    "def ik(humanoid):\n",
    "\n",
    "    joint_poses = []\n",
    "\n",
    "    init_pose = np.zeros(num_joints)\n",
    "\n",
    "    for joint_index, angle in enumerate(init_pose):\n",
    "        p.resetJointState(humanoid, joint_index, angle)\n",
    "    \n",
    "    l_shoulder_pos, _ = p.getLinkState(\n",
    "        humanoid, joint_names.index(\"left_shoulder_roll_joint\")\n",
    "    )[4:6]\n",
    "    r_shoulder_pos, _ = p.getLinkState(\n",
    "        humanoid, joint_names.index(\"right_shoulder_roll_joint\")\n",
    "    )[4:6]\n",
    "    l_hip_pos, _ = p.getLinkState(humanoid, joint_names.index(\"left_hip_pitch_joint\"))[4:6]\n",
    "    r_hip_pos, _ = p.getLinkState(humanoid, joint_names.index(\"right_hip_pitch_joint\"))[4:6]\n",
    "\n",
    "    for i in range(frame_num):\n",
    "        \n",
    "        # IK for l hand\n",
    "        l_elbow_pos = np.array(l_shoulder_pos) + l_upperarm_dir[i] * upperarm_len\n",
    "        \n",
    "        # IK for r hand\n",
    "        r_elbow_pos = np.array(r_shoulder_pos) + r_upperarm_dir[i] * upperarm_len\n",
    "\n",
    "        # IK for l foot\n",
    "        l_ankle_pos = np.array(l_hip_pos) + l_thigh_dir[i] * thigh_len + l_calf_dir[i] * calf_len\n",
    "\n",
    "        # IK for r foot\n",
    "        r_ankle_pos = np.array(r_hip_pos) + r_thigh_dir[i] * thigh_len + r_calf_dir[i] * calf_len\n",
    "\n",
    "        # # Calculate the IK solution\n",
    "        ik_solution_rh = p.calculateInverseKinematics(\n",
    "            humanoid,\n",
    "            joint_names.index(\"right_elbow_joint\"),\n",
    "            r_elbow_pos,\n",
    "            targetOrientation = r_elbow_rot[i],\n",
    "            jointDamping=[0.1] * num_joints,  # Adjust damping as needed\n",
    "            lowerLimits=joint_lower_limits,\n",
    "            upperLimits=joint_upper_limits,\n",
    "            jointRanges=[j_upper - j_lower for j_upper, j_lower in zip(joint_upper_limits, joint_lower_limits)],\n",
    "            restPoses=[0.0] * num_joints,  # Initial joint angles\n",
    "        )\n",
    "\n",
    "        ik_solution_lh = p.calculateInverseKinematics(\n",
    "            humanoid,\n",
    "            joint_names.index(\"left_elbow_joint\"),\n",
    "            l_elbow_pos,\n",
    "            targetOrientation = l_elbow_rot[i],\n",
    "            jointDamping=[0.1] * num_joints,  # Adjust damping as needed\n",
    "            lowerLimits=joint_lower_limits,\n",
    "            upperLimits=joint_upper_limits,\n",
    "            jointRanges=[j_upper - j_lower for j_upper, j_lower in zip(joint_upper_limits, joint_lower_limits)],\n",
    "            restPoses=[0.0] * num_joints,  # Initial joint anglesss\n",
    "        )\n",
    "\n",
    "        ik_solution_rf = p.calculateInverseKinematics(\n",
    "            humanoid,\n",
    "            joint_names.index(\"right_ankle_joint\"),\n",
    "            r_ankle_pos,\n",
    "            targetOrientation = r_ankle_rot[i],\n",
    "            jointDamping=[0.1] * num_joints,  # Adjust damping as needed\n",
    "            lowerLimits=joint_lower_limits,\n",
    "            upperLimits=joint_upper_limits,\n",
    "            jointRanges=[j_upper - j_lower for j_upper, j_lower in zip(joint_upper_limits, joint_lower_limits)],\n",
    "            restPoses=[0.0] * num_joints,  # Initial joint angles\n",
    "        )\n",
    "\n",
    "        ik_solution_lf = p.calculateInverseKinematics(\n",
    "            humanoid,\n",
    "            joint_names.index(\"left_ankle_joint\"),\n",
    "            l_ankle_pos,\n",
    "            targetOrientation = l_ankle_rot[i],\n",
    "            jointDamping=[0.1] * num_joints,  # Adjust damping as needed\n",
    "            lowerLimits=joint_lower_limits,\n",
    "            upperLimits=joint_upper_limits,\n",
    "            jointRanges=[j_upper - j_lower for j_upper, j_lower in zip(joint_upper_limits, joint_lower_limits)],\n",
    "            restPoses=[0.0] * num_joints,  # Initial joint angles\n",
    "        )\n",
    "\n",
    "        # p.resetJointState(humanoid, joint_index, ik_solution)\n",
    "\n",
    "        ik_solution = np.zeros(num_joints)\n",
    "        ik_solution[:5] = ik_solution_lf[:5]\n",
    "        ik_solution[5:10] = ik_solution_rf[5:10]\n",
    "        ik_solution[11:15] = ik_solution_lh[11:15]\n",
    "        ik_solution[15:19] = ik_solution_rh[15:19]\n",
    "\n",
    "        # ik_solution = np.clip(ik_solution, joint_lower_limits, joint_upper_limits)\n",
    "        # Set the joint angles to achieve the IK solution\n",
    "        # print(ik_solution)\n",
    "        for joint_index, angle in enumerate(ik_solution):\n",
    "            p.resetJointState(humanoid, joint_index, angle)\n",
    "        \n",
    "        # create_joint_frame_visualization(humanoid, joint_names.index(\"left_hand_link\"))\n",
    "        # create_joint_frame_visualization(humanoid, joint_names.index(\"right_hand_link\"))\n",
    "        # create_joint_frame_visualization(humanoid, joint_names.index(\"left_ankle\"))\n",
    "        # create_joint_frame_visualization(humanoid, joint_names.index(\"right_ankle\"))\n",
    "\n",
    "        # Step the simulation\n",
    "        p.stepSimulation()\n",
    "        # time.sleep(0.5)\n",
    "        # print(i)\n",
    "        joint_poses.append(ik_solution)\n",
    "    p.disconnect()\n",
    "    return joint_poses"
   ]
  },
  {
   "cell_type": "code",
   "execution_count": 11,
   "metadata": {},
   "outputs": [
    {
     "name": "stdout",
     "output_type": "stream",
     "text": [
      "startThreads creating 1 threads.\n",
      "starting thread 0\n",
      "started thread 0 \n",
      "argc=2\n",
      "argv[0] = --unused\n",
      "argv[1] = --start_demo_name=Physics Server\n",
      "ExampleBrowserThreadFunc started\n",
      "X11 functions dynamically loaded using dlopen/dlsym OK!\n",
      "X11 functions dynamically loaded using dlopen/dlsym OK!\n",
      "Creating context\n",
      "Created GL 3.3 context\n",
      "Direct GLX rendering context obtained\n",
      "Making context current\n",
      "GL_VENDOR=NVIDIA Corporation\n",
      "GL_RENDERER=NVIDIA Graphics Device/PCIe/SSE2\n",
      "GL_VERSION=3.3.0 NVIDIA 520.61.05\n",
      "GL_SHADING_LANGUAGE_VERSION=3.30 NVIDIA via Cg compiler\n",
      "pthread_getconcurrency()=0\n",
      "Version = 3.3.0 NVIDIA 520.61.05\n",
      "Vendor = NVIDIA Corporation\n",
      "Renderer = NVIDIA Graphics Device/PCIe/SSE2\n",
      "b3Printf: Selected demo: Physics Server\n",
      "startThreads creating 1 threads.\n",
      "starting thread 0\n",
      "started thread 0 \n",
      "MotionThreadFunc thread started\n",
      "ven = NVIDIA Corporation\n",
      "b3Printf: b3Warning[examples/Importers/ImportURDFDemo/BulletUrdfImporter.cpp,126]:\n",
      "\n",
      "b3Printf: No inertial data for link, using mass=1, localinertiadiagonal = 1,1,1, identity local inertial frame\n",
      "b3Printf: b3Warning[examples/Importers/ImportURDFDemo/BulletUrdfImporter.cpp,126]:\n",
      "\n",
      "b3Printf: imu_link\n",
      "b3Printf: b3Warning[examples/Importers/ImportURDFDemo/BulletUrdfImporter.cpp,126]:\n",
      "\n",
      "b3Printf: No inertial data for link, using mass=1, localinertiadiagonal = 1,1,1, identity local inertial frame\n",
      "b3Printf: b3Warning[examples/Importers/ImportURDFDemo/BulletUrdfImporter.cpp,126]:\n",
      "\n",
      "b3Printf: logo_link\n",
      "ven = NVIDIA Corporation\n",
      "numActiveThreads = 0\n",
      "stopping threads\n",
      "Thread with taskId 0 exiting\n",
      "Thread TERMINATED\n",
      "destroy semaphore\n",
      "semaphore destroyed\n",
      "destroy main semaphore\n",
      "main semaphore destroyed\n",
      "finished\n",
      "numActiveThreads = 0\n",
      "btShutDownExampleBrowser stopping threads\n",
      "Thread with taskId 0 exiting\n",
      "Thread TERMINATED\n",
      "destroy semaphore\n",
      "semaphore destroyed\n",
      "destroy main semaphore\n",
      "main semaphore destroyed\n"
     ]
    }
   ],
   "source": [
    "robot_urdf = \"/home/jianrenw/Research/humanoid_parkour/retarget/h1_description/urdf/h1.urdf\"\n",
    "\n",
    "physicsClient = p.connect(p.GUI)  # or p.DIRECT for non-graphical version\n",
    "p.setAdditionalSearchPath(pybullet_data.getDataPath())  # used by loadURDF\n",
    "robot_start_pos = [0, 0, 0]\n",
    "robot_start_orientation = p.getQuaternionFromEuler([0, 0, 0])\n",
    "\n",
    "humanoid = p.loadURDF(robot_urdf, robot_start_pos, robot_start_orientation)\n",
    "\n",
    "# Start the base position update loop\n",
    "joint_poses = ik(humanoid)"
   ]
  },
  {
   "cell_type": "markdown",
   "metadata": {},
   "source": [
    "## Save Video"
   ]
  },
  {
   "cell_type": "code",
   "execution_count": 12,
   "metadata": {},
   "outputs": [
    {
     "name": "stdout",
     "output_type": "stream",
     "text": [
      "startThreads creating 1 threads.\n",
      "starting thread 0\n",
      "started thread 0 \n",
      "argc=2\n",
      "argv[0] = --unused\n",
      "argv[1] = --start_demo_name=Physics Server\n",
      "ExampleBrowserThreadFunc started\n",
      "X11 functions dynamically loaded using dlopen/dlsym OK!\n",
      "X11 functions dynamically loaded using dlopen/dlsym OK!\n",
      "Creating context\n",
      "Created GL 3.3 context\n",
      "Direct GLX rendering context obtained\n",
      "Making context current\n",
      "GL_VENDOR=NVIDIA Corporation\n",
      "GL_RENDERER=NVIDIA Graphics Device/PCIe/SSE2\n",
      "GL_VERSION=3.3.0 NVIDIA 520.61.05\n",
      "GL_SHADING_LANGUAGE_VERSION=3.30 NVIDIA via Cg compiler\n",
      "pthread_getconcurrency()=0\n",
      "Version = 3.3.0 NVIDIA 520.61.05\n",
      "Vendor = NVIDIA Corporation\n",
      "Renderer = NVIDIA Graphics Device/PCIe/SSE2\n",
      "b3Printf: Selected demo: Physics Server\n",
      "startThreads creating 1 threads.\n",
      "starting thread 0\n",
      "started thread 0 \n",
      "MotionThreadFunc thread started\n",
      "ven = NVIDIA Corporation\n",
      "b3Printf: b3Warning[examples/Importers/ImportURDFDemo/BulletUrdfImporter.cpp,126]:\n",
      "\n",
      "b3Printf: No inertial data for link, using mass=1, localinertiadiagonal = 1,1,1, identity local inertial frame\n",
      "b3Printf: b3Warning[examples/Importers/ImportURDFDemo/BulletUrdfImporter.cpp,126]:\n",
      "\n",
      "b3Printf: imu_link\n",
      "b3Printf: b3Warning[examples/Importers/ImportURDFDemo/BulletUrdfImporter.cpp,126]:\n",
      "\n",
      "b3Printf: No inertial data for link, using mass=1, localinertiadiagonal = 1,1,1, identity local inertial frame\n",
      "b3Printf: b3Warning[examples/Importers/ImportURDFDemo/BulletUrdfImporter.cpp,126]:\n",
      "\n",
      "b3Printf: logo_link\n",
      "ven = NVIDIA Corporation\n"
     ]
    },
    {
     "name": "stderr",
     "output_type": "stream",
     "text": [
      "ffmpeg version 4.2.7-0ubuntu0.1 Copyright (c) 2000-2022 the FFmpeg developers\n",
      "  built with gcc 9 (Ubuntu 9.4.0-1ubuntu1~20.04.1)\n",
      "  configuration: --prefix=/usr --extra-version=0ubuntu0.1 --toolchain=hardened --libdir=/usr/lib/x86_64-linux-gnu --incdir=/usr/include/x86_64-linux-gnu --arch=amd64 --enable-gpl --disable-stripping --enable-avresample --disable-filter=resample --enable-avisynth --enable-gnutls --enable-ladspa --enable-libaom --enable-libass --enable-libbluray --enable-libbs2b --enable-libcaca --enable-libcdio --enable-libcodec2 --enable-libflite --enable-libfontconfig --enable-libfreetype --enable-libfribidi --enable-libgme --enable-libgsm --enable-libjack --enable-libmp3lame --enable-libmysofa --enable-libopenjpeg --enable-libopenmpt --enable-libopus --enable-libpulse --enable-librsvg --enable-librubberband --enable-libshine --enable-libsnappy --enable-libsoxr --enable-libspeex --enable-libssh --enable-libtheora --enable-libtwolame --enable-libvidstab --enable-libvorbis --enable-libvpx --enable-libwavpack --enable-libwebp --enable-libx265 --enable-libxml2 --enable-libxvid --enable-libzmq --enable-libzvbi --enable-lv2 --enable-omx --enable-openal --enable-opencl --enable-opengl --enable-sdl2 --enable-libdc1394 --enable-libdrm --enable-libiec61883 --enable-nvenc --enable-chromaprint --enable-frei0r --enable-libx264 --enable-shared\n",
      "  libavutil      56. 31.100 / 56. 31.100\n",
      "  libavcodec     58. 54.100 / 58. 54.100\n",
      "  libavformat    58. 29.100 / 58. 29.100\n",
      "  libavdevice    58.  8.100 / 58.  8.100\n",
      "  libavfilter     7. 57.100 /  7. 57.100\n",
      "  libavresample   4.  0.  0 /  4.  0.  0\n",
      "  libswscale      5.  5.100 /  5.  5.100\n",
      "  libswresample   3.  5.100 /  3.  5.100\n",
      "  libpostproc    55.  5.100 / 55.  5.100\n",
      "Input #0, rawvideo, from 'pipe:':\n",
      "  Duration: N/A, start: 0.000000, bitrate: 6702074 kb/s\n",
      "    Stream #0:0: Video: rawvideo (RGBA / 0x41424752), rgba, 2488x1403, 6702074 kb/s, 60 tbr, 60 tbn, 60 tbc\n",
      "Stream mapping:\n",
      "  Stream #0:0 -> #0:0 (rawvideo (native) -> h264 (libx264))\n",
      "[libx264 @ 0x55a53aa99bc0] height not divisible by 2 (2488x1403)\n",
      "Error initializing output stream 0:0 -- Error while opening encoder for output stream #0:0 - maybe incorrect parameters such as bit_rate, rate, width or height\n",
      "Conversion failed!\n"
     ]
    },
    {
     "name": "stdout",
     "output_type": "stream",
     "text": [
      "numActiveThreads = 0\n",
      "stopping threads\n",
      "Thread with taskId 0 exiting\n",
      "Thread TERMINATED\n",
      "destroy semaphore\n",
      "semaphore destroyed\n",
      "destroy main semaphore\n",
      "main semaphore destroyed\n",
      "finished\n",
      "numActiveThreads = 0\n",
      "btShutDownExampleBrowser stopping threads\n",
      "destroy semaphore\n",
      "semaphore destroyed\n",
      "Thread with taskId 0 exiting\n",
      "Thread TERMINATED\n",
      "destroy main semaphore\n",
      "main semaphore destroyed\n"
     ]
    }
   ],
   "source": [
    "robot_urdf = \"/home/jianrenw/Research/humanoid_parkour/retarget/h1_description/urdf/h1.urdf\"\n",
    "\n",
    "physicsClient = p.connect(p.GUI)  # or p.DIRECT for non-graphical version\n",
    "p.setAdditionalSearchPath(pybullet_data.getDataPath())  # used by loadURDF\n",
    "robot_start_pos = [0, 0, 0]\n",
    "robot_start_orientation = p.getQuaternionFromEuler([0, 0, 0])\n",
    "\n",
    "humanoid = p.loadURDF(robot_urdf, robot_start_pos, robot_start_orientation)\n",
    "\n",
    "video_filename = \"simulation_h1_video.mp4\"\n",
    "frame_width = 1280  # Adjust the frame width as needed\n",
    "frame_height = 720  # Adjust the frame height as needed\n",
    "frame_rate = 30  # Adjust the frame rate (frames per second) as needed\n",
    "\n",
    "\n",
    "time.sleep(5)\n",
    "\n",
    "p.startStateLogging(p.STATE_LOGGING_VIDEO_MP4, video_filename)\n",
    "\n",
    "for i in range(frame_num):\n",
    "    key_t = translation[i] / 100\n",
    "    key_r = base_rot[i]\n",
    "    p.resetBasePositionAndOrientation(humanoid, key_t[0].tolist(), key_r.tolist())\n",
    "    for joint_index, angle in enumerate(joint_poses[i]):\n",
    "        p.resetJointState(humanoid, joint_index, angle)\n",
    "    p.stepSimulation()\n",
    "    time.sleep(5.0 / frame_rate)\n",
    "\n",
    "\n",
    "p.stopStateLogging(p.STATE_LOGGING_VIDEO_MP4)\n",
    "p.disconnect()"
   ]
  },
  {
   "cell_type": "code",
   "execution_count": 10,
   "metadata": {},
   "outputs": [
    {
     "data": {
      "text/plain": [
       "array([[ 0.16987518,  0.01599213, -0.34437726, ...,  0.06131537,\n",
       "         0.        ,  0.        ],\n",
       "       [ 0.19750815,  0.02771593, -0.55568496, ..., -0.09586451,\n",
       "         0.        ,  0.        ],\n",
       "       [ 0.19737979,  0.02682791, -0.61939508, ..., -0.09432242,\n",
       "         0.        ,  0.        ],\n",
       "       ...,\n",
       "       [ 0.28426226, -0.16334513, -0.49797419, ...,  0.18871116,\n",
       "         0.        ,  0.        ],\n",
       "       [ 0.2775931 , -0.17256745, -0.45473287, ...,  0.20171518,\n",
       "         0.        ,  0.        ],\n",
       "       [ 0.27887362, -0.17523028, -0.43649568, ...,  0.20163231,\n",
       "         0.        ,  0.        ]])"
      ]
     },
     "execution_count": 10,
     "metadata": {},
     "output_type": "execute_result"
    }
   ],
   "source": [
    "np.array(joint_poses)"
   ]
  },
  {
   "cell_type": "code",
   "execution_count": null,
   "metadata": {},
   "outputs": [],
   "source": []
  }
 ],
 "metadata": {
  "kernelspec": {
   "display_name": "Python 3",
   "language": "python",
   "name": "python3"
  },
  "language_info": {
   "codemirror_mode": {
    "name": "ipython",
    "version": 3
   },
   "file_extension": ".py",
   "mimetype": "text/x-python",
   "name": "python",
   "nbconvert_exporter": "python",
   "pygments_lexer": "ipython3",
   "version": "3.10.13"
  }
 },
 "nbformat": 4,
 "nbformat_minor": 2
}
