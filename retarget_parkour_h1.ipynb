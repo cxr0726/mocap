{
 "cells": [
  {
   "cell_type": "code",
   "execution_count": 14,
   "metadata": {
    "pycharm": {
     "is_executing": true
    }
   },
   "outputs": [],
   "source": [
    "import pybullet as p\n",
    "import pybullet_data\n",
    "import argparse\n",
    "import numpy as np\n",
    "import os\n",
    "import os.path as osp\n",
    "import joblib\n",
    "from scipy.spatial.transform import Rotation as R\n",
    "from tqdm import tqdm\n",
    "import sys\n",
    "from contextlib import contextmanager\n",
    "from multiprocessing import Pool\n",
    "import time\n",
    "import plotly\n",
    "import plotly.graph_objs as go\n",
    "import json\n",
    "import trimesh"
   ]
  },
  {
   "cell_type": "code",
   "execution_count": 289,
   "metadata": {},
   "outputs": [],
   "source": [
    "# file_name = \"data/parkour/motion/parkour-forward-roll.json\"\n",
    "file_name = \"data/parkour/all_traj.json\"\n",
    "# file_name = \"data/parkour/try_poses.json\"\n",
    "with open(file_name) as file:\n",
    "    motion = json.load(file)\n",
    "\n",
    "mesh_file_name = \"data/parkour/object/Parkour_Speed Vault(L)/obj.obj\"\n",
    "mesh = trimesh.load(mesh_file_name)\n",
    "vertices = mesh.vertices\n",
    "vertices = mesh.vertices / 100"
   ]
  },
  {
   "cell_type": "code",
   "execution_count": 350,
   "metadata": {},
   "outputs": [],
   "source": [
    "pelvis = np.array(motion[\"CC_Base_Pelvis\"])\n",
    "\n",
    "l_upperarm = np.array(motion[\"CC_Base_L_Upperarm\"])\n",
    "l_forearm = np.array(motion[\"CC_Base_L_Forearm\"])\n",
    "l_hand = np.array(motion[\"CC_Base_L_Hand\"])\n",
    "\n",
    "r_upperarm = np.array(motion[\"CC_Base_R_Upperarm\"])\n",
    "r_forearm = np.array(motion[\"CC_Base_R_Forearm\"])\n",
    "r_hand = np.array(motion[\"CC_Base_R_Hand\"])\n",
    "\n",
    "l_thigh = np.array(motion[\"CC_Base_L_Thigh\"])\n",
    "l_calf = np.array(motion[\"CC_Base_L_Calf\"])\n",
    "l_foot = np.array(motion[\"CC_Base_L_Foot\"])\n",
    "l_toe = np.array(motion[\"CC_Base_L_ToeBase\"])\n",
    "\n",
    "r_thigh = np.array(motion[\"CC_Base_R_Thigh\"])\n",
    "r_calf = np.array(motion[\"CC_Base_R_Calf\"])\n",
    "r_foot = np.array(motion[\"CC_Base_R_Foot\"])\n",
    "r_toe = np.array(motion[\"CC_Base_R_ToeBase\"])\n",
    "\n",
    "skeleton = np.array(\n",
    "    [\n",
    "        pelvis,\n",
    "        l_thigh,\n",
    "        l_calf,\n",
    "        l_foot,\n",
    "        l_toe,\n",
    "        l_upperarm,\n",
    "        l_forearm,\n",
    "        l_hand,\n",
    "        r_thigh,\n",
    "        r_calf,\n",
    "        r_foot,\n",
    "        r_toe,\n",
    "        r_upperarm,\n",
    "        r_forearm,\n",
    "        r_hand,\n",
    "    ]\n",
    ")\n",
    "\n",
    "skeleton = skeleton.transpose(1,0,2) / 100"
   ]
  },
  {
   "cell_type": "code",
   "execution_count": 351,
   "metadata": {},
   "outputs": [
    {
     "data": {
      "text/plain": [
       "(10001, 15, 3)"
      ]
     },
     "execution_count": 351,
     "metadata": {},
     "output_type": "execute_result"
    }
   ],
   "source": [
    "skeleton.shape"
   ]
  },
  {
   "cell_type": "code",
   "execution_count": 275,
   "metadata": {},
   "outputs": [
    {
     "name": "stdout",
     "output_type": "stream",
     "text": [
      "44\n"
     ]
    }
   ],
   "source": [
    "new_clip = []\n",
    "for i in range(len(pelvis) - 1):\n",
    "    if np.linalg.norm(skeleton[i, 0] - skeleton[i+1, 0]) > 0.7:\n",
    "        new_clip.append(i)\n",
    "print(len(new_clip))\n",
    "last_frame = 9806"
   ]
  },
  {
   "cell_type": "code",
   "execution_count": 318,
   "metadata": {},
   "outputs": [
    {
     "data": {
      "text/plain": [
       "[167,\n",
       " 330,\n",
       " 663,\n",
       " 949,\n",
       " 1273,\n",
       " 1516,\n",
       " 1774,\n",
       " 2091,\n",
       " 2300,\n",
       " 2431,\n",
       " 2558,\n",
       " 2746,\n",
       " 2915,\n",
       " 3352,\n",
       " 3626,\n",
       " 3799,\n",
       " 3985,\n",
       " 4182,\n",
       " 4367,\n",
       " 4552,\n",
       " 4797,\n",
       " 4980,\n",
       " 5195,\n",
       " 5345,\n",
       " 5525,\n",
       " 5665,\n",
       " 5842,\n",
       " 6006,\n",
       " 6213,\n",
       " 6368,\n",
       " 6568,\n",
       " 6773,\n",
       " 7074,\n",
       " 7332,\n",
       " 7492,\n",
       " 7701,\n",
       " 8101,\n",
       " 8358,\n",
       " 8614,\n",
       " 8884,\n",
       " 9114,\n",
       " 9349,\n",
       " 9507,\n",
       " 9675]"
      ]
     },
     "execution_count": 318,
     "metadata": {},
     "output_type": "execute_result"
    }
   ],
   "source": [
    "new_clip"
   ]
  },
  {
   "cell_type": "code",
   "execution_count": 334,
   "metadata": {},
   "outputs": [],
   "source": [
    "motion_names = ['Parkour_One-handed Rotation',\n",
    "'Parkour_Swan Dive',\n",
    "'Parkour_Underbar Flip',\n",
    "'Parkour_Palmspin Jump',\n",
    "'Parkour_Lache Jump',\n",
    "'Parkour_Reverse-grip Rotation',\n",
    "'Parkour_Reverse Landing',\n",
    "'Parkour_Forward Roll & Side Flip',\n",
    "'Parkour_Climb up(H)',\n",
    "'Parkour_Drop(H)',\n",
    "'Parkour_Climb up(M)',\n",
    "'Parkour_Drop(M) Forward Roll',\n",
    "'Parkour_Drop(M) Side Flip Jump',\n",
    "'Parkour_Climb & Side Flip Jump',\n",
    "'Parkour_Slideway',\n",
    "'Parkour_Reverse Vault',\n",
    "'Parkour_Forward Handspring',\n",
    "'Parkour_Roundoff',\n",
    "'Parkour_Flare',\n",
    "'Parkour_Side Flip Jump',\n",
    "'Parkour_Aerial',\n",
    "'Parkour_360 Backflip',\n",
    "'Parkour_Tic Tac Backflip',\n",
    "'Parkour_Cat Vault',\n",
    "'Parkour_Kash Vault',\n",
    "'Parkour_Speed Vault(L)',\n",
    "'Parkour_Speed Vault(R)',\n",
    "'Parkour_Back Roll Axel Jump',\n",
    "'Parkour_Webster',\n",
    "'Parkour_Side Flip',\n",
    "'Parkour_Hands Cork',\n",
    "'Parkour_Cork & Roll',\n",
    "'Parkour_Kong Combo',\n",
    "'Parkour_Wall Hop',\n",
    "'Parkour_Drop Running',\n",
    "'Parkour_Sit Drop',\n",
    "'Parkour_Precision Jump',\n",
    "'Parkour_Flapping Jump & Roll',\n",
    "'Parkour_Turn Vault',\n",
    "'Parkour_Back Flip',\n",
    "'Parkour_Roll & Flip',\n",
    "'Parkour_Aerial x3',\n",
    "'Parkour_Slow Down',\n",
    "'Parkour_Forward Roll',\n",
    "'Parkour_Hook Slide']"
   ]
  },
  {
   "cell_type": "code",
   "execution_count": 335,
   "metadata": {},
   "outputs": [],
   "source": [
    "string_count = {}\n",
    "\n",
    "for item in motion_names:\n",
    "    if item in string_count:\n",
    "        string_count[item] += 1\n",
    "    else:\n",
    "        string_count[item] = 1\n",
    "\n",
    "for string, count in string_count.items():\n",
    "    if count > 1:\n",
    "        print(f\"The string '{string}' appears {count} times in the list.\")"
   ]
  },
  {
   "cell_type": "code",
   "execution_count": 336,
   "metadata": {},
   "outputs": [
    {
     "data": {
      "text/plain": [
       "45"
      ]
     },
     "execution_count": 336,
     "metadata": {},
     "output_type": "execute_result"
    }
   ],
   "source": [
    "a = set(motion_names)\n",
    "len(a)"
   ]
  },
  {
   "cell_type": "code",
   "execution_count": 337,
   "metadata": {},
   "outputs": [
    {
     "name": "stdout",
     "output_type": "stream",
     "text": [
      "Parkour_Webster\n"
     ]
    }
   ],
   "source": [
    "for motion_name in motion_names:\n",
    "    if not osp.isfile(f\"data/parkour/motions/{motion_name}.npy\"):\n",
    "        print(motion_name)"
   ]
  },
  {
   "cell_type": "code",
   "execution_count": 355,
   "metadata": {},
   "outputs": [
    {
     "name": "stdout",
     "output_type": "stream",
     "text": [
      "0\n",
      "0 167\n",
      "(167, 15, 3)\n",
      "1\n",
      "168 330\n",
      "(162, 15, 3)\n",
      "2\n",
      "331 663\n",
      "(332, 15, 3)\n",
      "3\n",
      "664 949\n",
      "(285, 15, 3)\n",
      "4\n",
      "950 1273\n",
      "(323, 15, 3)\n",
      "5\n",
      "1274 1516\n",
      "(242, 15, 3)\n",
      "6\n",
      "1517 1774\n",
      "(257, 15, 3)\n",
      "7\n",
      "1775 2091\n",
      "(316, 15, 3)\n",
      "8\n",
      "2092 2300\n",
      "(208, 15, 3)\n",
      "9\n",
      "2301 2431\n",
      "(130, 15, 3)\n",
      "10\n",
      "2432 2558\n",
      "(126, 15, 3)\n",
      "11\n",
      "2559 2746\n",
      "(187, 15, 3)\n",
      "12\n",
      "2747 2915\n",
      "(168, 15, 3)\n",
      "13\n",
      "2916 3352\n",
      "(436, 15, 3)\n",
      "14\n",
      "3353 3626\n",
      "(273, 15, 3)\n",
      "15\n",
      "3627 3799\n",
      "(172, 15, 3)\n",
      "16\n",
      "3800 3985\n",
      "(185, 15, 3)\n",
      "17\n",
      "3986 4182\n",
      "(196, 15, 3)\n",
      "18\n",
      "4183 4367\n",
      "(184, 15, 3)\n",
      "19\n",
      "4368 4552\n",
      "(184, 15, 3)\n",
      "20\n",
      "4553 4797\n",
      "(244, 15, 3)\n",
      "21\n",
      "4798 4980\n",
      "(182, 15, 3)\n",
      "22\n",
      "4981 5195\n",
      "(214, 15, 3)\n",
      "23\n",
      "5196 5345\n",
      "(149, 15, 3)\n",
      "24\n",
      "5346 5525\n",
      "(179, 15, 3)\n",
      "25\n",
      "5526 5665\n",
      "(139, 15, 3)\n",
      "26\n",
      "5666 5842\n",
      "(176, 15, 3)\n",
      "27\n",
      "5843 6006\n",
      "(163, 15, 3)\n",
      "28\n",
      "6007 6213\n",
      "(206, 15, 3)\n",
      "29\n",
      "6214 6368\n",
      "(154, 15, 3)\n",
      "30\n",
      "6369 6568\n",
      "(199, 15, 3)\n",
      "31\n",
      "6569 6773\n",
      "(204, 15, 3)\n",
      "32\n",
      "6774 7074\n",
      "(300, 15, 3)\n",
      "33\n",
      "7075 7332\n",
      "(257, 15, 3)\n",
      "34\n",
      "7333 7492\n",
      "(159, 15, 3)\n",
      "35\n",
      "7493 7701\n",
      "(208, 15, 3)\n",
      "36\n",
      "7702 8101\n",
      "(399, 15, 3)\n",
      "37\n",
      "8102 8358\n",
      "(256, 15, 3)\n",
      "38\n",
      "8359 8614\n",
      "(255, 15, 3)\n",
      "39\n",
      "8615 8884\n",
      "(269, 15, 3)\n",
      "40\n",
      "8885 9114\n",
      "(229, 15, 3)\n",
      "41\n",
      "9115 9349\n",
      "(234, 15, 3)\n",
      "42\n",
      "9350 9507\n",
      "(157, 15, 3)\n",
      "43\n",
      "9508 9675\n",
      "(167, 15, 3)\n",
      "44\n",
      "9676 9806\n",
      "(130, 15, 3)\n"
     ]
    }
   ],
   "source": [
    "for i in range(len(new_clip) + 1):\n",
    "    if i == 0:\n",
    "        start = 0\n",
    "    else:\n",
    "        start = new_clip[i-1] + 1\n",
    "    if i == len(new_clip):\n",
    "        end = last_frame\n",
    "    else:\n",
    "        end = new_clip[i]\n",
    "    print(start, end)\n",
    "    skeleton_clip = skeleton[start:end]\n",
    "    print(skeleton_clip.shape)\n",
    "    np.save(f\"data/parkour/motions/{motion_names[i]}.npy\", skeleton_clip[:,:,[2,0,1]])"
   ]
  },
  {
   "cell_type": "code",
   "execution_count": 354,
   "metadata": {},
   "outputs": [
    {
     "data": {
      "text/plain": [
       "(130, 15, 3)"
      ]
     },
     "execution_count": 354,
     "metadata": {},
     "output_type": "execute_result"
    }
   ],
   "source": [
    "skeleton[start:end].shape"
   ]
  },
  {
   "cell_type": "code",
   "execution_count": 339,
   "metadata": {},
   "outputs": [
    {
     "data": {
      "text/plain": [
       "2"
      ]
     },
     "execution_count": 339,
     "metadata": {},
     "output_type": "execute_result"
    }
   ],
   "source": [
    "a = trimesh.load('data/parkour/object/Parkour_Lache Jump/obj.obj')\n",
    "len(a.geometry)"
   ]
  },
  {
   "cell_type": "code",
   "execution_count": 342,
   "metadata": {},
   "outputs": [],
   "source": [
    "folders = os.listdir('data/parkour/object')\n",
    "for folder in folders:\n",
    "    if not osp.isfile(f\"data/parkour/objects/{folder}.obj\"):\n",
    "        print(folder)"
   ]
  },
  {
   "cell_type": "code",
   "execution_count": 359,
   "metadata": {},
   "outputs": [],
   "source": [
    "for motion_name in motion_names:\n",
    "    if osp.isfile(f\"data/parkour/object/{motion_name}/obj.obj\"):\n",
    "        mesh = trimesh.load(f\"data/parkour/object/{motion_name}/obj.obj\")\n",
    "        if isinstance(mesh, trimesh.Scene):\n",
    "            scene = trimesh.Scene()\n",
    "            for i, geometry in enumerate(mesh.geometry.values()):\n",
    "                vertices = geometry.vertices.copy()\n",
    "                vertices = vertices[:, [2,0,1]] / 100\n",
    "                scene.add_geometry(trimesh.Trimesh(vertices, geometry.faces))\n",
    "            scene.export(f\"data/parkour/objects/{motion_name}.obj\")\n",
    "        else:\n",
    "            vertices = mesh.vertices.copy()\n",
    "            vertices = vertices[:, [2,0,1]] / 100\n",
    "            new_mesh = trimesh.Trimesh(vertices, mesh.faces)\n",
    "            new_mesh.export(f\"data/parkour/objects/{motion_name}.obj\")"
   ]
  },
  {
   "cell_type": "code",
   "execution_count": 360,
   "metadata": {},
   "outputs": [],
   "source": [
    "skeleton = np.load(f\"data/parkour/motions/{'Parkour_Speed Vault(L)'}.npy\")\n",
    "obstacle = trimesh.load(f\"data/parkour/objects/{'Parkour_Speed Vault(L)'}.obj\")\n",
    "vertices = obstacle.vertices"
   ]
  },
  {
   "cell_type": "code",
   "execution_count": 361,
   "metadata": {},
   "outputs": [
    {
     "data": {
      "text/plain": [
       "(139, 15, 3)"
      ]
     },
     "execution_count": 361,
     "metadata": {},
     "output_type": "execute_result"
    }
   ],
   "source": [
    "skeleton.shape"
   ]
  },
  {
   "cell_type": "code",
   "execution_count": 362,
   "metadata": {},
   "outputs": [
    {
     "data": {
      "application/vnd.plotly.v1+json": {
       "config": {
        "plotlyServerURL": "https://plot.ly"
       },
       "data": [
        {
         "line": {
          "color": "red",
          "width": 4
         },
         "mode": "lines",
         "type": "scatter3d",
         "x": [
          -2.441674178706033,
          -2.436386541959402
         ],
         "y": [
          0.6085159098129417,
          0.7024894119361812
         ],
         "z": [
          0.9200795204663622,
          0.8936831119447689
         ]
        },
        {
         "line": {
          "color": "red",
          "width": 4
         },
         "mode": "lines",
         "type": "scatter3d",
         "x": [
          -2.436386541959402,
          -2.198966243244681
         ],
         "y": [
          0.7024894119361812,
          0.6910596806251603
         ],
         "z": [
          0.8936831119447689,
          0.5331853728783902
         ]
        },
        {
         "line": {
          "color": "red",
          "width": 4
         },
         "mode": "lines",
         "type": "scatter3d",
         "x": [
          -2.198966243244681,
          -2.277524007186694
         ],
         "y": [
          0.6910596806251603,
          0.7000782253980183
         ],
         "z": [
          0.5331853728783902,
          0.06115670347704252
         ]
        },
        {
         "line": {
          "color": "red",
          "width": 4
         },
         "mode": "lines",
         "type": "scatter3d",
         "x": [
          -2.277524007186694,
          -2.1230725858791475
         ],
         "y": [
          0.7000782253980183,
          0.7084631133706111
         ],
         "z": [
          0.06115670347704252,
          0.03046980821954854
         ]
        },
        {
         "line": {
          "color": "red",
          "width": 4
         },
         "mode": "lines",
         "type": "scatter3d",
         "x": [
          -2.441674178706033,
          -2.1943263268786217
         ],
         "y": [
          0.6085159098129417,
          0.7836426214368959
         ],
         "z": [
          0.9200795204663622,
          1.3116565481897593
         ]
        },
        {
         "line": {
          "color": "red",
          "width": 4
         },
         "mode": "lines",
         "type": "scatter3d",
         "x": [
          -2.1943263268786217,
          -2.3602113074801725
         ],
         "y": [
          0.7836426214368959,
          0.8798964338804357
         ],
         "z": [
          1.3116565481897593,
          1.1470161033955486
         ]
        },
        {
         "line": {
          "color": "red",
          "width": 4
         },
         "mode": "lines",
         "type": "scatter3d",
         "x": [
          -2.3602113074801725,
          -2.284914229538133
         ],
         "y": [
          0.8798964338804357,
          0.8381450338006269
         ],
         "z": [
          1.1470161033955486,
          0.8912887078713451
         ]
        },
        {
         "line": {
          "color": "red",
          "width": 4
         },
         "mode": "lines",
         "type": "scatter3d",
         "x": [
          -2.441674178706033,
          -2.457597871406814
         ],
         "y": [
          0.6085159098129417,
          0.5147967309876461
         ],
         "z": [
          0.9200795204663622,
          0.8972997379304392
         ]
        },
        {
         "line": {
          "color": "red",
          "width": 4
         },
         "mode": "lines",
         "type": "scatter3d",
         "x": [
          -2.457597871406814,
          -2.460931735123059
         ],
         "y": [
          0.5147967309876461,
          0.48096804627255724
         ],
         "z": [
          0.8972997379304392,
          0.4668327640905364
         ]
        },
        {
         "line": {
          "color": "red",
          "width": 4
         },
         "mode": "lines",
         "type": "scatter3d",
         "x": [
          -2.460931735123059,
          -2.840803075416584
         ],
         "y": [
          0.48096804627255724,
          0.46442356506195454
         ],
         "z": [
          0.4668327640905364,
          0.17616822013829384
         ]
        },
        {
         "line": {
          "color": "red",
          "width": 4
         },
         "mode": "lines",
         "type": "scatter3d",
         "x": [
          -2.840803075416584,
          -2.794915366148282
         ],
         "y": [
          0.46442356506195454,
          0.45519339774969436
         ],
         "z": [
          0.17616822013829384,
          0.02563653252749651
         ]
        },
        {
         "line": {
          "color": "red",
          "width": 4
         },
         "mode": "lines",
         "type": "scatter3d",
         "x": [
          -2.441674178706033,
          -2.1963982015407435
         ],
         "y": [
          0.6085159098129417,
          0.4051500601959839
         ],
         "z": [
          0.9200795204663622,
          1.3032903316091755
         ]
        },
        {
         "line": {
          "color": "red",
          "width": 4
         },
         "mode": "lines",
         "type": "scatter3d",
         "x": [
          -2.1963982015407435,
          -2.2972406884614776
         ],
         "y": [
          0.4051500601959839,
          0.31163318851232946
         ],
         "z": [
          1.3032903316091755,
          1.0912043008176044
         ]
        },
        {
         "line": {
          "color": "red",
          "width": 4
         },
         "mode": "lines",
         "type": "scatter3d",
         "x": [
          -2.2972406884614776,
          -2.127777439015456
         ],
         "y": [
          0.31163318851232946,
          0.42294511796150575
         ],
         "z": [
          1.0912043008176044,
          0.9131555261140014
         ]
        },
        {
         "line": {
          "color": "red",
          "width": 4
         },
         "mode": "lines",
         "type": "scatter3d",
         "x": [
          -0.6545062259069876,
          -0.6030777249037191
         ],
         "y": [
          0.3817232728217823,
          0.4276950696413661
         ],
         "z": [
          1.0483425794316061,
          0.9790789660614907
         ]
        },
        {
         "line": {
          "color": "red",
          "width": 4
         },
         "mode": "lines",
         "type": "scatter3d",
         "x": [
          -0.6030777249037191,
          -0.23974852237236222
         ],
         "y": [
          0.4276950696413661,
          0.1972933235821031
         ],
         "z": [
          0.9790789660614907,
          1.0160157561408345
         ]
        },
        {
         "line": {
          "color": "red",
          "width": 4
         },
         "mode": "lines",
         "type": "scatter3d",
         "x": [
          -0.23974852237236222,
          0.05517768334801168
         ],
         "y": [
          0.1972933235821031,
          -0.04084907039669933
         ],
         "z": [
          1.0160157561408345,
          0.7238338617163774
         ]
        },
        {
         "line": {
          "color": "red",
          "width": 4
         },
         "mode": "lines",
         "type": "scatter3d",
         "x": [
          0.05517768334801168,
          0.16452555586515316
         ],
         "y": [
          -0.04084907039669933,
          0.020869775595359467
         ],
         "z": [
          0.7238338617163774,
          0.8192331066335115
         ]
        },
        {
         "line": {
          "color": "red",
          "width": 4
         },
         "mode": "lines",
         "type": "scatter3d",
         "x": [
          -0.6545062259069876,
          -0.6637861771943103
         ],
         "y": [
          0.3817232728217823,
          0.8229083754789264
         ],
         "z": [
          1.0483425794316061,
          1.1918975112570196
         ]
        },
        {
         "line": {
          "color": "red",
          "width": 4
         },
         "mode": "lines",
         "type": "scatter3d",
         "x": [
          -0.6637861771943103,
          -0.6947465887224379
         ],
         "y": [
          0.8229083754789264,
          0.7927482601244858
         ],
         "z": [
          1.1918975112570196,
          0.942857417575402
         ]
        },
        {
         "line": {
          "color": "red",
          "width": 4
         },
         "mode": "lines",
         "type": "scatter3d",
         "x": [
          -0.6947465887224379,
          -0.5432197117946628
         ],
         "y": [
          0.7927482601244858,
          0.6700600396632157
         ],
         "z": [
          0.942857417575402,
          0.7563190839300337
         ]
        },
        {
         "line": {
          "color": "red",
          "width": 4
         },
         "mode": "lines",
         "type": "scatter3d",
         "x": [
          -0.6545062259069876,
          -0.7014321434438348
         ],
         "y": [
          0.3817232728217823,
          0.30218556008146374
         ],
         "z": [
          1.0483425794316061,
          1.080396926096246
         ]
        },
        {
         "line": {
          "color": "red",
          "width": 4
         },
         "mode": "lines",
         "type": "scatter3d",
         "x": [
          -0.7014321434438348,
          -0.837202216480846
         ],
         "y": [
          0.30218556008146374,
          0.007915150715352403
         ],
         "z": [
          1.080396926096246,
          0.7950397276059875
         ]
        },
        {
         "line": {
          "color": "red",
          "width": 4
         },
         "mode": "lines",
         "type": "scatter3d",
         "x": [
          -0.837202216480846,
          -1.1945956189981357
         ],
         "y": [
          0.007915150715352403,
          0.28386144748140096
         ],
         "z": [
          0.7950397276059875,
          0.6363408781611463
         ]
        },
        {
         "line": {
          "color": "red",
          "width": 4
         },
         "mode": "lines",
         "type": "scatter3d",
         "x": [
          -1.1945956189981357,
          -1.2592212123326825
         ],
         "y": [
          0.28386144748140096,
          0.2854987803634684
         ],
         "z": [
          0.6363408781611463,
          0.4925649929155837
         ]
        },
        {
         "line": {
          "color": "red",
          "width": 4
         },
         "mode": "lines",
         "type": "scatter3d",
         "x": [
          -0.6545062259069876,
          -0.7379747570712647
         ],
         "y": [
          0.3817232728217823,
          0.6294708560366241
         ],
         "z": [
          1.0483425794316061,
          1.5103414432119677
         ]
        },
        {
         "line": {
          "color": "red",
          "width": 4
         },
         "mode": "lines",
         "type": "scatter3d",
         "x": [
          -0.7379747570712647,
          -0.6061370748982077
         ],
         "y": [
          0.6294708560366241,
          0.4770621109703703
         ],
         "z": [
          1.5103414432119677,
          1.6629370641070427
         ]
        },
        {
         "line": {
          "color": "red",
          "width": 4
         },
         "mode": "lines",
         "type": "scatter3d",
         "x": [
          -0.6061370748982077,
          -0.38318472332659553
         ],
         "y": [
          0.4770621109703703,
          0.35311359512924784
         ],
         "z": [
          1.6629370641070427,
          1.7509050074377506
         ]
        },
        {
         "color": "lightpink",
         "opacity": 0.5,
         "type": "mesh3d",
         "x": [
          -0.08844433,
          -0.12930559,
          -0.1293059,
          -0.08844461,
          -0.55110512,
          -0.55110542,
          -0.59196648,
          -0.59196678
         ],
         "y": [
          0.43170593,
          1.00228767,
          1.00228767,
          0.43170593,
          0.39857309,
          0.39857309,
          0.96915474,
          0.96915474
         ],
         "z": [
          -0.00209164,
          -0.0020919,
          0.72663563,
          0.72663574,
          -0.00209164,
          0.72663574,
          -0.0020919,
          0.72663563
         ]
        }
       ],
       "layout": {
        "margin": {
         "b": 0,
         "l": 0,
         "r": 0,
         "t": 0
        },
        "scene": {
         "aspectratio": {
          "x": 1,
          "y": 1,
          "z": 1
         }
        },
        "template": {
         "data": {
          "bar": [
           {
            "error_x": {
             "color": "#2a3f5f"
            },
            "error_y": {
             "color": "#2a3f5f"
            },
            "marker": {
             "line": {
              "color": "#E5ECF6",
              "width": 0.5
             },
             "pattern": {
              "fillmode": "overlay",
              "size": 10,
              "solidity": 0.2
             }
            },
            "type": "bar"
           }
          ],
          "barpolar": [
           {
            "marker": {
             "line": {
              "color": "#E5ECF6",
              "width": 0.5
             },
             "pattern": {
              "fillmode": "overlay",
              "size": 10,
              "solidity": 0.2
             }
            },
            "type": "barpolar"
           }
          ],
          "carpet": [
           {
            "aaxis": {
             "endlinecolor": "#2a3f5f",
             "gridcolor": "white",
             "linecolor": "white",
             "minorgridcolor": "white",
             "startlinecolor": "#2a3f5f"
            },
            "baxis": {
             "endlinecolor": "#2a3f5f",
             "gridcolor": "white",
             "linecolor": "white",
             "minorgridcolor": "white",
             "startlinecolor": "#2a3f5f"
            },
            "type": "carpet"
           }
          ],
          "choropleth": [
           {
            "colorbar": {
             "outlinewidth": 0,
             "ticks": ""
            },
            "type": "choropleth"
           }
          ],
          "contour": [
           {
            "colorbar": {
             "outlinewidth": 0,
             "ticks": ""
            },
            "colorscale": [
             [
              0,
              "#0d0887"
             ],
             [
              0.1111111111111111,
              "#46039f"
             ],
             [
              0.2222222222222222,
              "#7201a8"
             ],
             [
              0.3333333333333333,
              "#9c179e"
             ],
             [
              0.4444444444444444,
              "#bd3786"
             ],
             [
              0.5555555555555556,
              "#d8576b"
             ],
             [
              0.6666666666666666,
              "#ed7953"
             ],
             [
              0.7777777777777778,
              "#fb9f3a"
             ],
             [
              0.8888888888888888,
              "#fdca26"
             ],
             [
              1,
              "#f0f921"
             ]
            ],
            "type": "contour"
           }
          ],
          "contourcarpet": [
           {
            "colorbar": {
             "outlinewidth": 0,
             "ticks": ""
            },
            "type": "contourcarpet"
           }
          ],
          "heatmap": [
           {
            "colorbar": {
             "outlinewidth": 0,
             "ticks": ""
            },
            "colorscale": [
             [
              0,
              "#0d0887"
             ],
             [
              0.1111111111111111,
              "#46039f"
             ],
             [
              0.2222222222222222,
              "#7201a8"
             ],
             [
              0.3333333333333333,
              "#9c179e"
             ],
             [
              0.4444444444444444,
              "#bd3786"
             ],
             [
              0.5555555555555556,
              "#d8576b"
             ],
             [
              0.6666666666666666,
              "#ed7953"
             ],
             [
              0.7777777777777778,
              "#fb9f3a"
             ],
             [
              0.8888888888888888,
              "#fdca26"
             ],
             [
              1,
              "#f0f921"
             ]
            ],
            "type": "heatmap"
           }
          ],
          "heatmapgl": [
           {
            "colorbar": {
             "outlinewidth": 0,
             "ticks": ""
            },
            "colorscale": [
             [
              0,
              "#0d0887"
             ],
             [
              0.1111111111111111,
              "#46039f"
             ],
             [
              0.2222222222222222,
              "#7201a8"
             ],
             [
              0.3333333333333333,
              "#9c179e"
             ],
             [
              0.4444444444444444,
              "#bd3786"
             ],
             [
              0.5555555555555556,
              "#d8576b"
             ],
             [
              0.6666666666666666,
              "#ed7953"
             ],
             [
              0.7777777777777778,
              "#fb9f3a"
             ],
             [
              0.8888888888888888,
              "#fdca26"
             ],
             [
              1,
              "#f0f921"
             ]
            ],
            "type": "heatmapgl"
           }
          ],
          "histogram": [
           {
            "marker": {
             "pattern": {
              "fillmode": "overlay",
              "size": 10,
              "solidity": 0.2
             }
            },
            "type": "histogram"
           }
          ],
          "histogram2d": [
           {
            "colorbar": {
             "outlinewidth": 0,
             "ticks": ""
            },
            "colorscale": [
             [
              0,
              "#0d0887"
             ],
             [
              0.1111111111111111,
              "#46039f"
             ],
             [
              0.2222222222222222,
              "#7201a8"
             ],
             [
              0.3333333333333333,
              "#9c179e"
             ],
             [
              0.4444444444444444,
              "#bd3786"
             ],
             [
              0.5555555555555556,
              "#d8576b"
             ],
             [
              0.6666666666666666,
              "#ed7953"
             ],
             [
              0.7777777777777778,
              "#fb9f3a"
             ],
             [
              0.8888888888888888,
              "#fdca26"
             ],
             [
              1,
              "#f0f921"
             ]
            ],
            "type": "histogram2d"
           }
          ],
          "histogram2dcontour": [
           {
            "colorbar": {
             "outlinewidth": 0,
             "ticks": ""
            },
            "colorscale": [
             [
              0,
              "#0d0887"
             ],
             [
              0.1111111111111111,
              "#46039f"
             ],
             [
              0.2222222222222222,
              "#7201a8"
             ],
             [
              0.3333333333333333,
              "#9c179e"
             ],
             [
              0.4444444444444444,
              "#bd3786"
             ],
             [
              0.5555555555555556,
              "#d8576b"
             ],
             [
              0.6666666666666666,
              "#ed7953"
             ],
             [
              0.7777777777777778,
              "#fb9f3a"
             ],
             [
              0.8888888888888888,
              "#fdca26"
             ],
             [
              1,
              "#f0f921"
             ]
            ],
            "type": "histogram2dcontour"
           }
          ],
          "mesh3d": [
           {
            "colorbar": {
             "outlinewidth": 0,
             "ticks": ""
            },
            "type": "mesh3d"
           }
          ],
          "parcoords": [
           {
            "line": {
             "colorbar": {
              "outlinewidth": 0,
              "ticks": ""
             }
            },
            "type": "parcoords"
           }
          ],
          "pie": [
           {
            "automargin": true,
            "type": "pie"
           }
          ],
          "scatter": [
           {
            "fillpattern": {
             "fillmode": "overlay",
             "size": 10,
             "solidity": 0.2
            },
            "type": "scatter"
           }
          ],
          "scatter3d": [
           {
            "line": {
             "colorbar": {
              "outlinewidth": 0,
              "ticks": ""
             }
            },
            "marker": {
             "colorbar": {
              "outlinewidth": 0,
              "ticks": ""
             }
            },
            "type": "scatter3d"
           }
          ],
          "scattercarpet": [
           {
            "marker": {
             "colorbar": {
              "outlinewidth": 0,
              "ticks": ""
             }
            },
            "type": "scattercarpet"
           }
          ],
          "scattergeo": [
           {
            "marker": {
             "colorbar": {
              "outlinewidth": 0,
              "ticks": ""
             }
            },
            "type": "scattergeo"
           }
          ],
          "scattergl": [
           {
            "marker": {
             "colorbar": {
              "outlinewidth": 0,
              "ticks": ""
             }
            },
            "type": "scattergl"
           }
          ],
          "scattermapbox": [
           {
            "marker": {
             "colorbar": {
              "outlinewidth": 0,
              "ticks": ""
             }
            },
            "type": "scattermapbox"
           }
          ],
          "scatterpolar": [
           {
            "marker": {
             "colorbar": {
              "outlinewidth": 0,
              "ticks": ""
             }
            },
            "type": "scatterpolar"
           }
          ],
          "scatterpolargl": [
           {
            "marker": {
             "colorbar": {
              "outlinewidth": 0,
              "ticks": ""
             }
            },
            "type": "scatterpolargl"
           }
          ],
          "scatterternary": [
           {
            "marker": {
             "colorbar": {
              "outlinewidth": 0,
              "ticks": ""
             }
            },
            "type": "scatterternary"
           }
          ],
          "surface": [
           {
            "colorbar": {
             "outlinewidth": 0,
             "ticks": ""
            },
            "colorscale": [
             [
              0,
              "#0d0887"
             ],
             [
              0.1111111111111111,
              "#46039f"
             ],
             [
              0.2222222222222222,
              "#7201a8"
             ],
             [
              0.3333333333333333,
              "#9c179e"
             ],
             [
              0.4444444444444444,
              "#bd3786"
             ],
             [
              0.5555555555555556,
              "#d8576b"
             ],
             [
              0.6666666666666666,
              "#ed7953"
             ],
             [
              0.7777777777777778,
              "#fb9f3a"
             ],
             [
              0.8888888888888888,
              "#fdca26"
             ],
             [
              1,
              "#f0f921"
             ]
            ],
            "type": "surface"
           }
          ],
          "table": [
           {
            "cells": {
             "fill": {
              "color": "#EBF0F8"
             },
             "line": {
              "color": "white"
             }
            },
            "header": {
             "fill": {
              "color": "#C8D4E3"
             },
             "line": {
              "color": "white"
             }
            },
            "type": "table"
           }
          ]
         },
         "layout": {
          "annotationdefaults": {
           "arrowcolor": "#2a3f5f",
           "arrowhead": 0,
           "arrowwidth": 1
          },
          "autotypenumbers": "strict",
          "coloraxis": {
           "colorbar": {
            "outlinewidth": 0,
            "ticks": ""
           }
          },
          "colorscale": {
           "diverging": [
            [
             0,
             "#8e0152"
            ],
            [
             0.1,
             "#c51b7d"
            ],
            [
             0.2,
             "#de77ae"
            ],
            [
             0.3,
             "#f1b6da"
            ],
            [
             0.4,
             "#fde0ef"
            ],
            [
             0.5,
             "#f7f7f7"
            ],
            [
             0.6,
             "#e6f5d0"
            ],
            [
             0.7,
             "#b8e186"
            ],
            [
             0.8,
             "#7fbc41"
            ],
            [
             0.9,
             "#4d9221"
            ],
            [
             1,
             "#276419"
            ]
           ],
           "sequential": [
            [
             0,
             "#0d0887"
            ],
            [
             0.1111111111111111,
             "#46039f"
            ],
            [
             0.2222222222222222,
             "#7201a8"
            ],
            [
             0.3333333333333333,
             "#9c179e"
            ],
            [
             0.4444444444444444,
             "#bd3786"
            ],
            [
             0.5555555555555556,
             "#d8576b"
            ],
            [
             0.6666666666666666,
             "#ed7953"
            ],
            [
             0.7777777777777778,
             "#fb9f3a"
            ],
            [
             0.8888888888888888,
             "#fdca26"
            ],
            [
             1,
             "#f0f921"
            ]
           ],
           "sequentialminus": [
            [
             0,
             "#0d0887"
            ],
            [
             0.1111111111111111,
             "#46039f"
            ],
            [
             0.2222222222222222,
             "#7201a8"
            ],
            [
             0.3333333333333333,
             "#9c179e"
            ],
            [
             0.4444444444444444,
             "#bd3786"
            ],
            [
             0.5555555555555556,
             "#d8576b"
            ],
            [
             0.6666666666666666,
             "#ed7953"
            ],
            [
             0.7777777777777778,
             "#fb9f3a"
            ],
            [
             0.8888888888888888,
             "#fdca26"
            ],
            [
             1,
             "#f0f921"
            ]
           ]
          },
          "colorway": [
           "#636efa",
           "#EF553B",
           "#00cc96",
           "#ab63fa",
           "#FFA15A",
           "#19d3f3",
           "#FF6692",
           "#B6E880",
           "#FF97FF",
           "#FECB52"
          ],
          "font": {
           "color": "#2a3f5f"
          },
          "geo": {
           "bgcolor": "white",
           "lakecolor": "white",
           "landcolor": "#E5ECF6",
           "showlakes": true,
           "showland": true,
           "subunitcolor": "white"
          },
          "hoverlabel": {
           "align": "left"
          },
          "hovermode": "closest",
          "mapbox": {
           "style": "light"
          },
          "paper_bgcolor": "white",
          "plot_bgcolor": "#E5ECF6",
          "polar": {
           "angularaxis": {
            "gridcolor": "white",
            "linecolor": "white",
            "ticks": ""
           },
           "bgcolor": "#E5ECF6",
           "radialaxis": {
            "gridcolor": "white",
            "linecolor": "white",
            "ticks": ""
           }
          },
          "scene": {
           "xaxis": {
            "backgroundcolor": "#E5ECF6",
            "gridcolor": "white",
            "gridwidth": 2,
            "linecolor": "white",
            "showbackground": true,
            "ticks": "",
            "zerolinecolor": "white"
           },
           "yaxis": {
            "backgroundcolor": "#E5ECF6",
            "gridcolor": "white",
            "gridwidth": 2,
            "linecolor": "white",
            "showbackground": true,
            "ticks": "",
            "zerolinecolor": "white"
           },
           "zaxis": {
            "backgroundcolor": "#E5ECF6",
            "gridcolor": "white",
            "gridwidth": 2,
            "linecolor": "white",
            "showbackground": true,
            "ticks": "",
            "zerolinecolor": "white"
           }
          },
          "shapedefaults": {
           "line": {
            "color": "#2a3f5f"
           }
          },
          "ternary": {
           "aaxis": {
            "gridcolor": "white",
            "linecolor": "white",
            "ticks": ""
           },
           "baxis": {
            "gridcolor": "white",
            "linecolor": "white",
            "ticks": ""
           },
           "bgcolor": "#E5ECF6",
           "caxis": {
            "gridcolor": "white",
            "linecolor": "white",
            "ticks": ""
           }
          },
          "title": {
           "x": 0.05
          },
          "xaxis": {
           "automargin": true,
           "gridcolor": "white",
           "linecolor": "white",
           "ticks": "",
           "title": {
            "standoff": 15
           },
           "zerolinecolor": "white",
           "zerolinewidth": 2
          },
          "yaxis": {
           "automargin": true,
           "gridcolor": "white",
           "linecolor": "white",
           "ticks": "",
           "title": {
            "standoff": 15
           },
           "zerolinecolor": "white",
           "zerolinewidth": 2
          }
         }
        }
       }
      }
     },
     "metadata": {},
     "output_type": "display_data"
    }
   ],
   "source": [
    "connection = [[0,1], [1,2], [2,3], [3,4], [0,5], [5,6], [6,7], [0,8], [8,9], [9,10], [10,11], [0,12], [12,13], [13,14]]\n",
    "\n",
    "data = []\n",
    "\n",
    "frame_idx = 0\n",
    "joints_1 = go.Scatter3d(\n",
    "    x=skeleton[frame_idx, :, 0],  \n",
    "    y=skeleton[frame_idx, :, 1],  \n",
    "    z=skeleton[frame_idx, :, 2], \n",
    "    mode='markers',\n",
    "    marker={\n",
    "        'size': 6,\n",
    "        'opacity': 0.8,\n",
    "    }\n",
    ")\n",
    "\n",
    "for c in connection:\n",
    "    line_trace = go.Scatter3d(\n",
    "        x=skeleton[frame_idx, c, 0],\n",
    "        y=skeleton[frame_idx, c, 1],\n",
    "        z=skeleton[frame_idx, c, 2],\n",
    "        mode='lines',\n",
    "        line=dict(color='red', width=4)\n",
    "    )\n",
    "    data.append(line_trace)\n",
    "\n",
    "frame_idx = 60\n",
    "joints_2 = go.Scatter3d(\n",
    "    x=skeleton[frame_idx, :, 0],  \n",
    "    y=skeleton[frame_idx, :, 1],  \n",
    "    z=skeleton[frame_idx, :, 2], \n",
    "    mode='markers',\n",
    "    marker={\n",
    "        'size': 6,\n",
    "        'opacity': 0.8,\n",
    "    }\n",
    ")\n",
    "\n",
    "for c in connection:\n",
    "    line_trace = go.Scatter3d(\n",
    "        x=skeleton[frame_idx, c, 0],\n",
    "        y=skeleton[frame_idx, c, 1],\n",
    "        z=skeleton[frame_idx, c, 2],\n",
    "        mode='lines',\n",
    "        line=dict(color='red', width=4)\n",
    "    )\n",
    "    data.append(line_trace)\n",
    "\n",
    "layout = go.Layout(\n",
    "        margin={'l': 0, 'r': 0, 'b': 0, 't': 0},\n",
    "        scene = dict(\n",
    "            # xaxis = dict(title=\"x\", range = [-2,2]),\n",
    "            # yaxis = dict(title=\"y\", range = [-1,1]),\n",
    "            # zaxis = dict(title=\"z\", range = [0,2]),\n",
    "            aspectratio=dict(x=1, y=1, z=1)\n",
    "    ))\n",
    "\n",
    "obstacle = go.Mesh3d(x=vertices[:,0], y=vertices[:,1], z=vertices[:,2], color='lightpink', opacity=0.50)\n",
    "\n",
    "\n",
    "# fig = go.Figure(data=data + [joints_1, joints_2, obstacle], layout=layout)\n",
    "fig = go.Figure(data= data + [obstacle], layout=layout)\n",
    "# plotly.offline.iplot(fig)\n",
    "fig.show()"
   ]
  },
  {
   "cell_type": "code",
   "execution_count": 217,
   "metadata": {},
   "outputs": [],
   "source": [
    "robot_urdf = \"/home/jianrenw/mocap/robots/adam_lite/urdf/adam_lite_pybullet.urdf\"\n",
    "\n",
    "physicsClient = p.connect(p.DIRECT)  # or p.DIRECT for non-graphical version\n",
    "p.setAdditionalSearchPath(pybullet_data.getDataPath())  # used by loadURDF\n",
    "robot_start_pos = [0, 0, 0]\n",
    "robot_start_orientation = p.getQuaternionFromEuler([0, 0, 0])\n",
    "\n",
    "humanoid = p.loadURDF(robot_urdf, robot_start_pos, robot_start_orientation)\n",
    "\n",
    "time_step = 1.0 / 240.0\n",
    "p.setTimeStep(time_step)\n",
    "\n",
    "num_joints = p.getNumJoints(humanoid)\n",
    "\n",
    "joint_names = []\n",
    "joint_lower_limits = []\n",
    "joint_upper_limits = []\n",
    "\n",
    "# Iterate through the joints and print their names\n",
    "for joint_index in range(num_joints):\n",
    "    joint_info = p.getJointInfo(humanoid, joint_index)\n",
    "    joint_name = joint_info[1].decode(\n",
    "        \"utf-8\"\n",
    "    )  # Decode the byte string to get the joint name\n",
    "    joint_lower_limit = joint_info[8]  # Lower joint limit\n",
    "    joint_upper_limit = joint_info[9]  # Upper joint limit\n",
    "    joint_names.append(joint_name)\n",
    "    joint_lower_limits.append(joint_lower_limit)\n",
    "    joint_upper_limits.append(joint_upper_limit)\n",
    "\n",
    "joint_lower_limits = np.array(joint_lower_limits)\n",
    "joint_upper_limits = np.array(joint_upper_limits)\n",
    "\n",
    "p.disconnect()"
   ]
  },
  {
   "cell_type": "code",
   "execution_count": 153,
   "metadata": {},
   "outputs": [],
   "source": [
    "# upper body\n",
    "head = (l_upperarm + r_upperarm) / 2\n",
    "upper_z = (head - pelvis) / np.linalg.norm(head - pelvis, axis=1, keepdims=True)\n",
    "upper_x = np.cross(pelvis - l_upperarm, pelvis - r_upperarm)\n",
    "upper_x = upper_x / np.linalg.norm(upper_x, axis=1, keepdims=True)\n",
    "upper_y = np.cross(upper_z, upper_x)\n",
    "upper_rot = np.stack([upper_x, upper_y, upper_z], axis=2)\n",
    "\n",
    "# lower body\n",
    "crotch = (l_thigh + r_thigh) / 2\n",
    "lower_z = - (crotch - pelvis) / np.linalg.norm(crotch - pelvis, axis=1, keepdims=True)\n",
    "lower_x = np.cross(pelvis - r_thigh, pelvis - l_thigh)\n",
    "lower_x = lower_x / np.linalg.norm(lower_x, axis=1, keepdims=True)\n",
    "lower_y = np.cross(lower_z, lower_x)\n",
    "lower_rot = np.stack([lower_x, lower_y, lower_z], axis=2)\n",
    "\n",
    "# left arm\n",
    "l_elbow_rot_z = l_forearm - l_hand\n",
    "l_elbow_rot_z = l_elbow_rot_z / np.linalg.norm(\n",
    "    l_elbow_rot_z, axis=1, keepdims=True\n",
    ")\n",
    "l_elbow_rot_y_2 = l_upperarm - l_forearm\n",
    "l_elbow_rot_y_2 = l_elbow_rot_y_2 / np.linalg.norm(\n",
    "    l_elbow_rot_y_2, axis=1, keepdims=True\n",
    ")\n",
    "l_elbow_rot_y_2 = np.cross(l_elbow_rot_y_2, -l_elbow_rot_z)\n",
    "l_elbow_rot_y_2 = l_elbow_rot_y_2 / np.linalg.norm(\n",
    "    l_elbow_rot_y_2, axis=1, keepdims=True\n",
    ")\n",
    "\n",
    "l_elbow_rot_x = np.cross(l_elbow_rot_y_2, l_elbow_rot_z)\n",
    "l_elbow_rot_x = l_elbow_rot_x / np.linalg.norm(\n",
    "    l_elbow_rot_x, axis=1, keepdims=True\n",
    ")\n",
    "\n",
    "l_elbow_rot = np.stack([l_elbow_rot_x, l_elbow_rot_y_2, l_elbow_rot_z], axis=2)\n",
    "\n",
    "l_upperarm_dir = l_forearm - l_upperarm\n",
    "l_upperarm_dir = l_upperarm_dir / np.linalg.norm(\n",
    "    l_upperarm_dir, axis=1, keepdims=True\n",
    ")\n",
    "\n",
    "# right arm\n",
    "r_elbow_rot_z = r_forearm - r_hand\n",
    "r_elbow_rot_z = r_elbow_rot_z / np.linalg.norm(\n",
    "    r_elbow_rot_z, axis=1, keepdims=True\n",
    ")\n",
    "r_elbow_rot_y_2 = r_upperarm - r_forearm\n",
    "r_elbow_rot_y_2 = r_elbow_rot_y_2 / np.linalg.norm(\n",
    "    r_elbow_rot_y_2, axis=1, keepdims=True\n",
    ")   \n",
    "r_elbow_rot_y_2 = np.cross(r_elbow_rot_y_2, -r_elbow_rot_z)\n",
    "r_elbow_rot_y_2 = r_elbow_rot_y_2 / np.linalg.norm(\n",
    "    r_elbow_rot_y_2, axis=1, keepdims=True\n",
    ")\n",
    "\n",
    "r_elbow_rot_x = np.cross(r_elbow_rot_y_2, r_elbow_rot_z)\n",
    "r_elbow_rot_x = r_elbow_rot_x / np.linalg.norm(\n",
    "    r_elbow_rot_x, axis=1, keepdims=True\n",
    ")\n",
    "r_elbow_rot = np.stack([r_elbow_rot_x, r_elbow_rot_y_2, r_elbow_rot_z], axis=2)\n",
    "\n",
    "r_upperarm_dir = r_forearm - r_upperarm\n",
    "r_upperarm_dir = r_upperarm_dir / np.linalg.norm(\n",
    "    r_upperarm_dir, axis=1, keepdims=True\n",
    ")\n",
    "\n",
    "# left knee\n",
    "l_calf_dir = l_calf - l_foot\n",
    "l_calf_dir = l_calf_dir / np.linalg.norm(\n",
    "    l_calf_dir, axis=1, keepdims=True\n",
    ")\n",
    "l_foot_dir = l_toe - l_foot\n",
    "l_foot_dir = l_foot_dir / np.linalg.norm(\n",
    "    l_foot_dir, axis=1, keepdims=True\n",
    ")\n",
    "l_knee_rot_y = np.cross(l_calf_dir, l_foot_dir)\n",
    "l_knee_rot_y = l_knee_rot_y / np.linalg.norm(\n",
    "    l_knee_rot_y, axis=1, keepdims=True\n",
    ")\n",
    "l_knee_rot_x = np.cross(l_knee_rot_y, l_calf_dir)\n",
    "l_knee_rot_x = l_knee_rot_x / np.linalg.norm(\n",
    "    l_knee_rot_x, axis=1, keepdims=True\n",
    ")\n",
    "l_knee_rot = np.stack([l_knee_rot_x, l_knee_rot_y, l_calf_dir], axis=2)\n",
    "\n",
    "l_thigh_dir = l_calf - l_thigh\n",
    "l_thigh_dir = l_thigh_dir / np.linalg.norm(l_thigh_dir, axis=1, keepdims=True)\n",
    "\n",
    "# left ankle angle\n",
    "cos = np.einsum('ij,ij->i', l_calf_dir, l_foot_dir) / (np.linalg.norm(l_calf_dir, axis=1) * np.linalg.norm(l_foot_dir, axis=1))\n",
    "l_foot_angle = np.arccos(cos) - np.arctan(0.047/0.160) - np.pi/2\n",
    "\n",
    "# right knee\n",
    "r_calf_dir = r_calf - r_foot\n",
    "r_calf_dir = r_calf_dir / np.linalg.norm(\n",
    "    r_calf_dir, axis=1, keepdims=True\n",
    ")\n",
    "r_foot_dir = r_toe - r_foot\n",
    "r_foot_dir = r_foot_dir / np.linalg.norm(\n",
    "    r_foot_dir, axis=1, keepdims=True\n",
    ")\n",
    "r_knee_rot_y = np.cross(r_calf_dir, r_foot_dir)\n",
    "r_knee_rot_y = r_knee_rot_y / np.linalg.norm(\n",
    "    r_knee_rot_y, axis=1, keepdims=True\n",
    ")\n",
    "r_knee_rot_x = np.cross(r_knee_rot_y, r_calf_dir)\n",
    "r_knee_rot_x = r_knee_rot_x / np.linalg.norm(\n",
    "    r_knee_rot_x, axis=1, keepdims=True\n",
    ")\n",
    "r_knee_rot = np.stack([r_knee_rot_x, r_knee_rot_y, r_calf_dir], axis=2)\n",
    "\n",
    "r_thigh_dir = r_calf - r_thigh\n",
    "r_thigh_dir = r_thigh_dir / np.linalg.norm(r_thigh_dir, axis=1, keepdims=True)\n",
    "\n",
    "# right ankle angle\n",
    "cos = np.einsum('ij,ij->i', r_calf_dir, r_foot_dir) / (np.linalg.norm(r_calf_dir, axis=1) * np.linalg.norm(r_foot_dir, axis=1))\n",
    "r_foot_angle = np.arccos(cos) - np.arctan(0.047/0.160) - np.pi/2\n",
    "\n",
    "\n",
    "# to pybullet\n",
    "upper_rot = R.from_matrix(upper_rot)\n",
    "lower_rot = R.from_matrix(lower_rot)\n",
    "l_knee_rot = R.from_matrix(l_knee_rot)\n",
    "r_knee_rot = R.from_matrix(r_knee_rot)\n",
    "l_elbow_rot = R.from_matrix(l_elbow_rot)\n",
    "r_elbow_rot = R.from_matrix(r_elbow_rot)\n",
    "\n",
    "# waist angle\n",
    "R_u_l = np.einsum('ijk,ikl->ijl', np.transpose(lower_rot.as_matrix(), (0, 2, 1)), upper_rot.as_matrix())\n",
    "R_u_l = R.from_matrix(R_u_l)\n",
    "waist_angles = R_u_l.as_euler('xyz', degrees=False)\n",
    "\n",
    "\n",
    "amass_data = {'num_frames': num_frames,\n",
    "            'pelvis': pelvis,\n",
    "            'upper_rot': upper_rot,\n",
    "            'lower_rot': lower_rot,\n",
    "            'l_elbow_rot': l_elbow_rot,\n",
    "            'r_elbow_rot': r_elbow_rot,\n",
    "            'l_knee_rot': l_knee_rot,\n",
    "            'r_knee_rot': r_knee_rot,\n",
    "            'l_upperarm_dir': l_upperarm_dir,\n",
    "            'r_upperarm_dir': r_upperarm_dir,\n",
    "            'l_thigh_dir': l_thigh_dir,\n",
    "            'r_thigh_dir': r_thigh_dir,\n",
    "            'waist_angles': waist_angles,\n",
    "            'l_foot_angle': l_foot_angle,\n",
    "            'r_foot_angle': r_foot_angle,\n",
    "            'l_foot_dir': l_foot_dir,\n",
    "            'r_foot_dir': r_foot_dir,\n",
    "}"
   ]
  },
  {
   "cell_type": "code",
   "execution_count": 154,
   "metadata": {},
   "outputs": [
    {
     "data": {
      "text/plain": [
       "array([[-5.74045463e-03,  1.28846345e-03,  9.60034517e-01],\n",
       "       [-2.77447365e-03,  2.34741778e-04,  9.58093652e-01],\n",
       "       [ 1.80230717e-03, -2.54084745e-04,  9.55832565e-01],\n",
       "       [ 6.42628428e-03, -6.31187842e-04,  9.53044016e-01],\n",
       "       [ 1.16708881e-02, -1.28798307e-03,  9.50088038e-01],\n",
       "       [ 1.56740669e-02, -2.26705319e-03,  9.46551714e-01],\n",
       "       [ 2.12268737e-02, -2.84220665e-03,  9.43369371e-01],\n",
       "       [ 2.54838165e-02, -3.83225248e-03,  9.40029460e-01],\n",
       "       [ 2.91159793e-02, -5.03078548e-03,  9.36506722e-01],\n",
       "       [ 3.19440942e-02, -6.09174865e-03,  9.32995192e-01],\n",
       "       [ 3.27428027e-02, -7.59569231e-03,  9.28732596e-01],\n",
       "       [ 3.36558434e-02, -9.10993688e-03,  9.23557837e-01],\n",
       "       [ 3.50645334e-02, -9.98969760e-03,  9.16852231e-01],\n",
       "       [ 3.57798348e-02, -1.04495125e-02,  9.07908460e-01],\n",
       "       [ 3.69682203e-02, -1.02735526e-02,  8.97125556e-01],\n",
       "       [ 3.91168719e-02, -9.15118005e-03,  8.84082775e-01],\n",
       "       [ 4.27881288e-02, -8.67353149e-03,  8.68571645e-01],\n",
       "       [ 4.85079653e-02, -8.20442784e-03,  8.50439958e-01],\n",
       "       [ 5.45559813e-02, -7.88373111e-03,  8.30315838e-01],\n",
       "       [ 6.28880770e-02, -8.03749296e-03,  8.08167089e-01],\n",
       "       [ 7.18693106e-02, -8.93636681e-03,  7.85556382e-01],\n",
       "       [ 8.17288385e-02, -1.08075110e-02,  7.63048495e-01],\n",
       "       [ 9.24945131e-02, -1.28998528e-02,  7.42995177e-01],\n",
       "       [ 1.04855918e-01, -1.46710583e-02,  7.27823928e-01],\n",
       "       [ 1.21184829e-01, -1.71340908e-02,  7.17509671e-01],\n",
       "       [ 1.41378215e-01, -2.04212660e-02,  7.11947661e-01],\n",
       "       [ 1.66222538e-01, -2.30044475e-02,  7.11713417e-01],\n",
       "       [ 1.96777819e-01, -2.75319801e-02,  7.16172670e-01],\n",
       "       [ 2.32068403e-01, -3.13528020e-02,  7.24219381e-01],\n",
       "       [ 2.72173986e-01, -3.34818247e-02,  7.35594140e-01],\n",
       "       [ 3.16489348e-01, -3.60675001e-02,  7.44833304e-01],\n",
       "       [ 3.65568714e-01, -3.70139416e-02,  7.52959073e-01],\n",
       "       [ 4.18947752e-01, -3.79403092e-02,  7.57556650e-01],\n",
       "       [ 4.76751089e-01, -3.97924557e-02,  7.58615836e-01],\n",
       "       [ 5.36985821e-01, -4.10546953e-02,  7.55305822e-01],\n",
       "       [ 6.01474056e-01, -4.28755047e-02,  7.48470573e-01],\n",
       "       [ 6.64894870e-01, -4.88930844e-02,  7.35633452e-01],\n",
       "       [ 7.31093171e-01, -5.33603155e-02,  7.18445407e-01],\n",
       "       [ 8.02255061e-01, -5.84299256e-02,  6.96852426e-01],\n",
       "       [ 8.79206628e-01, -6.21235052e-02,  6.71925973e-01],\n",
       "       [ 9.55983269e-01, -6.81850869e-02,  6.45368982e-01],\n",
       "       [ 1.03149718e+00, -7.65723958e-02,  6.20369942e-01],\n",
       "       [ 1.10388382e+00, -8.61842161e-02,  5.93944019e-01],\n",
       "       [ 1.17822044e+00, -9.20383229e-02,  5.63859948e-01],\n",
       "       [ 1.25215963e+00, -9.42259884e-02,  5.29620677e-01],\n",
       "       [ 1.32260456e+00, -9.41094713e-02,  4.92662331e-01],\n",
       "       [ 1.38437439e+00, -9.70624655e-02,  4.51539051e-01],\n",
       "       [ 1.43615230e+00, -9.85825327e-02,  4.09963352e-01],\n",
       "       [ 1.48364602e+00, -9.53133789e-02,  3.70674599e-01],\n",
       "       [ 1.52487220e+00, -8.96201173e-02,  3.30729409e-01],\n",
       "       [ 1.55952458e+00, -8.22307536e-02,  2.93145483e-01],\n",
       "       [ 1.58722519e+00, -7.24042412e-02,  2.59068615e-01],\n",
       "       [ 1.60957622e+00, -6.11013224e-02,  2.28887542e-01],\n",
       "       [ 1.62538350e+00, -4.85499954e-02,  1.97534560e-01],\n",
       "       [ 1.63244468e+00, -4.42362577e-02,  1.72402818e-01],\n",
       "       [ 1.63882206e+00, -3.75994128e-02,  1.60170016e-01],\n",
       "       [ 1.64377039e+00, -3.08219857e-02,  1.52718810e-01],\n",
       "       [ 1.64881585e+00, -2.65282590e-02,  1.50722450e-01],\n",
       "       [ 1.65477786e+00, -2.48179460e-02,  1.50559721e-01],\n",
       "       [ 1.66088127e+00, -2.60884287e-02,  1.50688492e-01],\n",
       "       [ 1.66686351e+00, -2.80401483e-02,  1.49306970e-01],\n",
       "       [ 1.67272556e+00, -3.10044559e-02,  1.48418132e-01],\n",
       "       [ 1.68100224e+00, -3.47699064e-02,  1.50582081e-01],\n",
       "       [ 1.69202537e+00, -3.98808097e-02,  1.53255751e-01],\n",
       "       [ 1.70613133e+00, -4.48593762e-02,  1.54802944e-01],\n",
       "       [ 1.72043104e+00, -4.94015158e-02,  1.54841150e-01],\n",
       "       [ 1.72996129e+00, -5.47226376e-02,  1.54515645e-01],\n",
       "       [ 1.73721911e+00, -5.97719164e-02,  1.54143357e-01],\n",
       "       [ 1.74278961e+00, -6.38688316e-02,  1.53368018e-01],\n",
       "       [ 1.74844392e+00, -6.69075060e-02,  1.50657620e-01],\n",
       "       [ 1.75927048e+00, -7.23952165e-02,  1.49731301e-01],\n",
       "       [ 1.77484019e+00, -7.73599460e-02,  1.61293535e-01],\n",
       "       [ 1.79213402e+00, -7.95504481e-02,  1.82736067e-01],\n",
       "       [ 1.81185334e+00, -8.12382505e-02,  2.05589365e-01],\n",
       "       [ 1.83436783e+00, -8.23201051e-02,  2.29262141e-01],\n",
       "       [ 1.85572232e+00, -8.26344185e-02,  2.54253068e-01],\n",
       "       [ 1.87762935e+00, -8.06654560e-02,  2.81299440e-01],\n",
       "       [ 1.89823556e+00, -7.93827887e-02,  3.10956608e-01],\n",
       "       [ 1.92008448e+00, -7.84045309e-02,  3.43108214e-01],\n",
       "       [ 1.94229459e+00, -7.81969506e-02,  3.77651761e-01],\n",
       "       [ 1.96595921e+00, -7.84153478e-02,  4.13696131e-01],\n",
       "       [ 1.99194008e+00, -7.88419505e-02,  4.50749796e-01],\n",
       "       [ 2.02087512e+00, -7.96932845e-02,  4.88114101e-01],\n",
       "       [ 2.05384935e+00, -7.87746828e-02,  5.26099030e-01],\n",
       "       [ 2.09065382e+00, -7.89874810e-02,  5.59508601e-01],\n",
       "       [ 2.13024381e+00, -7.63168206e-02,  5.94032090e-01],\n",
       "       [ 2.17346938e+00, -7.41331177e-02,  6.27173811e-01],\n",
       "       [ 2.21955979e+00, -7.13710901e-02,  6.58022111e-01],\n",
       "       [ 2.26915965e+00, -6.89079124e-02,  6.87991222e-01],\n",
       "       [ 2.32114798e+00, -6.67871258e-02,  7.15397114e-01],\n",
       "       [ 2.37420064e+00, -6.37968479e-02,  7.38961986e-01],\n",
       "       [ 2.42637113e+00, -6.12546690e-02,  7.59965990e-01],\n",
       "       [ 2.47474681e+00, -5.85985697e-02,  7.75957771e-01],\n",
       "       [ 2.52019392e+00, -5.52989490e-02,  7.88738297e-01],\n",
       "       [ 2.56522050e+00, -5.11781135e-02,  7.99714879e-01],\n",
       "       [ 2.61127085e+00, -4.64878830e-02,  8.11159876e-01],\n",
       "       [ 2.65862440e+00, -4.26526327e-02,  8.22243396e-01],\n",
       "       [ 2.71153787e+00, -3.92425085e-02,  8.37945604e-01],\n",
       "       [ 2.75668866e+00, -3.64679591e-02,  8.43758142e-01],\n",
       "       [ 2.80228335e+00, -3.56027091e-02,  8.47002418e-01],\n",
       "       [ 2.84923243e+00, -3.52018099e-02,  8.50949515e-01],\n",
       "       [ 2.89727223e+00, -3.65510911e-02,  8.57580966e-01],\n",
       "       [ 2.94653803e+00, -3.86835534e-02,  8.66405526e-01],\n",
       "       [ 2.99651601e+00, -4.14120005e-02,  8.74924844e-01],\n",
       "       [ 3.04741437e+00, -4.52463846e-02,  8.85077845e-01],\n",
       "       [ 3.09959144e+00, -4.99829880e-02,  8.97325829e-01],\n",
       "       [ 3.15268407e+00, -5.42844102e-02,  9.11120377e-01],\n",
       "       [ 3.20710868e+00, -5.77670385e-02,  9.26089074e-01],\n",
       "       [ 3.26279142e+00, -6.04674714e-02,  9.41213659e-01],\n",
       "       [ 3.31900272e+00, -6.19287802e-02,  9.54596219e-01],\n",
       "       [ 3.37462599e+00, -6.24614310e-02,  9.65096315e-01],\n",
       "       [ 3.42835599e+00, -6.30586465e-02,  9.72137083e-01],\n",
       "       [ 3.48095249e+00, -6.36062978e-02,  9.75567025e-01],\n",
       "       [ 3.53294866e+00, -6.46567110e-02,  9.76432687e-01],\n",
       "       [ 3.58428784e+00, -6.61371793e-02,  9.75404591e-01],\n",
       "       [ 3.63574004e+00, -6.79295915e-02,  9.72045894e-01],\n",
       "       [ 3.68742504e+00, -7.02420533e-02,  9.66518312e-01],\n",
       "       [ 3.74029052e+00, -7.23831439e-02,  9.57611328e-01],\n",
       "       [ 3.79460236e+00, -7.50881563e-02,  9.45828065e-01],\n",
       "       [ 3.85006051e+00, -7.71167855e-02,  9.30928706e-01],\n",
       "       [ 3.90756508e+00, -7.85987344e-02,  9.12682196e-01],\n",
       "       [ 3.96481908e+00, -7.99244852e-02,  8.91810548e-01],\n",
       "       [ 4.00833461e+00, -8.40907211e-02,  8.73054983e-01],\n",
       "       [ 4.04556946e+00, -8.71554512e-02,  8.57234249e-01],\n",
       "       [ 4.09073543e+00, -9.40627884e-02,  8.43158313e-01],\n",
       "       [ 4.13192079e+00, -9.80552498e-02,  8.30461302e-01],\n",
       "       [ 4.17083177e+00, -1.00172828e-01,  8.22250124e-01],\n",
       "       [ 4.20839060e+00, -1.01235646e-01,  8.15955659e-01],\n",
       "       [ 4.24408590e+00, -1.00196610e-01,  8.12994369e-01],\n",
       "       [ 4.27826067e+00, -9.87583858e-02,  8.13522460e-01],\n",
       "       [ 4.31077311e+00, -9.63454759e-02,  8.18877752e-01],\n",
       "       [ 4.34062257e+00, -9.37853789e-02,  8.25130957e-01],\n",
       "       [ 4.36743923e+00, -9.03735030e-02,  8.31298803e-01],\n",
       "       [ 4.39451105e+00, -8.78378684e-02,  8.37351613e-01],\n",
       "       [ 4.42177624e+00, -8.56372847e-02,  8.41501727e-01],\n",
       "       [ 4.45026616e+00, -8.30566883e-02,  8.45466209e-01],\n",
       "       [ 4.48144302e+00, -8.00123610e-02,  8.49220585e-01],\n",
       "       [ 4.51510719e+00, -7.62678790e-02,  8.51852227e-01],\n",
       "       [ 4.55054912e+00, -7.17365967e-02,  8.54286954e-01],\n",
       "       [ 4.58730767e+00, -6.69839361e-02,  8.56049804e-01],\n",
       "       [ 4.62402739e+00, -6.13919746e-02,  8.57765784e-01],\n",
       "       [ 4.66176736e+00, -5.56482452e-02,  8.58437535e-01],\n",
       "       [ 4.69922365e+00, -4.89732765e-02,  8.57990840e-01],\n",
       "       [ 4.73717513e+00, -4.15200416e-02,  8.56371217e-01],\n",
       "       [ 4.77211336e+00, -3.40596993e-02,  8.52598864e-01],\n",
       "       [ 4.80164075e+00, -2.65367877e-02,  8.48692616e-01],\n",
       "       [ 4.82978752e+00, -1.85517321e-02,  8.45084179e-01],\n",
       "       [ 4.85737962e+00, -1.26082667e-02,  8.41436858e-01],\n",
       "       [ 4.88393116e+00, -7.53515330e-03,  8.38834491e-01],\n",
       "       [ 4.91079512e+00, -3.14608322e-03,  8.37464307e-01],\n",
       "       [ 4.93686665e+00,  1.18519087e-03,  8.37159843e-01],\n",
       "       [ 4.95925156e+00,  4.07403042e-03,  8.39325389e-01],\n",
       "       [ 4.97690280e+00,  5.28286816e-03,  8.44733842e-01],\n",
       "       [ 4.99592879e+00,  5.78289806e-03,  8.52220129e-01],\n",
       "       [ 5.01116904e+00,  6.16533430e-03,  8.58321774e-01],\n",
       "       [ 5.02370406e+00,  6.51242361e-03,  8.64390748e-01],\n",
       "       [ 5.03667643e+00,  6.69412559e-03,  8.72250842e-01],\n",
       "       [ 5.05041980e+00,  7.68525457e-03,  8.81485935e-01],\n",
       "       [ 5.06385442e+00,  8.65720285e-03,  8.91382977e-01],\n",
       "       [ 5.07621029e+00,  9.62442300e-03,  9.01025385e-01],\n",
       "       [ 5.08849482e+00,  1.03395813e-02,  9.10867498e-01],\n",
       "       [ 5.10003023e+00,  1.11709751e-02,  9.20267631e-01],\n",
       "       [ 5.10955745e+00,  1.24613163e-02,  9.28073727e-01],\n",
       "       [ 5.11848491e+00,  1.40184344e-02,  9.35234986e-01],\n",
       "       [ 5.12694106e+00,  1.58401598e-02,  9.41891856e-01],\n",
       "       [ 5.13534734e+00,  1.71280452e-02,  9.47424203e-01],\n",
       "       [ 5.14341529e+00,  1.77834830e-02,  9.52545071e-01],\n",
       "       [ 5.15159193e+00,  1.82827896e-02,  9.57211876e-01],\n",
       "       [ 5.15159193e+00,  1.82827896e-02,  9.57211876e-01],\n",
       "       [ 5.15159193e+00,  1.82827896e-02,  9.57211876e-01],\n",
       "       [ 5.15159193e+00,  1.82827896e-02,  9.57211876e-01],\n",
       "       [ 5.15159193e+00,  1.82827896e-02,  9.57211876e-01],\n",
       "       [ 5.15159193e+00,  1.82827896e-02,  9.57211876e-01],\n",
       "       [ 5.15159193e+00,  1.82827896e-02,  9.57211876e-01],\n",
       "       [ 5.15159193e+00,  1.82827896e-02,  9.57211876e-01],\n",
       "       [ 5.15159193e+00,  1.82827896e-02,  9.57211876e-01],\n",
       "       [ 5.15159193e+00,  1.82827896e-02,  9.57211876e-01],\n",
       "       [ 5.15159193e+00,  1.82827896e-02,  9.57211876e-01],\n",
       "       [ 5.15159193e+00,  1.82827896e-02,  9.57211876e-01],\n",
       "       [ 5.15159193e+00,  1.82827896e-02,  9.57211876e-01],\n",
       "       [ 5.15159193e+00,  1.82827896e-02,  9.57211876e-01],\n",
       "       [ 5.15159193e+00,  1.82827896e-02,  9.57211876e-01],\n",
       "       [ 5.15159193e+00,  1.82827896e-02,  9.57211876e-01],\n",
       "       [ 5.15159193e+00,  1.82827896e-02,  9.57211876e-01],\n",
       "       [ 5.15159193e+00,  1.82827896e-02,  9.57211876e-01],\n",
       "       [ 5.15159193e+00,  1.82827896e-02,  9.57211876e-01],\n",
       "       [ 5.15159193e+00,  1.82827896e-02,  9.57211876e-01],\n",
       "       [ 5.15159193e+00,  1.82827896e-02,  9.57211876e-01],\n",
       "       [ 5.15159193e+00,  1.82827896e-02,  9.57211876e-01],\n",
       "       [ 5.15159193e+00,  1.82827896e-02,  9.57211876e-01],\n",
       "       [ 5.15159193e+00,  1.82827896e-02,  9.57211876e-01],\n",
       "       [ 5.15159193e+00,  1.82827896e-02,  9.57211876e-01],\n",
       "       [ 5.15159193e+00,  1.82827896e-02,  9.57211876e-01],\n",
       "       [ 5.15159193e+00,  1.82827896e-02,  9.57211876e-01],\n",
       "       [ 5.15159193e+00,  1.82827896e-02,  9.57211876e-01],\n",
       "       [ 5.15159193e+00,  1.82827896e-02,  9.57211876e-01],\n",
       "       [ 5.15159193e+00,  1.82827896e-02,  9.57211876e-01],\n",
       "       [ 5.15159193e+00,  1.82827896e-02,  9.57211876e-01],\n",
       "       [ 5.15159193e+00,  1.82827896e-02,  9.57211876e-01],\n",
       "       [ 5.15159193e+00,  1.82827896e-02,  9.57211876e-01],\n",
       "       [ 5.15159193e+00,  1.82827896e-02,  9.57211876e-01],\n",
       "       [ 5.15159193e+00,  1.82827896e-02,  9.57211876e-01],\n",
       "       [ 5.15159193e+00,  1.82827896e-02,  9.57211876e-01],\n",
       "       [ 5.15159193e+00,  1.82827896e-02,  9.57211876e-01],\n",
       "       [ 5.15159193e+00,  1.82827896e-02,  9.57211876e-01],\n",
       "       [ 5.15159193e+00,  1.82827896e-02,  9.57211876e-01],\n",
       "       [ 5.15159193e+00,  1.82827896e-02,  9.57211876e-01],\n",
       "       [ 5.15159193e+00,  1.82827896e-02,  9.57211876e-01],\n",
       "       [ 5.15159193e+00,  1.82827896e-02,  9.57211876e-01],\n",
       "       [ 5.15159193e+00,  1.82827896e-02,  9.57211876e-01],\n",
       "       [ 5.15159193e+00,  1.82827896e-02,  9.57211876e-01],\n",
       "       [ 5.15159193e+00,  1.82827896e-02,  9.57211876e-01],\n",
       "       [ 5.15159193e+00,  1.82827896e-02,  9.57211876e-01],\n",
       "       [ 5.15159193e+00,  1.82827896e-02,  9.57211876e-01],\n",
       "       [ 5.15159193e+00,  1.82827896e-02,  9.57211876e-01],\n",
       "       [ 5.15159193e+00,  1.82827896e-02,  9.57211876e-01],\n",
       "       [ 5.15159193e+00,  1.82827896e-02,  9.57211876e-01],\n",
       "       [ 5.15159193e+00,  1.82827896e-02,  9.57211876e-01],\n",
       "       [ 5.15159193e+00,  1.82827896e-02,  9.57211876e-01],\n",
       "       [ 5.15159193e+00,  1.82827896e-02,  9.57211876e-01],\n",
       "       [ 5.15159193e+00,  1.82827896e-02,  9.57211876e-01],\n",
       "       [ 5.15159193e+00,  1.82827896e-02,  9.57211876e-01],\n",
       "       [ 5.15159193e+00,  1.82827896e-02,  9.57211876e-01],\n",
       "       [ 5.15159193e+00,  1.82827896e-02,  9.57211876e-01],\n",
       "       [ 5.15159193e+00,  1.82827896e-02,  9.57211876e-01],\n",
       "       [ 5.15159193e+00,  1.82827896e-02,  9.57211876e-01],\n",
       "       [ 5.15159193e+00,  1.82827896e-02,  9.57211876e-01],\n",
       "       [ 5.15159193e+00,  1.82827896e-02,  9.57211876e-01],\n",
       "       [ 5.15159193e+00,  1.82827896e-02,  9.57211876e-01],\n",
       "       [ 5.15159193e+00,  1.82827896e-02,  9.57211876e-01],\n",
       "       [ 5.15159193e+00,  1.82827896e-02,  9.57211876e-01],\n",
       "       [ 5.15159193e+00,  1.82827896e-02,  9.57211876e-01],\n",
       "       [ 5.15159193e+00,  1.82827896e-02,  9.57211876e-01],\n",
       "       [ 5.15159193e+00,  1.82827896e-02,  9.57211876e-01],\n",
       "       [ 5.15159193e+00,  1.82827896e-02,  9.57211876e-01],\n",
       "       [ 5.15159193e+00,  1.82827896e-02,  9.57211876e-01],\n",
       "       [ 5.15159193e+00,  1.82827896e-02,  9.57211876e-01],\n",
       "       [ 5.15159193e+00,  1.82827896e-02,  9.57211876e-01],\n",
       "       [ 5.15159193e+00,  1.82827896e-02,  9.57211876e-01],\n",
       "       [ 5.15159193e+00,  1.82827896e-02,  9.57211876e-01],\n",
       "       [ 5.15159193e+00,  1.82827896e-02,  9.57211876e-01],\n",
       "       [ 5.15159193e+00,  1.82827896e-02,  9.57211876e-01],\n",
       "       [ 5.15159193e+00,  1.82827896e-02,  9.57211876e-01],\n",
       "       [ 5.15159193e+00,  1.82827896e-02,  9.57211876e-01],\n",
       "       [ 5.15159193e+00,  1.82827896e-02,  9.57211876e-01],\n",
       "       [ 5.15159193e+00,  1.82827896e-02,  9.57211876e-01],\n",
       "       [ 5.15159193e+00,  1.82827896e-02,  9.57211876e-01],\n",
       "       [ 5.15159193e+00,  1.82827896e-02,  9.57211876e-01],\n",
       "       [ 5.15159193e+00,  1.82827896e-02,  9.57211876e-01],\n",
       "       [ 5.15159193e+00,  1.82827896e-02,  9.57211876e-01],\n",
       "       [ 5.15159193e+00,  1.82827896e-02,  9.57211876e-01],\n",
       "       [ 5.15159193e+00,  1.82827896e-02,  9.57211876e-01],\n",
       "       [ 5.15159193e+00,  1.82827896e-02,  9.57211876e-01],\n",
       "       [ 5.15159193e+00,  1.82827896e-02,  9.57211876e-01],\n",
       "       [ 5.15159193e+00,  1.82827896e-02,  9.57211876e-01],\n",
       "       [ 5.15159193e+00,  1.82827896e-02,  9.57211876e-01],\n",
       "       [ 5.15159193e+00,  1.82827896e-02,  9.57211876e-01],\n",
       "       [ 5.15159193e+00,  1.82827896e-02,  9.57211876e-01]])"
      ]
     },
     "execution_count": 154,
     "metadata": {},
     "output_type": "execute_result"
    }
   ],
   "source": [
    "pelvis"
   ]
  },
  {
   "cell_type": "code",
   "execution_count": 155,
   "metadata": {},
   "outputs": [
    {
     "name": "stdout",
     "output_type": "stream",
     "text": [
      "startThreads creating 1 threads.\n",
      "starting thread 0\n",
      "started thread 0 \n",
      "argc=2\n",
      "argv[0] = --unused\n",
      "argv[1] = --start_demo_name=Physics Server\n",
      "ExampleBrowserThreadFunc started\n",
      "X11 functions dynamically loaded using dlopen/dlsym OK!\n",
      "X11 functions dynamically loaded using dlopen/dlsym OK!\n",
      "Creating context\n",
      "Created GL 3.3 context\n",
      "Direct GLX rendering context obtained\n",
      "Making context current\n",
      "GL_VENDOR=NVIDIA Corporation\n",
      "GL_RENDERER=NVIDIA GeForce RTX 4080/PCIe/SSE2\n",
      "GL_VERSION=3.3.0 NVIDIA 545.29.06\n",
      "GL_SHADING_LANGUAGE_VERSION=3.30 NVIDIA via Cg compiler\n",
      "pthread_getconcurrency()=0\n",
      "Version = 3.3.0 NVIDIA 545.29.06\n",
      "Vendor = NVIDIA Corporation\n",
      "Renderer = NVIDIA GeForce RTX 4080/PCIe/SSE2\n",
      "b3Printf: Selected demo: Physics Server\n",
      "startThreads creating 1 threads.\n",
      "starting thread 0\n",
      "started thread 0 \n",
      "MotionThreadFunc thread started\n",
      "ven = NVIDIA Corporation\n",
      "ven = NVIDIA Corporation\n",
      "numActiveThreads = 0\n",
      "stopping threads\n",
      "Thread with taskId 0 exiting\n",
      "Thread TERMINATED\n",
      "destroy semaphore\n",
      "semaphore destroyed\n",
      "destroy main semaphore\n",
      "main semaphore destroyed\n",
      "finished\n",
      "numActiveThreads = 0\n",
      "btShutDownExampleBrowser stopping threads\n",
      "Thread with taskId 0 exiting\n",
      "Thread TERMINATED\n",
      "destroy semaphore\n",
      "semaphore destroyed\n",
      "destroy main semaphore\n",
      "main semaphore destroyed\n"
     ]
    }
   ],
   "source": [
    "physicsClient = p.connect(p.GUI)  # non-graphical version\n",
    "p.setAdditionalSearchPath(pybullet_data.getDataPath())  # used by loadURDF\n",
    "robot_start_pos = [0, 0, 0]\n",
    "robot_start_orientation = p.getQuaternionFromEuler([0, 0, 0])\n",
    "humanoid = p.loadURDF(robot_urdf, robot_start_pos, robot_start_orientation)\n",
    "\n",
    "\n",
    "num_frames = amass_data['num_frames']\n",
    "pelvis = amass_data['pelvis']\n",
    "upper_rot = amass_data['upper_rot']\n",
    "lower_rot = amass_data['lower_rot']\n",
    "l_elbow_rot = amass_data['l_elbow_rot']\n",
    "r_elbow_rot = amass_data['r_elbow_rot']\n",
    "l_knee_rot = amass_data['l_knee_rot']\n",
    "r_knee_rot = amass_data['r_knee_rot']\n",
    "l_upperarm_dir = amass_data['l_upperarm_dir']\n",
    "r_upperarm_dir = amass_data['r_upperarm_dir']\n",
    "l_thigh_dir = amass_data['l_thigh_dir']\n",
    "r_thigh_dir = amass_data['r_thigh_dir']\n",
    "waist_angles = amass_data['waist_angles']\n",
    "l_foot_angle = amass_data['l_foot_angle']\n",
    "r_foot_angle = amass_data['r_foot_angle']\n",
    "l_foot_dir = amass_data['l_foot_dir']\n",
    "r_foot_dir = amass_data['r_foot_dir']\n",
    "\n",
    "upperarm_len = 0.2648365892539233\n",
    "thigh_len = 0.4252746432372357\n",
    "toe_len = 0.167\n",
    "heel_len = 0.079\n",
    "\n",
    "toe_R = R.from_euler('y', np.arctan(0.047/0.160)).as_matrix()\n",
    "heel_R = R.from_euler('y', np.pi / 2 + np.arctan(0.047/0.064)).as_matrix()\n",
    "\n",
    "num_joints = p.getNumJoints(humanoid)\n",
    "\n",
    "joint_names = []\n",
    "\n",
    "pelvis_copy = pelvis.copy()\n",
    "\n",
    "# Iterate through the joints and print their names\n",
    "for joint_index in range(num_joints):\n",
    "    joint_info = p.getJointInfo(humanoid, joint_index)\n",
    "    joint_name = joint_info[1].decode(\n",
    "        \"utf-8\"\n",
    "    )  # Decode the byte string to get the joint name\n",
    "    joint_names.append(joint_name)\n",
    "\n",
    "joint_poses = []\n",
    "jointDamping = [0.1] * num_joints\n",
    "jointDamping[12] = 100\n",
    "jointDamping[13] = 100\n",
    "jointDamping[14] = 100\n",
    "restPoses = [0.0] * num_joints\n",
    "init_pose = [0.0] * num_joints\n",
    "\n",
    "min_foot_z = np.inf\n",
    "\n",
    "for i in range(num_frames):\n",
    "\n",
    "    init_pose[12] = waist_angles[i,0]\n",
    "    init_pose[13] = waist_angles[i,1]\n",
    "    init_pose[14] = waist_angles[i,2]\n",
    "    restPoses[12] = waist_angles[i,0]\n",
    "    restPoses[13] = waist_angles[i,1]\n",
    "    restPoses[14] = waist_angles[i,2]\n",
    "\n",
    "    p.resetBasePositionAndOrientation(\n",
    "        humanoid, (pelvis[i]).tolist(), lower_rot[i].as_quat().tolist()\n",
    "    )\n",
    "    for joint_index, angle in enumerate(init_pose):\n",
    "        p.resetJointState(humanoid, joint_index, angle)\n",
    "\n",
    "    l_shoulder_pos, _ = p.getLinkState(\n",
    "        humanoid, joint_names.index(\"shoulderRoll_Left\")\n",
    "    )[4:6]\n",
    "    r_shoulder_pos, _ = p.getLinkState(\n",
    "        humanoid, joint_names.index(\"shoulderRoll_Right\")\n",
    "    )[4:6]\n",
    "    l_hip_pos, _ = p.getLinkState(\n",
    "        humanoid, joint_names.index(\"hipRoll_Left\")\n",
    "    )[4:6]\n",
    "    r_hip_pos, _ = p.getLinkState(\n",
    "        humanoid, joint_names.index(\"hipRoll_Right\")\n",
    "    )[4:6]\n",
    "\n",
    "    # IK for l hand\n",
    "    l_elbow_pos = np.array(l_shoulder_pos) + l_upperarm_dir[i] * upperarm_len\n",
    "\n",
    "    # IK for r hand\n",
    "    r_elbow_pos = np.array(r_shoulder_pos) + r_upperarm_dir[i] * upperarm_len\n",
    "\n",
    "    # IK for l foot\n",
    "    l_knee_pos = np.array(l_hip_pos) + l_thigh_dir[i] * thigh_len\n",
    "\n",
    "    # IK for r foot\n",
    "    r_knee_pos = np.array(r_hip_pos) + r_thigh_dir[i] * thigh_len\n",
    "\n",
    "    # # Calculate the IK solution\n",
    "    ik_solution_rh = p.calculateInverseKinematics(\n",
    "        humanoid,\n",
    "        joint_names.index(\"elbow_Right\"),\n",
    "        r_elbow_pos,\n",
    "        targetOrientation=r_elbow_rot.as_quat()[i],\n",
    "        jointDamping=jointDamping,  # Adjust damping as needed,\n",
    "        restPoses=restPoses,  # Initial joint angles\n",
    "    )\n",
    "\n",
    "    ik_solution_lh = p.calculateInverseKinematics(\n",
    "        humanoid,\n",
    "        joint_names.index(\"elbow_Left\"),\n",
    "        l_elbow_pos,\n",
    "        targetOrientation=l_elbow_rot.as_quat()[i],\n",
    "        jointDamping=jointDamping,  # Adjust damping as needed\n",
    "        restPoses=restPoses,  # Initial joint anglesss\n",
    "    )\n",
    "\n",
    "    ik_solution_rf = p.calculateInverseKinematics(\n",
    "        humanoid,\n",
    "        joint_names.index(\"kneePitch_Right\"),\n",
    "        r_knee_pos,\n",
    "        targetOrientation=r_knee_rot.as_quat()[i],\n",
    "        jointDamping=jointDamping,  # Adjust damping as needed\n",
    "        restPoses=restPoses,  # Initial joint angles\n",
    "    )\n",
    "\n",
    "    ik_solution_lf = p.calculateInverseKinematics(\n",
    "        humanoid,\n",
    "        joint_names.index(\"kneePitch_Left\"),\n",
    "        l_knee_pos,\n",
    "        targetOrientation=l_knee_rot.as_quat()[i],\n",
    "        jointDamping=jointDamping,  # Adjust damping as needed\n",
    "        restPoses=restPoses,  # Initial joint angles\n",
    "    )\n",
    "\n",
    "    # p.resetJointState(humanoid, joint_index, ik_solution)\n",
    "\n",
    "    # adam\n",
    "    # ik_solution = np.zeros(num_joints)\n",
    "    # ik_solution[:4] = ik_solution_lf[:4]\n",
    "    # ik_solution[4] = l_foot_angle[i]\n",
    "    # ik_solution[6:10] = ik_solution_rf[6:10]\n",
    "    # ik_solution[10] = r_foot_angle[i]\n",
    "    # ik_solution[12] = waist_angles[i,0]\n",
    "    # ik_solution[13] = waist_angles[i,1]\n",
    "    # ik_solution[14] = waist_angles[i,2]\n",
    "    # ik_solution[16:20] = ik_solution_lh[15:19]\n",
    "    # ik_solution[24:28] = ik_solution_rh[19:23]\n",
    "\n",
    "    # adam lite with wrist\n",
    "    # ik_solution = np.zeros(num_joints)\n",
    "    # ik_solution[:4] = ik_solution_lf[:4]\n",
    "    # ik_solution[4] = l_foot_angle[i]\n",
    "    # ik_solution[6:10] = ik_solution_rf[6:10]\n",
    "    # ik_solution[10] = r_foot_angle[i]\n",
    "    # ik_solution[12] = waist_angles[i,0]\n",
    "    # ik_solution[13] = waist_angles[i,1]\n",
    "    # ik_solution[14] = waist_angles[i,2]\n",
    "    # ik_solution[16:20] = ik_solution_lh[15:19]\n",
    "    # ik_solution[22:26] = ik_solution_rh[20:24]\n",
    "\n",
    "    # adam lite\n",
    "    ik_solution = np.zeros(num_joints)\n",
    "    ik_solution[:4] = ik_solution_lf[:4]\n",
    "    ik_solution[4] = l_foot_angle[i]\n",
    "    ik_solution[6:10] = ik_solution_rf[6:10]\n",
    "    ik_solution[10] = r_foot_angle[i]\n",
    "    ik_solution[12] = waist_angles[i,0]\n",
    "    ik_solution[13] = waist_angles[i,1]\n",
    "    ik_solution[14] = waist_angles[i,2]\n",
    "    ik_solution[16:20] = ik_solution_lh[15:19]\n",
    "    ik_solution[22:26] = ik_solution_rh[19:23]\n",
    "\n",
    "    restPoses = ik_solution\n",
    "    init_pose = ik_solution\n",
    "\n",
    "    for joint_index, angle in enumerate(init_pose):\n",
    "        p.resetJointState(humanoid, joint_index, angle)\n",
    "\n",
    "    l_ankle_pos, l_ankle_rot = p.getLinkState(\n",
    "        humanoid, joint_names.index(\"anklePitch_Left\")\n",
    "    )[4:6]\n",
    "    r_ankle_pos, r_ankle_rot = p.getLinkState(\n",
    "        humanoid, joint_names.index(\"anklePitch_Right\")\n",
    "    )[4:6]\n",
    "\n",
    "    l_rot_matrix = p.getMatrixFromQuaternion(l_ankle_rot)\n",
    "    l_rot_matrix = np.array(l_rot_matrix).reshape(3, 3)\n",
    "    l_toe_pose = np.dot(l_rot_matrix@toe_R, [toe_len, 0, 0]) + l_ankle_pos\n",
    "    l_heel_pose = np.dot(l_rot_matrix@heel_R, [heel_len, 0, 0]) + l_ankle_pos\n",
    "\n",
    "    r_rot_matrix = p.getMatrixFromQuaternion(r_ankle_rot)\n",
    "    r_rot_matrix = np.array(r_rot_matrix).reshape(3, 3)\n",
    "    r_toe_pose = np.dot(r_rot_matrix@toe_R, [toe_len, 0, 0]) + r_ankle_pos\n",
    "    r_heel_pose = np.dot(r_rot_matrix@heel_R, [heel_len, 0, 0]) + r_ankle_pos\n",
    "\n",
    "    if i < 30:\n",
    "        current_min = np.min([l_toe_pose[2], r_toe_pose[2], l_heel_pose[2], r_heel_pose[2]])\n",
    "        if min_foot_z > current_min:\n",
    "            min_foot_z = current_min\n",
    "\n",
    "    pelvis_copy[i, 2] = pelvis[i,2]\n",
    "\n",
    "    # Step the simulation\n",
    "    joint_poses.append(ik_solution)\n",
    "\n",
    "    time.sleep(0.1)\n",
    "\n",
    "p.disconnect()\n",
    "\n",
    "result = {\n",
    "    'root_pos': pelvis_copy - min_foot_z,\n",
    "    'root_rot': lower_rot.as_quat(),\n",
    "    'joint_poses': np.array(joint_poses),\n",
    "    'joint_names': joint_names\n",
    "}"
   ]
  },
  {
   "cell_type": "code",
   "execution_count": 156,
   "metadata": {},
   "outputs": [],
   "source": [
    "result['real_frame_rate'] = 60"
   ]
  },
  {
   "cell_type": "code",
   "execution_count": 159,
   "metadata": {},
   "outputs": [
    {
     "data": {
      "text/plain": [
       "['data/parkour/out/parkour-forward-roll_data.pt']"
      ]
     },
     "execution_count": 159,
     "metadata": {},
     "output_type": "execute_result"
    }
   ],
   "source": [
    "joblib.dump(result, \"data/'Parkour/out/\" + \"{}_data.pt\".format(''Parkour-forward-roll'))"
   ]
  },
  {
   "cell_type": "code",
   "execution_count": 141,
   "metadata": {},
   "outputs": [
    {
     "name": "stdout",
     "output_type": "stream",
     "text": [
      "numActiveThreads = 0\n",
      "stopping threads\n",
      "Thread with taskId 0 exiting\n",
      "Thread TERMINATED\n",
      "destroy semaphore\n",
      "semaphore destroyed\n",
      "destroy main semaphore\n",
      "main semaphore destroyed\n",
      "finished\n",
      "numActiveThreads = 0\n",
      "btShutDownExampleBrowser stopping threads\n",
      "Thread with taskId 0 exiting\n",
      "destroy semaphore\n",
      "semaphore destroyed\n",
      "Thread TERMINATED\n",
      "destroy main semaphore\n",
      "main semaphore destroyed\n"
     ]
    }
   ],
   "source": [
    "p.disconnect()"
   ]
  },
  {
   "cell_type": "code",
   "execution_count": 133,
   "metadata": {},
   "outputs": [
    {
     "name": "stdout",
     "output_type": "stream",
     "text": [
      "startThreads creating 1 threads.\n",
      "starting thread 0\n",
      "started thread 0 \n",
      "argc=2\n",
      "argv[0] = --unused\n",
      "argv[1] = --start_demo_name=Physics Server\n",
      "ExampleBrowserThreadFunc started\n",
      "X11 functions dynamically loaded using dlopen/dlsym OK!\n",
      "X11 functions dynamically loaded using dlopen/dlsym OK!\n",
      "Creating context\n",
      "Created GL 3.3 context\n",
      "Direct GLX rendering context obtained\n",
      "Making context current\n",
      "GL_VENDOR=NVIDIA Corporation\n",
      "GL_RENDERER=NVIDIA GeForce RTX 4080/PCIe/SSE2\n",
      "GL_VERSION=3.3.0 NVIDIA 545.29.06\n",
      "GL_SHADING_LANGUAGE_VERSION=3.30 NVIDIA via Cg compiler\n",
      "pthread_getconcurrency()=0\n",
      "Version = 3.3.0 NVIDIA 545.29.06\n",
      "Vendor = NVIDIA Corporation\n",
      "Renderer = NVIDIA GeForce RTX 4080/PCIe/SSE2\n",
      "b3Printf: Selected demo: Physics Server\n",
      "startThreads creating 1 threads.\n",
      "starting thread 0\n",
      "started thread 0 \n",
      "MotionThreadFunc thread started\n",
      "b3Printf: b3Warning[examples/Importers/ImportURDFDemo/BulletUrdfImporter.cpp,152]:\n",
      "\n",
      "b3Printf: URDF file '/home/jianrenw/Research/humanoid_parkour/retarget/h1_description/urdf/h1.urdf' not found\n",
      "\n",
      "ven = NVIDIA Corporation\n"
     ]
    },
    {
     "ename": "error",
     "evalue": "Cannot load URDF file.",
     "output_type": "error",
     "traceback": [
      "\u001b[0;31m---------------------------------------------------------------------------\u001b[0m",
      "\u001b[0;31merror\u001b[0m                                     Traceback (most recent call last)",
      "Cell \u001b[0;32mIn[133], line 8\u001b[0m\n\u001b[1;32m      5\u001b[0m robot_start_pos \u001b[38;5;241m=\u001b[39m [\u001b[38;5;241m0\u001b[39m, \u001b[38;5;241m0\u001b[39m, \u001b[38;5;241m0\u001b[39m]\n\u001b[1;32m      6\u001b[0m robot_start_orientation \u001b[38;5;241m=\u001b[39m p\u001b[38;5;241m.\u001b[39mgetQuaternionFromEuler([\u001b[38;5;241m0\u001b[39m, \u001b[38;5;241m0\u001b[39m, \u001b[38;5;241m0\u001b[39m])\n\u001b[0;32m----> 8\u001b[0m humanoid \u001b[38;5;241m=\u001b[39m \u001b[43mp\u001b[49m\u001b[38;5;241;43m.\u001b[39;49m\u001b[43mloadURDF\u001b[49m\u001b[43m(\u001b[49m\u001b[43mrobot_urdf\u001b[49m\u001b[43m,\u001b[49m\u001b[43m \u001b[49m\u001b[43mrobot_start_pos\u001b[49m\u001b[43m,\u001b[49m\u001b[43m \u001b[49m\u001b[43mrobot_start_orientation\u001b[49m\u001b[43m)\u001b[49m\n\u001b[1;32m     10\u001b[0m \u001b[38;5;66;03m# Start the base position update loop\u001b[39;00m\n\u001b[1;32m     11\u001b[0m joint_poses \u001b[38;5;241m=\u001b[39m ik(humanoid)\n",
      "\u001b[0;31merror\u001b[0m: Cannot load URDF file."
     ]
    },
    {
     "name": "stdout",
     "output_type": "stream",
     "text": [
      "ven = NVIDIA Corporation\n"
     ]
    }
   ],
   "source": [
    "robot_urdf = \"/home/jianrenw/Research/humanoid_'Parkour/retarget/h1_description/urdf/h1.urdf\"\n",
    "\n",
    "physicsClient = p.connect(p.GUI)  # or p.DIRECT for non-graphical version\n",
    "p.setAdditionalSearchPath(pybullet_data.getDataPath())  # used by loadURDF\n",
    "robot_start_pos = [0, 0, 0]\n",
    "robot_start_orientation = p.getQuaternionFromEuler([0, 0, 0])\n",
    "\n",
    "humanoid = p.loadURDF(robot_urdf, robot_start_pos, robot_start_orientation)\n",
    "\n",
    "# Start the base position update loop\n",
    "joint_poses = ik(humanoid)"
   ]
  },
  {
   "cell_type": "markdown",
   "metadata": {},
   "source": [
    "## Save Video"
   ]
  },
  {
   "cell_type": "code",
   "execution_count": null,
   "metadata": {},
   "outputs": [
    {
     "name": "stdout",
     "output_type": "stream",
     "text": [
      "startThreads creating 1 threads.\n",
      "starting thread 0\n",
      "started thread 0 \n",
      "argc=2\n",
      "argv[0] = --unused\n",
      "argv[1] = --start_demo_name=Physics Server\n",
      "ExampleBrowserThreadFunc started\n",
      "X11 functions dynamically loaded using dlopen/dlsym OK!\n",
      "X11 functions dynamically loaded using dlopen/dlsym OK!\n",
      "Creating context\n",
      "Created GL 3.3 context\n",
      "Direct GLX rendering context obtained\n",
      "Making context current\n",
      "GL_VENDOR=NVIDIA Corporation\n",
      "GL_RENDERER=NVIDIA Graphics Device/PCIe/SSE2\n",
      "GL_VERSION=3.3.0 NVIDIA 520.61.05\n",
      "GL_SHADING_LANGUAGE_VERSION=3.30 NVIDIA via Cg compiler\n",
      "pthread_getconcurrency()=0\n",
      "Version = 3.3.0 NVIDIA 520.61.05\n",
      "Vendor = NVIDIA Corporation\n",
      "Renderer = NVIDIA Graphics Device/PCIe/SSE2\n",
      "b3Printf: Selected demo: Physics Server\n",
      "startThreads creating 1 threads.\n",
      "starting thread 0\n",
      "started thread 0 \n",
      "MotionThreadFunc thread started\n",
      "ven = NVIDIA Corporation\n",
      "b3Printf: b3Warning[examples/Importers/ImportURDFDemo/BulletUrdfImporter.cpp,126]:\n",
      "\n",
      "b3Printf: No inertial data for link, using mass=1, localinertiadiagonal = 1,1,1, identity local inertial frame\n",
      "b3Printf: b3Warning[examples/Importers/ImportURDFDemo/BulletUrdfImporter.cpp,126]:\n",
      "\n",
      "b3Printf: imu_link\n",
      "b3Printf: b3Warning[examples/Importers/ImportURDFDemo/BulletUrdfImporter.cpp,126]:\n",
      "\n",
      "b3Printf: No inertial data for link, using mass=1, localinertiadiagonal = 1,1,1, identity local inertial frame\n",
      "b3Printf: b3Warning[examples/Importers/ImportURDFDemo/BulletUrdfImporter.cpp,126]:\n",
      "\n",
      "b3Printf: logo_link\n",
      "ven = NVIDIA Corporation\n"
     ]
    },
    {
     "name": "stderr",
     "output_type": "stream",
     "text": [
      "ffmpeg version 4.2.7-0ubuntu0.1 Copyright (c) 2000-2022 the FFmpeg developers\n",
      "  built with gcc 9 (Ubuntu 9.4.0-1ubuntu1~20.04.1)\n",
      "  configuration: --prefix=/usr --extra-version=0ubuntu0.1 --toolchain=hardened --libdir=/usr/lib/x86_64-linux-gnu --incdir=/usr/include/x86_64-linux-gnu --arch=amd64 --enable-gpl --disable-stripping --enable-avresample --disable-filter=resample --enable-avisynth --enable-gnutls --enable-ladspa --enable-libaom --enable-libass --enable-libbluray --enable-libbs2b --enable-libcaca --enable-libcdio --enable-libcodec2 --enable-libflite --enable-libfontconfig --enable-libfreetype --enable-libfribidi --enable-libgme --enable-libgsm --enable-libjack --enable-libmp3lame --enable-libmysofa --enable-libopenjpeg --enable-libopenmpt --enable-libopus --enable-libpulse --enable-librsvg --enable-librubberband --enable-libshine --enable-libsnappy --enable-libsoxr --enable-libspeex --enable-libssh --enable-libtheora --enable-libtwolame --enable-libvidstab --enable-libvorbis --enable-libvpx --enable-libwavpack --enable-libwebp --enable-libx265 --enable-libxml2 --enable-libxvid --enable-libzmq --enable-libzvbi --enable-lv2 --enable-omx --enable-openal --enable-opencl --enable-opengl --enable-sdl2 --enable-libdc1394 --enable-libdrm --enable-libiec61883 --enable-nvenc --enable-chromaprint --enable-frei0r --enable-libx264 --enable-shared\n",
      "  libavutil      56. 31.100 / 56. 31.100\n",
      "  libavcodec     58. 54.100 / 58. 54.100\n",
      "  libavformat    58. 29.100 / 58. 29.100\n",
      "  libavdevice    58.  8.100 / 58.  8.100\n",
      "  libavfilter     7. 57.100 /  7. 57.100\n",
      "  libavresample   4.  0.  0 /  4.  0.  0\n",
      "  libswscale      5.  5.100 /  5.  5.100\n",
      "  libswresample   3.  5.100 /  3.  5.100\n",
      "  libpostproc    55.  5.100 / 55.  5.100\n",
      "Input #0, rawvideo, from 'pipe:':\n",
      "  Duration: N/A, start: 0.000000, bitrate: 6702074 kb/s\n",
      "    Stream #0:0: Video: rawvideo (RGBA / 0x41424752), rgba, 2488x1403, 6702074 kb/s, 60 tbr, 60 tbn, 60 tbc\n",
      "Stream mapping:\n",
      "  Stream #0:0 -> #0:0 (rawvideo (native) -> h264 (libx264))\n",
      "[libx264 @ 0x55a53aa99bc0] height not divisible by 2 (2488x1403)\n",
      "Error initializing output stream 0:0 -- Error while opening encoder for output stream #0:0 - maybe incorrect parameters such as bit_rate, rate, width or height\n",
      "Conversion failed!\n"
     ]
    },
    {
     "name": "stdout",
     "output_type": "stream",
     "text": [
      "numActiveThreads = 0\n",
      "stopping threads\n",
      "Thread with taskId 0 exiting\n",
      "Thread TERMINATED\n",
      "destroy semaphore\n",
      "semaphore destroyed\n",
      "destroy main semaphore\n",
      "main semaphore destroyed\n",
      "finished\n",
      "numActiveThreads = 0\n",
      "btShutDownExampleBrowser stopping threads\n",
      "destroy semaphore\n",
      "semaphore destroyed\n",
      "Thread with taskId 0 exiting\n",
      "Thread TERMINATED\n",
      "destroy main semaphore\n",
      "main semaphore destroyed\n"
     ]
    }
   ],
   "source": [
    "robot_urdf = \"/home/jianrenw/Research/humanoid_'Parkour/retarget/h1_description/urdf/h1.urdf\"\n",
    "\n",
    "physicsClient = p.connect(p.GUI)  # or p.DIRECT for non-graphical version\n",
    "p.setAdditionalSearchPath(pybullet_data.getDataPath())  # used by loadURDF\n",
    "robot_start_pos = [0, 0, 0]\n",
    "robot_start_orientation = p.getQuaternionFromEuler([0, 0, 0])\n",
    "\n",
    "humanoid = p.loadURDF(robot_urdf, robot_start_pos, robot_start_orientation)\n",
    "\n",
    "video_filename = \"simulation_h1_video.mp4\"\n",
    "frame_width = 1280  # Adjust the frame width as needed\n",
    "frame_height = 720  # Adjust the frame height as needed\n",
    "frame_rate = 30  # Adjust the frame rate (frames per second) as needed\n",
    "\n",
    "\n",
    "time.sleep(5)\n",
    "\n",
    "p.startStateLogging(p.STATE_LOGGING_VIDEO_MP4, video_filename)\n",
    "\n",
    "for i in range(frame_num):\n",
    "    key_t = translation[i] / 100\n",
    "    key_r = base_rot[i]\n",
    "    p.resetBasePositionAndOrientation(humanoid, key_t[0].tolist(), key_r.tolist())\n",
    "    for joint_index, angle in enumerate(joint_poses[i]):\n",
    "        p.resetJointState(humanoid, joint_index, angle)\n",
    "    p.stepSimulation()\n",
    "    time.sleep(5.0 / frame_rate)\n",
    "\n",
    "\n",
    "p.stopStateLogging(p.STATE_LOGGING_VIDEO_MP4)\n",
    "p.disconnect()"
   ]
  },
  {
   "cell_type": "code",
   "execution_count": 10,
   "metadata": {},
   "outputs": [
    {
     "data": {
      "text/plain": [
       "array([[ 0.16987518,  0.01599213, -0.34437726, ...,  0.06131537,\n",
       "         0.        ,  0.        ],\n",
       "       [ 0.19750815,  0.02771593, -0.55568496, ..., -0.09586451,\n",
       "         0.        ,  0.        ],\n",
       "       [ 0.19737979,  0.02682791, -0.61939508, ..., -0.09432242,\n",
       "         0.        ,  0.        ],\n",
       "       ...,\n",
       "       [ 0.28426226, -0.16334513, -0.49797419, ...,  0.18871116,\n",
       "         0.        ,  0.        ],\n",
       "       [ 0.2775931 , -0.17256745, -0.45473287, ...,  0.20171518,\n",
       "         0.        ,  0.        ],\n",
       "       [ 0.27887362, -0.17523028, -0.43649568, ...,  0.20163231,\n",
       "         0.        ,  0.        ]])"
      ]
     },
     "execution_count": 10,
     "metadata": {},
     "output_type": "execute_result"
    }
   ],
   "source": [
    "np.array(joint_poses)"
   ]
  },
  {
   "cell_type": "code",
   "execution_count": null,
   "metadata": {},
   "outputs": [],
   "source": []
  }
 ],
 "metadata": {
  "kernelspec": {
   "display_name": "Python 3",
   "language": "python",
   "name": "python3"
  },
  "language_info": {
   "codemirror_mode": {
    "name": "ipython",
    "version": 3
   },
   "file_extension": ".py",
   "mimetype": "text/x-python",
   "name": "python",
   "nbconvert_exporter": "python",
   "pygments_lexer": "ipython3",
   "version": "3.10.13"
  }
 },
 "nbformat": 4,
 "nbformat_minor": 2
}
