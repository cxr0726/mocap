{
 "cells": [
  {
   "cell_type": "code",
   "execution_count": 1,
   "metadata": {},
   "outputs": [
    {
     "name": "stderr",
     "output_type": "stream",
     "text": [
      "pybullet build time: Nov 28 2023 23:45:17\n"
     ]
    }
   ],
   "source": [
    "import pybullet as p\n",
    "import pybullet_data\n",
    "import argparse\n",
    "import numpy as np\n",
    "import os\n",
    "import os.path as osp\n",
    "import joblib\n",
    "from scipy.spatial.transform import Rotation as R\n",
    "from tqdm import tqdm\n",
    "import sys\n",
    "from contextlib import contextmanager\n",
    "from multiprocessing import Pool\n",
    "import time\n",
    "import plotly\n",
    "import plotly.graph_objs as go"
   ]
  },
  {
   "cell_type": "code",
   "execution_count": 2,
   "metadata": {},
   "outputs": [],
   "source": [
    "result = joblib.load('/home/jianrenw/mocap/data/out/amass.pt')"
   ]
  },
  {
   "cell_type": "code",
   "execution_count": 3,
   "metadata": {},
   "outputs": [],
   "source": [
    "keys = list(result.keys())\n",
    "current_key = keys[10]\n",
    "# current_key = 'DanceDB_20151003_AndriaMichaelidou_Andria_Afraid_v1_C3D_poses'\n",
    "skeleton = result[current_key]['skeleton']\n",
    "mocap_rate = result[current_key]['mocap_framerate']"
   ]
  },
  {
   "cell_type": "code",
   "execution_count": 4,
   "metadata": {
    "pycharm": {
     "is_executing": true
    }
   },
   "outputs": [],
   "source": [
    "num_frames = skeleton.shape[0]\n",
    "\n",
    "pelvis = skeleton[:,0,:]\n",
    "\n",
    "l_upperarm = skeleton[:,16,:]\n",
    "l_forearm = skeleton[:,18,:]\n",
    "l_hand = skeleton[:,20,:]\n",
    "\n",
    "r_upperarm = skeleton[:,17,:]\n",
    "r_forearm = skeleton[:,19,:]\n",
    "r_hand = skeleton[:,21,:]\n",
    "\n",
    "l_thigh = skeleton[:,1,:]\n",
    "l_calf = skeleton[:,4,:]\n",
    "l_foot = skeleton[:,7,:]\n",
    "l_toe = skeleton[:,10,:]\n",
    "\n",
    "r_thigh = skeleton[:,2,:]\n",
    "r_calf = skeleton[:,5,:]\n",
    "r_foot = skeleton[:,8,:]\n",
    "r_toe = skeleton[:,11,:]\n",
    "\n",
    "l_elbow_o = skeleton[:,24,:]\n",
    "l_elbow_i = skeleton[:,25,:]\n",
    "r_elbow_i = skeleton[:,26,:]\n",
    "r_elbow_o = skeleton[:,27,:]\n",
    "\n",
    "# upper body\n",
    "head = (l_upperarm + r_upperarm) / 2\n",
    "upper_z = (head - pelvis) / np.linalg.norm(head - pelvis, axis=1, keepdims=True)\n",
    "upper_x = np.cross(pelvis - l_upperarm, pelvis - r_upperarm)\n",
    "upper_x = upper_x / np.linalg.norm(upper_x, axis=1, keepdims=True)\n",
    "upper_y = np.cross(upper_z, upper_x)\n",
    "upper_rot = np.stack([upper_x, upper_y, upper_z], axis=2)\n",
    "\n",
    "# lower body\n",
    "crotch = (l_thigh + r_thigh) / 2\n",
    "lower_z = - (crotch - pelvis) / np.linalg.norm(crotch - pelvis, axis=1, keepdims=True)\n",
    "lower_x = np.cross(pelvis - r_thigh, pelvis - l_thigh)\n",
    "lower_x = lower_x / np.linalg.norm(lower_x, axis=1, keepdims=True)\n",
    "lower_y = np.cross(lower_z, lower_x)\n",
    "lower_rot = np.stack([lower_x, lower_y, lower_z], axis=2)\n",
    "\n",
    "# left arm\n",
    "l_elbow_rot_x = l_hand - l_forearm\n",
    "l_elbow_rot_x = l_elbow_rot_x / np.linalg.norm(\n",
    "    l_elbow_rot_x, axis=1, keepdims=True\n",
    ")\n",
    "l_elbow_rot_y_1 = l_elbow_i - l_elbow_o\n",
    "l_elbow_rot_y_1 = l_elbow_rot_y_1 / np.linalg.norm(\n",
    "    l_elbow_rot_y_1, axis=1, keepdims=True\n",
    ")\n",
    "l_elbow_rot_y_2 = l_upperarm - l_forearm\n",
    "l_elbow_rot_y_2 = l_elbow_rot_y_2 / np.linalg.norm(\n",
    "    l_elbow_rot_y_2, axis=1, keepdims=True\n",
    ")\n",
    "l_elbow_rot_y_2 = np.cross(l_elbow_rot_y_2, l_elbow_rot_x)\n",
    "l_elbow_rot_y_2 = l_elbow_rot_y_2 / np.linalg.norm(\n",
    "    l_elbow_rot_y_2, axis=1, keepdims=True\n",
    ")\n",
    "correction = np.einsum('ij,ij->i', l_elbow_rot_y_1, l_elbow_rot_y_2) < 0\n",
    "l_elbow_rot_y_2[correction] = -l_elbow_rot_y_2[correction]\n",
    "\n",
    "l_elbow_rot_z = np.cross(l_elbow_rot_x, l_elbow_rot_y_2)\n",
    "l_elbow_rot_z = l_elbow_rot_z / np.linalg.norm(\n",
    "    l_elbow_rot_z, axis=1, keepdims=True\n",
    ")\n",
    "\n",
    "l_elbow_rot = np.stack([l_elbow_rot_x, l_elbow_rot_y_2, l_elbow_rot_z], axis=2)\n",
    "\n",
    "l_upperarm_dir = l_forearm - l_upperarm\n",
    "l_upperarm_dir = l_upperarm_dir / np.linalg.norm(\n",
    "    l_upperarm_dir, axis=1, keepdims=True\n",
    ")\n",
    "\n",
    "# right arm\n",
    "r_elbow_rot_x = r_hand - r_forearm\n",
    "r_elbow_rot_x = r_elbow_rot_x / np.linalg.norm(\n",
    "    r_elbow_rot_x, axis=1, keepdims=True\n",
    ")\n",
    "r_elbow_rot_y_1 = r_elbow_i - r_elbow_o\n",
    "r_elbow_rot_y_1 = r_elbow_rot_y_1 / np.linalg.norm(\n",
    "    r_elbow_rot_y_1, axis=1, keepdims=True\n",
    ")\n",
    "r_elbow_rot_y_2 = r_upperarm - r_forearm\n",
    "r_elbow_rot_y_2 = r_elbow_rot_y_2 / np.linalg.norm(\n",
    "    r_elbow_rot_y_2, axis=1, keepdims=True\n",
    ")\n",
    "r_elbow_rot_y_2 = np.cross(r_elbow_rot_y_2, r_elbow_rot_x)\n",
    "r_elbow_rot_y_2 = r_elbow_rot_y_2 / np.linalg.norm(\n",
    "    r_elbow_rot_y_2, axis=1, keepdims=True\n",
    ")\n",
    "correction = np.einsum('ij,ij->i', r_elbow_rot_y_1, r_elbow_rot_y_2) < 0\n",
    "r_elbow_rot_y_2[correction] = -r_elbow_rot_y_2[correction]\n",
    "\n",
    "r_elbow_rot_z = np.cross(r_elbow_rot_x, r_elbow_rot_y_2)\n",
    "r_elbow_rot_z = r_elbow_rot_z / np.linalg.norm(\n",
    "    r_elbow_rot_z, axis=1, keepdims=True\n",
    ")\n",
    "\n",
    "r_elbow_rot = np.stack([r_elbow_rot_x, r_elbow_rot_y_2, r_elbow_rot_z], axis=2)\n",
    "\n",
    "r_upperarm_dir = r_forearm - r_upperarm\n",
    "r_upperarm_dir = r_upperarm_dir / np.linalg.norm(\n",
    "    r_upperarm_dir, axis=1, keepdims=True\n",
    ")\n",
    "\n",
    "# left knee\n",
    "l_calf_dir = l_calf - l_foot\n",
    "l_calf_dir = l_calf_dir / np.linalg.norm(\n",
    "    l_calf_dir, axis=1, keepdims=True\n",
    ")\n",
    "l_foot_dir = l_toe - l_foot\n",
    "l_foot_dir = l_foot_dir / np.linalg.norm(\n",
    "    l_foot_dir, axis=1, keepdims=True\n",
    ")\n",
    "l_knee_rot_y = np.cross(l_calf_dir, l_foot_dir)\n",
    "l_knee_rot_y = l_knee_rot_y / np.linalg.norm(\n",
    "    l_knee_rot_y, axis=1, keepdims=True\n",
    ")\n",
    "l_knee_rot_x = np.cross(l_knee_rot_y, l_calf_dir)\n",
    "l_knee_rot_x = l_knee_rot_x / np.linalg.norm(\n",
    "    l_knee_rot_x, axis=1, keepdims=True\n",
    ")\n",
    "l_knee_rot = np.stack([l_knee_rot_x, l_knee_rot_y, l_calf_dir], axis=2)\n",
    "\n",
    "l_thigh_dir = l_calf - l_thigh\n",
    "l_thigh_dir = l_thigh_dir / np.linalg.norm(l_thigh_dir, axis=1, keepdims=True)\n",
    "\n",
    "# left ankle angle\n",
    "cos = np.einsum('ij,ij->i', l_calf_dir, l_foot_dir) / (np.linalg.norm(l_calf_dir, axis=1) * np.linalg.norm(l_foot_dir, axis=1))\n",
    "l_foot_angle = np.arccos(cos) - np.arctan(0.07/0.175) - np.pi/2\n",
    "\n",
    "# right knee\n",
    "r_calf_dir = r_calf - r_foot\n",
    "r_calf_dir = r_calf_dir / np.linalg.norm(\n",
    "    r_calf_dir, axis=1, keepdims=True\n",
    ")\n",
    "r_foot_dir = r_toe - r_foot\n",
    "r_foot_dir = r_foot_dir / np.linalg.norm(\n",
    "    r_foot_dir, axis=1, keepdims=True\n",
    ")\n",
    "r_knee_rot_y = np.cross(r_calf_dir, r_foot_dir)\n",
    "r_knee_rot_y = r_knee_rot_y / np.linalg.norm(\n",
    "    r_knee_rot_y, axis=1, keepdims=True\n",
    ")\n",
    "r_knee_rot_x = np.cross(r_knee_rot_y, r_calf_dir)\n",
    "r_knee_rot_x = r_knee_rot_x / np.linalg.norm(\n",
    "    r_knee_rot_x, axis=1, keepdims=True\n",
    ")\n",
    "r_knee_rot = np.stack([r_knee_rot_x, r_knee_rot_y, r_calf_dir], axis=2)\n",
    "\n",
    "r_thigh_dir = r_calf - r_thigh\n",
    "r_thigh_dir = r_thigh_dir / np.linalg.norm(r_thigh_dir, axis=1, keepdims=True)\n",
    "\n",
    "# right ankle angle\n",
    "cos = np.einsum('ij,ij->i', r_calf_dir, r_foot_dir) / (np.linalg.norm(r_calf_dir, axis=1) * np.linalg.norm(r_foot_dir, axis=1))\n",
    "r_foot_angle = np.arccos(cos) - np.arctan(0.07/0.175) - np.pi/2\n",
    "\n",
    "# to pybullet\n",
    "upper_rot = R.from_matrix(upper_rot)\n",
    "lower_rot = R.from_matrix(lower_rot)\n",
    "l_knee_rot = R.from_matrix(l_knee_rot)\n",
    "r_knee_rot = R.from_matrix(r_knee_rot)\n",
    "l_elbow_rot = R.from_matrix(l_elbow_rot)\n",
    "r_elbow_rot = R.from_matrix(r_elbow_rot)\n",
    "\n",
    "# torso angle\n",
    "torso_angle = np.arccos(np.clip(np.sum(lower_y*upper_y, axis=1, keepdims=True), -1, 1))\n",
    "torso_sign = np.sign(np.sum(np.cross(lower_y,upper_y)*upper_z, axis=1, keepdims=True))\n",
    "torso_angle = torso_angle * torso_sign\n",
    "\n",
    "# waist angle\n",
    "R_u_l = np.einsum('ijk,ikl->ijl', np.transpose(lower_rot.as_matrix(), (0, 2, 1)), upper_rot.as_matrix())\n",
    "R_u_l = R.from_matrix(R_u_l)\n",
    "waist_angles = R_u_l.as_euler('xyz', degrees=False)"
   ]
  },
  {
   "cell_type": "code",
   "execution_count": 5,
   "metadata": {},
   "outputs": [
    {
     "data": {
      "text/plain": [
       "(535, 28, 3)"
      ]
     },
     "execution_count": 5,
     "metadata": {},
     "output_type": "execute_result"
    }
   ],
   "source": [
    "skeleton.shape"
   ]
  },
  {
   "cell_type": "code",
   "execution_count": 6,
   "metadata": {},
   "outputs": [
    {
     "data": {
      "application/vnd.plotly.v1+json": {
       "config": {
        "plotlyServerURL": "https://plot.ly"
       },
       "data": [
        {
         "marker": {
          "opacity": 0.8,
          "size": 6
         },
         "mode": "markers",
         "type": "scatter3d",
         "x": [
          -0.027806144207715988,
          -0.0954369604587555,
          0.027252350002527237,
          -0.02907407656311989,
          -0.12214735150337219,
          0.08603771030902863,
          -0.03365997597575188,
          -0.06813710182905197,
          0.03126910701394081,
          -0.03150608763098717,
          -0.1206129640340805,
          0.06255558133125305,
          -0.02672966569662094,
          -0.10999447107315063,
          0.054033312946558,
          -0.03446490317583084,
          -0.24532124400138855,
          0.18510973453521729,
          -0.2443111538887024,
          0.23561930656433105,
          -0.3010173738002777,
          0.2662622630596161,
          -0.2690301537513733,
          -0.2537655234336853,
          -0.26879292726516724,
          -0.21853891015052795,
          0.19034452736377716,
          0.2772565186023712
         ],
         "y": [
          3.288140058517456,
          3.2852706909179688,
          3.2702739238739014,
          3.2398858070373535,
          3.4827370643615723,
          3.1747140884399414,
          3.288411855697632,
          3.4620308876037598,
          2.8203470706939697,
          3.3044278621673584,
          3.5904150009155273,
          2.8201494216918945,
          3.3038244247436523,
          3.303110361099243,
          3.298651933670044,
          3.3639540672302246,
          3.272420644760132,
          3.300091505050659,
          3.1389989852905273,
          3.25471568107605,
          3.100773334503174,
          3.4688239097595215,
          3.10888934135437,
          3.1037731170654297,
          3.127960681915283,
          3.186257839202881,
          3.28488826751709,
          3.2663893699645996
         ],
         "z": [
          0.8854794502258301,
          0.8047254085540771,
          0.7874348759651184,
          1.0118054151535034,
          0.4809996783733368,
          0.434969425201416,
          1.1523274183273315,
          0.07318705320358276,
          0.2397976517677307,
          1.2096530199050903,
          0.050428688526153564,
          0.09412199258804321,
          1.4340975284576416,
          1.3297507762908936,
          1.329147219657898,
          1.5176587104797363,
          1.3139245510101318,
          1.3332102298736572,
          1.0987846851348877,
          1.0759631395339966,
          0.8458882570266724,
          0.9212686419487,
          0.7434986233711243,
          0.7144582271575928,
          1.120596170425415,
          1.0815666913986206,
          1.0656523704528809,
          1.0521023273468018
         ]
        },
        {
         "marker": {
          "opacity": 0.8,
          "size": 10
         },
         "mode": "markers",
         "type": "scatter3d",
         "x": [
          -0.2690301537513733
         ],
         "y": [
          3.10888934135437
         ],
         "z": [
          0.7434986233711243
         ]
        }
       ],
       "layout": {
        "margin": {
         "b": 0,
         "l": 0,
         "r": 0,
         "t": 0
        },
        "scene": {
         "aspectratio": {
          "x": 1,
          "y": 1,
          "z": 1
         }
        },
        "template": {
         "data": {
          "bar": [
           {
            "error_x": {
             "color": "#2a3f5f"
            },
            "error_y": {
             "color": "#2a3f5f"
            },
            "marker": {
             "line": {
              "color": "#E5ECF6",
              "width": 0.5
             },
             "pattern": {
              "fillmode": "overlay",
              "size": 10,
              "solidity": 0.2
             }
            },
            "type": "bar"
           }
          ],
          "barpolar": [
           {
            "marker": {
             "line": {
              "color": "#E5ECF6",
              "width": 0.5
             },
             "pattern": {
              "fillmode": "overlay",
              "size": 10,
              "solidity": 0.2
             }
            },
            "type": "barpolar"
           }
          ],
          "carpet": [
           {
            "aaxis": {
             "endlinecolor": "#2a3f5f",
             "gridcolor": "white",
             "linecolor": "white",
             "minorgridcolor": "white",
             "startlinecolor": "#2a3f5f"
            },
            "baxis": {
             "endlinecolor": "#2a3f5f",
             "gridcolor": "white",
             "linecolor": "white",
             "minorgridcolor": "white",
             "startlinecolor": "#2a3f5f"
            },
            "type": "carpet"
           }
          ],
          "choropleth": [
           {
            "colorbar": {
             "outlinewidth": 0,
             "ticks": ""
            },
            "type": "choropleth"
           }
          ],
          "contour": [
           {
            "colorbar": {
             "outlinewidth": 0,
             "ticks": ""
            },
            "colorscale": [
             [
              0,
              "#0d0887"
             ],
             [
              0.1111111111111111,
              "#46039f"
             ],
             [
              0.2222222222222222,
              "#7201a8"
             ],
             [
              0.3333333333333333,
              "#9c179e"
             ],
             [
              0.4444444444444444,
              "#bd3786"
             ],
             [
              0.5555555555555556,
              "#d8576b"
             ],
             [
              0.6666666666666666,
              "#ed7953"
             ],
             [
              0.7777777777777778,
              "#fb9f3a"
             ],
             [
              0.8888888888888888,
              "#fdca26"
             ],
             [
              1,
              "#f0f921"
             ]
            ],
            "type": "contour"
           }
          ],
          "contourcarpet": [
           {
            "colorbar": {
             "outlinewidth": 0,
             "ticks": ""
            },
            "type": "contourcarpet"
           }
          ],
          "heatmap": [
           {
            "colorbar": {
             "outlinewidth": 0,
             "ticks": ""
            },
            "colorscale": [
             [
              0,
              "#0d0887"
             ],
             [
              0.1111111111111111,
              "#46039f"
             ],
             [
              0.2222222222222222,
              "#7201a8"
             ],
             [
              0.3333333333333333,
              "#9c179e"
             ],
             [
              0.4444444444444444,
              "#bd3786"
             ],
             [
              0.5555555555555556,
              "#d8576b"
             ],
             [
              0.6666666666666666,
              "#ed7953"
             ],
             [
              0.7777777777777778,
              "#fb9f3a"
             ],
             [
              0.8888888888888888,
              "#fdca26"
             ],
             [
              1,
              "#f0f921"
             ]
            ],
            "type": "heatmap"
           }
          ],
          "heatmapgl": [
           {
            "colorbar": {
             "outlinewidth": 0,
             "ticks": ""
            },
            "colorscale": [
             [
              0,
              "#0d0887"
             ],
             [
              0.1111111111111111,
              "#46039f"
             ],
             [
              0.2222222222222222,
              "#7201a8"
             ],
             [
              0.3333333333333333,
              "#9c179e"
             ],
             [
              0.4444444444444444,
              "#bd3786"
             ],
             [
              0.5555555555555556,
              "#d8576b"
             ],
             [
              0.6666666666666666,
              "#ed7953"
             ],
             [
              0.7777777777777778,
              "#fb9f3a"
             ],
             [
              0.8888888888888888,
              "#fdca26"
             ],
             [
              1,
              "#f0f921"
             ]
            ],
            "type": "heatmapgl"
           }
          ],
          "histogram": [
           {
            "marker": {
             "pattern": {
              "fillmode": "overlay",
              "size": 10,
              "solidity": 0.2
             }
            },
            "type": "histogram"
           }
          ],
          "histogram2d": [
           {
            "colorbar": {
             "outlinewidth": 0,
             "ticks": ""
            },
            "colorscale": [
             [
              0,
              "#0d0887"
             ],
             [
              0.1111111111111111,
              "#46039f"
             ],
             [
              0.2222222222222222,
              "#7201a8"
             ],
             [
              0.3333333333333333,
              "#9c179e"
             ],
             [
              0.4444444444444444,
              "#bd3786"
             ],
             [
              0.5555555555555556,
              "#d8576b"
             ],
             [
              0.6666666666666666,
              "#ed7953"
             ],
             [
              0.7777777777777778,
              "#fb9f3a"
             ],
             [
              0.8888888888888888,
              "#fdca26"
             ],
             [
              1,
              "#f0f921"
             ]
            ],
            "type": "histogram2d"
           }
          ],
          "histogram2dcontour": [
           {
            "colorbar": {
             "outlinewidth": 0,
             "ticks": ""
            },
            "colorscale": [
             [
              0,
              "#0d0887"
             ],
             [
              0.1111111111111111,
              "#46039f"
             ],
             [
              0.2222222222222222,
              "#7201a8"
             ],
             [
              0.3333333333333333,
              "#9c179e"
             ],
             [
              0.4444444444444444,
              "#bd3786"
             ],
             [
              0.5555555555555556,
              "#d8576b"
             ],
             [
              0.6666666666666666,
              "#ed7953"
             ],
             [
              0.7777777777777778,
              "#fb9f3a"
             ],
             [
              0.8888888888888888,
              "#fdca26"
             ],
             [
              1,
              "#f0f921"
             ]
            ],
            "type": "histogram2dcontour"
           }
          ],
          "mesh3d": [
           {
            "colorbar": {
             "outlinewidth": 0,
             "ticks": ""
            },
            "type": "mesh3d"
           }
          ],
          "parcoords": [
           {
            "line": {
             "colorbar": {
              "outlinewidth": 0,
              "ticks": ""
             }
            },
            "type": "parcoords"
           }
          ],
          "pie": [
           {
            "automargin": true,
            "type": "pie"
           }
          ],
          "scatter": [
           {
            "fillpattern": {
             "fillmode": "overlay",
             "size": 10,
             "solidity": 0.2
            },
            "type": "scatter"
           }
          ],
          "scatter3d": [
           {
            "line": {
             "colorbar": {
              "outlinewidth": 0,
              "ticks": ""
             }
            },
            "marker": {
             "colorbar": {
              "outlinewidth": 0,
              "ticks": ""
             }
            },
            "type": "scatter3d"
           }
          ],
          "scattercarpet": [
           {
            "marker": {
             "colorbar": {
              "outlinewidth": 0,
              "ticks": ""
             }
            },
            "type": "scattercarpet"
           }
          ],
          "scattergeo": [
           {
            "marker": {
             "colorbar": {
              "outlinewidth": 0,
              "ticks": ""
             }
            },
            "type": "scattergeo"
           }
          ],
          "scattergl": [
           {
            "marker": {
             "colorbar": {
              "outlinewidth": 0,
              "ticks": ""
             }
            },
            "type": "scattergl"
           }
          ],
          "scattermapbox": [
           {
            "marker": {
             "colorbar": {
              "outlinewidth": 0,
              "ticks": ""
             }
            },
            "type": "scattermapbox"
           }
          ],
          "scatterpolar": [
           {
            "marker": {
             "colorbar": {
              "outlinewidth": 0,
              "ticks": ""
             }
            },
            "type": "scatterpolar"
           }
          ],
          "scatterpolargl": [
           {
            "marker": {
             "colorbar": {
              "outlinewidth": 0,
              "ticks": ""
             }
            },
            "type": "scatterpolargl"
           }
          ],
          "scatterternary": [
           {
            "marker": {
             "colorbar": {
              "outlinewidth": 0,
              "ticks": ""
             }
            },
            "type": "scatterternary"
           }
          ],
          "surface": [
           {
            "colorbar": {
             "outlinewidth": 0,
             "ticks": ""
            },
            "colorscale": [
             [
              0,
              "#0d0887"
             ],
             [
              0.1111111111111111,
              "#46039f"
             ],
             [
              0.2222222222222222,
              "#7201a8"
             ],
             [
              0.3333333333333333,
              "#9c179e"
             ],
             [
              0.4444444444444444,
              "#bd3786"
             ],
             [
              0.5555555555555556,
              "#d8576b"
             ],
             [
              0.6666666666666666,
              "#ed7953"
             ],
             [
              0.7777777777777778,
              "#fb9f3a"
             ],
             [
              0.8888888888888888,
              "#fdca26"
             ],
             [
              1,
              "#f0f921"
             ]
            ],
            "type": "surface"
           }
          ],
          "table": [
           {
            "cells": {
             "fill": {
              "color": "#EBF0F8"
             },
             "line": {
              "color": "white"
             }
            },
            "header": {
             "fill": {
              "color": "#C8D4E3"
             },
             "line": {
              "color": "white"
             }
            },
            "type": "table"
           }
          ]
         },
         "layout": {
          "annotationdefaults": {
           "arrowcolor": "#2a3f5f",
           "arrowhead": 0,
           "arrowwidth": 1
          },
          "autotypenumbers": "strict",
          "coloraxis": {
           "colorbar": {
            "outlinewidth": 0,
            "ticks": ""
           }
          },
          "colorscale": {
           "diverging": [
            [
             0,
             "#8e0152"
            ],
            [
             0.1,
             "#c51b7d"
            ],
            [
             0.2,
             "#de77ae"
            ],
            [
             0.3,
             "#f1b6da"
            ],
            [
             0.4,
             "#fde0ef"
            ],
            [
             0.5,
             "#f7f7f7"
            ],
            [
             0.6,
             "#e6f5d0"
            ],
            [
             0.7,
             "#b8e186"
            ],
            [
             0.8,
             "#7fbc41"
            ],
            [
             0.9,
             "#4d9221"
            ],
            [
             1,
             "#276419"
            ]
           ],
           "sequential": [
            [
             0,
             "#0d0887"
            ],
            [
             0.1111111111111111,
             "#46039f"
            ],
            [
             0.2222222222222222,
             "#7201a8"
            ],
            [
             0.3333333333333333,
             "#9c179e"
            ],
            [
             0.4444444444444444,
             "#bd3786"
            ],
            [
             0.5555555555555556,
             "#d8576b"
            ],
            [
             0.6666666666666666,
             "#ed7953"
            ],
            [
             0.7777777777777778,
             "#fb9f3a"
            ],
            [
             0.8888888888888888,
             "#fdca26"
            ],
            [
             1,
             "#f0f921"
            ]
           ],
           "sequentialminus": [
            [
             0,
             "#0d0887"
            ],
            [
             0.1111111111111111,
             "#46039f"
            ],
            [
             0.2222222222222222,
             "#7201a8"
            ],
            [
             0.3333333333333333,
             "#9c179e"
            ],
            [
             0.4444444444444444,
             "#bd3786"
            ],
            [
             0.5555555555555556,
             "#d8576b"
            ],
            [
             0.6666666666666666,
             "#ed7953"
            ],
            [
             0.7777777777777778,
             "#fb9f3a"
            ],
            [
             0.8888888888888888,
             "#fdca26"
            ],
            [
             1,
             "#f0f921"
            ]
           ]
          },
          "colorway": [
           "#636efa",
           "#EF553B",
           "#00cc96",
           "#ab63fa",
           "#FFA15A",
           "#19d3f3",
           "#FF6692",
           "#B6E880",
           "#FF97FF",
           "#FECB52"
          ],
          "font": {
           "color": "#2a3f5f"
          },
          "geo": {
           "bgcolor": "white",
           "lakecolor": "white",
           "landcolor": "#E5ECF6",
           "showlakes": true,
           "showland": true,
           "subunitcolor": "white"
          },
          "hoverlabel": {
           "align": "left"
          },
          "hovermode": "closest",
          "mapbox": {
           "style": "light"
          },
          "paper_bgcolor": "white",
          "plot_bgcolor": "#E5ECF6",
          "polar": {
           "angularaxis": {
            "gridcolor": "white",
            "linecolor": "white",
            "ticks": ""
           },
           "bgcolor": "#E5ECF6",
           "radialaxis": {
            "gridcolor": "white",
            "linecolor": "white",
            "ticks": ""
           }
          },
          "scene": {
           "xaxis": {
            "backgroundcolor": "#E5ECF6",
            "gridcolor": "white",
            "gridwidth": 2,
            "linecolor": "white",
            "showbackground": true,
            "ticks": "",
            "zerolinecolor": "white"
           },
           "yaxis": {
            "backgroundcolor": "#E5ECF6",
            "gridcolor": "white",
            "gridwidth": 2,
            "linecolor": "white",
            "showbackground": true,
            "ticks": "",
            "zerolinecolor": "white"
           },
           "zaxis": {
            "backgroundcolor": "#E5ECF6",
            "gridcolor": "white",
            "gridwidth": 2,
            "linecolor": "white",
            "showbackground": true,
            "ticks": "",
            "zerolinecolor": "white"
           }
          },
          "shapedefaults": {
           "line": {
            "color": "#2a3f5f"
           }
          },
          "ternary": {
           "aaxis": {
            "gridcolor": "white",
            "linecolor": "white",
            "ticks": ""
           },
           "baxis": {
            "gridcolor": "white",
            "linecolor": "white",
            "ticks": ""
           },
           "bgcolor": "#E5ECF6",
           "caxis": {
            "gridcolor": "white",
            "linecolor": "white",
            "ticks": ""
           }
          },
          "title": {
           "x": 0.05
          },
          "xaxis": {
           "automargin": true,
           "gridcolor": "white",
           "linecolor": "white",
           "ticks": "",
           "title": {
            "standoff": 15
           },
           "zerolinecolor": "white",
           "zerolinewidth": 2
          },
          "yaxis": {
           "automargin": true,
           "gridcolor": "white",
           "linecolor": "white",
           "ticks": "",
           "title": {
            "standoff": 15
           },
           "zerolinecolor": "white",
           "zerolinewidth": 2
          }
         }
        }
       }
      }
     },
     "metadata": {},
     "output_type": "display_data"
    }
   ],
   "source": [
    "frame_idx = 523\n",
    "joints = go.Scatter3d(\n",
    "    x=skeleton[frame_idx, :, 0],  \n",
    "    y=skeleton[frame_idx, :, 1],  \n",
    "    z=skeleton[frame_idx, :, 2], \n",
    "    mode='markers',\n",
    "    marker={\n",
    "        'size': 6,\n",
    "        'opacity': 0.8,\n",
    "    }\n",
    ")\n",
    "\n",
    "joint_idx = 22\n",
    "address = go.Scatter3d(\n",
    "    x=skeleton[frame_idx, joint_idx:joint_idx+1, 0],  \n",
    "    y=skeleton[frame_idx, joint_idx:joint_idx+1, 1],  \n",
    "    z=skeleton[frame_idx, joint_idx:joint_idx+1, 2], \n",
    "    mode='markers',\n",
    "    marker={\n",
    "        'size': 10,\n",
    "        'opacity': 0.8,\n",
    "    }\n",
    ")\n",
    "\n",
    "layout = go.Layout(\n",
    "        margin={'l': 0, 'r': 0, 'b': 0, 't': 0},\n",
    "        scene = dict(\n",
    "            # xaxis = dict(title=\"x\", range = [-2,0]),\n",
    "            # yaxis = dict(title=\"y\", range = [-1,1]),\n",
    "            # zaxis = dict(title=\"z\", range = [0.5,2.5]),\n",
    "            aspectratio=dict(x=1, y=1, z=1)\n",
    "    ))\n",
    "\n",
    "fig = go.Figure(data=[joints, address], layout=layout)\n",
    "# plotly.offline.iplot(fig)\n",
    "fig.show()"
   ]
  },
  {
   "cell_type": "code",
   "execution_count": 92,
   "metadata": {},
   "outputs": [
    {
     "data": {
      "text/plain": [
       "array([-0.2409599 ,  0.9678261 ,  0.07246283], dtype=float32)"
      ]
     },
     "execution_count": 92,
     "metadata": {},
     "output_type": "execute_result"
    }
   ],
   "source": [
    "a = np.cross(r_thigh[frame_idx] - r_calf[frame_idx], r_foot[frame_idx] - r_calf[frame_idx])\n",
    "a = a / np.linalg.norm(a)\n",
    "a"
   ]
  },
  {
   "cell_type": "code",
   "execution_count": 30,
   "metadata": {},
   "outputs": [
    {
     "data": {
      "text/plain": [
       "array([0.10409167, 0.21831894, 0.04470253], dtype=float32)"
      ]
     },
     "execution_count": 30,
     "metadata": {},
     "output_type": "execute_result"
    }
   ],
   "source": [
    "l_foot[0]"
   ]
  },
  {
   "cell_type": "code",
   "execution_count": 93,
   "metadata": {},
   "outputs": [
    {
     "data": {
      "text/plain": [
       "array([ 0.24095983, -0.96782617, -0.07246284])"
      ]
     },
     "execution_count": 93,
     "metadata": {},
     "output_type": "execute_result"
    }
   ],
   "source": [
    "r_knee_rot.as_matrix()[frame_idx, :, 1]"
   ]
  },
  {
   "cell_type": "code",
   "execution_count": 23,
   "metadata": {},
   "outputs": [
    {
     "data": {
      "text/plain": [
       "array([ 0.5847038 , -0.8112455 ,  0.00147046], dtype=float32)"
      ]
     },
     "execution_count": 23,
     "metadata": {},
     "output_type": "execute_result"
    }
   ],
   "source": [
    "l_knee_rot_y[0]"
   ]
  },
  {
   "cell_type": "code",
   "execution_count": 146,
   "metadata": {},
   "outputs": [
    {
     "data": {
      "text/plain": [
       "array([-0.1236673 ,  0.23697223,  0.41275057], dtype=float32)"
      ]
     },
     "execution_count": 146,
     "metadata": {},
     "output_type": "execute_result"
    }
   ],
   "source": [
    "origin"
   ]
  },
  {
   "cell_type": "code",
   "execution_count": 143,
   "metadata": {},
   "outputs": [
    {
     "data": {
      "text/plain": [
       "array([[-0.0054528 ,  0.99978654, -0.01992834],\n",
       "       [-0.99839719, -0.0065657 , -0.05621336],\n",
       "       [-0.0563322 ,  0.01958988,  0.99821988]])"
      ]
     },
     "execution_count": 143,
     "metadata": {},
     "output_type": "execute_result"
    }
   ],
   "source": [
    "rotation_matrix"
   ]
  },
  {
   "cell_type": "code",
   "execution_count": 71,
   "metadata": {},
   "outputs": [
    {
     "data": {
      "text/plain": [
       "array([[-0.0054528 ,  0.99978654, -0.01992834],\n",
       "       [-0.99839719, -0.0065657 , -0.05621336],\n",
       "       [-0.0563322 ,  0.01958988,  0.99821988]])"
      ]
     },
     "execution_count": 71,
     "metadata": {},
     "output_type": "execute_result"
    }
   ],
   "source": [
    "lower_rot.as_matrix()[frame_idx]"
   ]
  },
  {
   "cell_type": "code",
   "execution_count": 7,
   "metadata": {},
   "outputs": [
    {
     "name": "stdout",
     "output_type": "stream",
     "text": [
      "startThreads creating 1 threads.\n",
      "starting thread 0\n",
      "started thread 0 \n",
      "argc=2\n",
      "argv[0] = --unused\n",
      "argv[1] = --start_demo_name=Physics Server\n",
      "ExampleBrowserThreadFunc started\n",
      "X11 functions dynamically loaded using dlopen/dlsym OK!\n",
      "X11 functions dynamically loaded using dlopen/dlsym OK!\n",
      "Creating context\n",
      "Created GL 3.3 context\n",
      "Direct GLX rendering context obtained\n",
      "Making context current\n",
      "GL_VENDOR=NVIDIA Corporation\n",
      "GL_RENDERER=NVIDIA GeForce RTX 4080/PCIe/SSE2\n",
      "GL_VERSION=3.3.0 NVIDIA 545.29.06\n",
      "GL_SHADING_LANGUAGE_VERSION=3.30 NVIDIA via Cg compiler\n",
      "pthread_getconcurrency()=0\n",
      "Version = 3.3.0 NVIDIA 545.29.06\n",
      "Vendor = NVIDIA Corporation\n",
      "Renderer = NVIDIA GeForce RTX 4080/PCIe/SSE2\n",
      "b3Printf: Selected demo: Physics Server\n",
      "startThreads creating 1 threads.\n",
      "starting thread 0\n",
      "started thread 0 \n",
      "MotionThreadFunc thread started\n",
      "ven = NVIDIA Corporation\n",
      "b3Printf: b3Warning[examples/Importers/ImportURDFDemo/BulletUrdfImporter.cpp,126]:\n",
      "\n",
      "b3Printf: No inertial data for link, using mass=1, localinertiadiagonal = 1,1,1, identity local inertial frame\n",
      "b3Printf: b3Warning[examples/Importers/ImportURDFDemo/BulletUrdfImporter.cpp,126]:\n",
      "\n",
      "b3Printf: imu_link\n",
      "b3Printf: b3Warning[examples/Importers/ImportURDFDemo/BulletUrdfImporter.cpp,126]:\n",
      "\n",
      "b3Printf: No inertial data for link, using mass=1, localinertiadiagonal = 1,1,1, identity local inertial frame\n",
      "b3Printf: b3Warning[examples/Importers/ImportURDFDemo/BulletUrdfImporter.cpp,126]:\n",
      "\n",
      "b3Printf: logo_link\n",
      "ven = NVIDIA Corporation\n"
     ]
    }
   ],
   "source": [
    "urdf_path = 'h1/h1.urdf'\n",
    "physicsClient = p.connect(p.GUI)  # non-graphical version\n",
    "p.setAdditionalSearchPath(pybullet_data.getDataPath())  # used by loadURDF\n",
    "robot_start_pos = [0, 0, 0]\n",
    "robot_start_orientation = p.getQuaternionFromEuler([0, 0, 0])\n",
    "humanoid = p.loadURDF(urdf_path, robot_start_pos, robot_start_orientation)\n",
    "\n",
    "upperarm_len = 0.3328145877824913\n",
    "thigh_len = 0.40\n",
    "toe_len = 0.188\n",
    "heel_len = 0.096\n",
    "\n",
    "toe_R = R.from_euler('y', np.arctan(0.07/0.175)).as_matrix()\n",
    "heel_R = R.from_euler('y', np.pi / 2 + np.arctan(0.07/0.065)).as_matrix()\n",
    "\n",
    "num_joints = p.getNumJoints(humanoid)\n",
    "\n",
    "joint_names = []\n",
    "\n",
    "pelvis_copy = pelvis.copy()\n",
    "\n",
    "# Iterate through the joints and print their names\n",
    "for joint_index in range(num_joints):\n",
    "    joint_info = p.getJointInfo(humanoid, joint_index)\n",
    "    joint_name = joint_info[1].decode(\n",
    "        \"utf-8\"\n",
    "    )  # Decode the byte string to get the joint name\n",
    "    joint_names.append(joint_name)\n",
    "\n",
    "joint_poses = []\n",
    "jointDamping = [0.1] * num_joints\n",
    "jointDamping[10] = 100\n",
    "restPoses = [0.0] * num_joints\n",
    "init_pose = [0.0] * num_joints\n",
    "\n",
    "min_foot_z = np.inf\n",
    "\n",
    "for i in range(num_frames):\n",
    "\n",
    "    init_pose[10] = torso_angle[i,0]\n",
    "    restPoses[10] = torso_angle[i,0]\n",
    "\n",
    "    p.resetBasePositionAndOrientation(\n",
    "        humanoid, (pelvis[i]).tolist(), upper_rot[i].as_quat().tolist()\n",
    "    )\n",
    "    for joint_index, angle in enumerate(init_pose):\n",
    "        p.resetJointState(humanoid, joint_index, angle)\n",
    "\n",
    "    l_shoulder_pos, _ = p.getLinkState(\n",
    "        humanoid, joint_names.index(\"left_shoulder_roll_joint\")\n",
    "    )[4:6]\n",
    "    r_shoulder_pos, _ = p.getLinkState(\n",
    "        humanoid, joint_names.index(\"right_shoulder_roll_joint\")\n",
    "    )[4:6]\n",
    "    l_hip_pos, _ = p.getLinkState(\n",
    "        humanoid, joint_names.index(\"left_hip_pitch_joint\")\n",
    "    )[4:6]\n",
    "    r_hip_pos, _ = p.getLinkState(\n",
    "        humanoid, joint_names.index(\"right_hip_pitch_joint\")\n",
    "    )[4:6]\n",
    "\n",
    "    # IK for l hand\n",
    "    l_elbow_pos = np.array(l_shoulder_pos) + l_upperarm_dir[i] * upperarm_len\n",
    "\n",
    "    # IK for r hand\n",
    "    r_elbow_pos = np.array(r_shoulder_pos) + r_upperarm_dir[i] * upperarm_len\n",
    "\n",
    "    # IK for l foot\n",
    "    l_knee_pos = np.array(l_hip_pos) + l_thigh_dir[i] * thigh_len\n",
    "\n",
    "    # IK for r foot\n",
    "    r_knee_pos = np.array(r_hip_pos) + r_thigh_dir[i] * thigh_len\n",
    "\n",
    "    # # Calculate the IK solution\n",
    "    ik_solution_rh = p.calculateInverseKinematics(\n",
    "        humanoid,\n",
    "        joint_names.index(\"right_elbow_joint\"),\n",
    "        r_elbow_pos,\n",
    "        targetOrientation=r_elbow_rot.as_quat()[i],\n",
    "        jointDamping=jointDamping,  # Adjust damping as needed,\n",
    "        restPoses=restPoses,  # Initial joint angles\n",
    "    )\n",
    "\n",
    "    ik_solution_lh = p.calculateInverseKinematics(\n",
    "        humanoid,\n",
    "        joint_names.index(\"left_elbow_joint\"),\n",
    "        l_elbow_pos,\n",
    "        targetOrientation=l_elbow_rot.as_quat()[i],\n",
    "        jointDamping=jointDamping,  # Adjust damping as needed\n",
    "        restPoses=restPoses,  # Initial joint anglesss\n",
    "    )\n",
    "\n",
    "    ik_solution_rf = p.calculateInverseKinematics(\n",
    "        humanoid,\n",
    "        joint_names.index(\"right_knee_joint\"),\n",
    "        r_knee_pos,\n",
    "        targetOrientation=r_knee_rot.as_quat()[i],\n",
    "        jointDamping=jointDamping,  # Adjust damping as needed\n",
    "        restPoses=restPoses,  # Initial joint angles\n",
    "    )\n",
    "\n",
    "    ik_solution_lf = p.calculateInverseKinematics(\n",
    "        humanoid,\n",
    "        joint_names.index(\"left_knee_joint\"),\n",
    "        l_knee_pos,\n",
    "        targetOrientation=l_knee_rot.as_quat()[i],\n",
    "        jointDamping=jointDamping,  # Adjust damping as needed\n",
    "        restPoses=restPoses,  # Initial joint angles\n",
    "    )\n",
    "\n",
    "    # p.resetJointState(humanoid, joint_index, ik_solution)\n",
    "\n",
    "    ik_solution = np.zeros(num_joints)\n",
    "    ik_solution[:4] = ik_solution_lf[:4]\n",
    "    ik_solution[4] = l_foot_angle[i]\n",
    "    ik_solution[5:9] = ik_solution_rf[5:9]\n",
    "    ik_solution[9] = r_foot_angle[i]\n",
    "    ik_solution[10] = torso_angle[i,0]\n",
    "    ik_solution[11:15] = ik_solution_lh[11:15]\n",
    "    ik_solution[15:19] = ik_solution_rh[15:19]\n",
    "\n",
    "    restPoses = ik_solution\n",
    "    init_pose = ik_solution\n",
    "\n",
    "    for joint_index, angle in enumerate(init_pose):\n",
    "        p.resetJointState(humanoid, joint_index, angle)\n",
    "\n",
    "    l_ankle_pos, l_ankle_rot = p.getLinkState(\n",
    "        humanoid, joint_names.index(\"left_ankle_joint\")\n",
    "    )[4:6]\n",
    "    r_ankle_pos, r_ankle_rot = p.getLinkState(\n",
    "        humanoid, joint_names.index(\"right_ankle_joint\")\n",
    "    )[4:6]\n",
    "\n",
    "    l_rot_matrix = p.getMatrixFromQuaternion(l_ankle_rot)\n",
    "    l_rot_matrix = np.array(l_rot_matrix).reshape(3, 3)\n",
    "    l_toe_pose = np.dot(l_rot_matrix@toe_R, [toe_len, 0, 0]) + l_ankle_pos\n",
    "    l_heel_pose = np.dot(l_rot_matrix@heel_R, [heel_len, 0, 0]) + l_ankle_pos\n",
    "\n",
    "    r_rot_matrix = p.getMatrixFromQuaternion(r_ankle_rot)\n",
    "    r_rot_matrix = np.array(r_rot_matrix).reshape(3, 3)\n",
    "    r_toe_pose = np.dot(r_rot_matrix@toe_R, [toe_len, 0, 0]) + r_ankle_pos\n",
    "    r_heel_pose = np.dot(r_rot_matrix@heel_R, [heel_len, 0, 0]) + r_ankle_pos\n",
    "\n",
    "    if i < 30:\n",
    "        current_min = np.min([l_toe_pose[2], r_toe_pose[2], l_heel_pose[2], r_heel_pose[2]])\n",
    "        if min_foot_z > current_min:\n",
    "            min_foot_z = current_min\n",
    "\n",
    "    pelvis_copy[i, 2] = pelvis[i,2]\n",
    "\n",
    "    time.sleep(1/mocap_rate)"
   ]
  },
  {
   "cell_type": "code",
   "execution_count": 11,
   "metadata": {},
   "outputs": [
    {
     "data": {
      "text/plain": [
       "15"
      ]
     },
     "execution_count": 11,
     "metadata": {},
     "output_type": "execute_result"
    }
   ],
   "source": [
    "joint_names.index(\"shoulderBase_Left\")"
   ]
  },
  {
   "cell_type": "code",
   "execution_count": 23,
   "metadata": {},
   "outputs": [
    {
     "data": {
      "text/plain": [
       "'shoulderPitch_Right'"
      ]
     },
     "execution_count": 23,
     "metadata": {},
     "output_type": "execute_result"
    },
    {
     "ename": "",
     "evalue": "",
     "output_type": "error",
     "traceback": [
      "\u001b[1;31mThe Kernel crashed while executing code in the current cell or a previous cell. \n",
      "\u001b[1;31mPlease review the code in the cell(s) to identify a possible cause of the failure. \n",
      "\u001b[1;31mClick <a href='https://aka.ms/vscodeJupyterKernelCrash'>here</a> for more info. \n",
      "\u001b[1;31mView Jupyter <a href='command:jupyter.viewOutput'>log</a> for further details."
     ]
    }
   ],
   "source": [
    "joint_names[24]"
   ]
  },
  {
   "cell_type": "code",
   "execution_count": 21,
   "metadata": {},
   "outputs": [
    {
     "data": {
      "text/plain": [
       "23"
      ]
     },
     "execution_count": 21,
     "metadata": {},
     "output_type": "execute_result"
    }
   ],
   "source": [
    "joint_names.index(\"shoulderBase_Right\")"
   ]
  },
  {
   "cell_type": "code",
   "execution_count": 86,
   "metadata": {},
   "outputs": [
    {
     "data": {
      "text/plain": [
       "-30.33916070825221"
      ]
     },
     "execution_count": 86,
     "metadata": {},
     "output_type": "execute_result"
    }
   ],
   "source": [
    "r_foot_angle[i,0] * 180 / np.pi"
   ]
  },
  {
   "cell_type": "code",
   "execution_count": 8,
   "metadata": {},
   "outputs": [
    {
     "name": "stdout",
     "output_type": "stream",
     "text": [
      "numActiveThreads = 0\n",
      "stopping threads\n",
      "Thread with taskId 0 exiting\n",
      "Thread TERMINATED\n",
      "destroy semaphore\n",
      "semaphore destroyed\n",
      "destroy main semaphore\n",
      "main semaphore destroyed\n",
      "finished\n",
      "numActiveThreads = 0\n",
      "btShutDownExampleBrowser stopping threads\n",
      "Thread with taskId 0 exiting\n",
      "Thread TERMINATED\n",
      "destroy semaphore\n",
      "semaphore destroyed\n",
      "destroy main semaphore\n",
      "main semaphore destroyed\n"
     ]
    }
   ],
   "source": [
    "p.disconnect()"
   ]
  },
  {
   "cell_type": "code",
   "execution_count": 63,
   "metadata": {},
   "outputs": [
    {
     "data": {
      "text/plain": [
       "16.37015090008355"
      ]
     },
     "execution_count": 63,
     "metadata": {},
     "output_type": "execute_result"
    }
   ],
   "source": [
    "np.arctan(0.047/0.160) * 180 / np.pi"
   ]
  },
  {
   "cell_type": "code",
   "execution_count": 87,
   "metadata": {},
   "outputs": [
    {
     "data": {
      "text/plain": [
       "2.0943951023931957"
      ]
     },
     "execution_count": 87,
     "metadata": {},
     "output_type": "execute_result"
    }
   ],
   "source": [
    "np.arccos(-0.5)"
   ]
  },
  {
   "cell_type": "code",
   "execution_count": 85,
   "metadata": {},
   "outputs": [
    {
     "data": {
      "text/plain": [
       "array([ 6.71163372e+00,  7.50771448e+00,  1.30669005e+02,  1.09124436e+01,\n",
       "       -1.22323156e+01,  0.00000000e+00,  1.43936105e+01, -6.34846699e+00,\n",
       "       -1.78459026e+02,  1.90304669e+01, -6.67029444e+00,  0.00000000e+00,\n",
       "        3.25804068e-02, -4.03170932e+00, -2.15374167e+00,  0.00000000e+00,\n",
       "        1.95059438e+01,  8.59846687e+01, -1.47355886e+02,  2.03940889e+00,\n",
       "        0.00000000e+00,  0.00000000e+00,  0.00000000e+00,  0.00000000e+00,\n",
       "       -4.89162629e+01, -7.73326663e+01, -1.26818297e+02, -2.34664103e+01,\n",
       "        0.00000000e+00,  0.00000000e+00,  0.00000000e+00,  0.00000000e+00,\n",
       "        0.00000000e+00,  0.00000000e+00,  0.00000000e+00])"
      ]
     },
     "execution_count": 85,
     "metadata": {},
     "output_type": "execute_result"
    }
   ],
   "source": [
    "init_pose * 180 / np.pi"
   ]
  },
  {
   "cell_type": "code",
   "execution_count": 142,
   "metadata": {},
   "outputs": [],
   "source": [
    "v = np.load('data/A12 - crawl backwards_poses_vertices.npy')"
   ]
  },
  {
   "cell_type": "code",
   "execution_count": 140,
   "metadata": {},
   "outputs": [
    {
     "data": {
      "text/plain": [
       "5169"
      ]
     },
     "execution_count": 140,
     "metadata": {},
     "output_type": "execute_result"
    }
   ],
   "source": [
    "np.argmin(np.linalg.norm(v[frame_idx] - np.array([-0.009,0.358,1.71]), axis=1))"
   ]
  },
  {
   "cell_type": "code",
   "execution_count": 130,
   "metadata": {},
   "outputs": [
    {
     "data": {
      "text/plain": [
       "379"
      ]
     },
     "execution_count": 130,
     "metadata": {},
     "output_type": "execute_result"
    }
   ],
   "source": [
    "frame_idx"
   ]
  },
  {
   "cell_type": "code",
   "execution_count": null,
   "metadata": {},
   "outputs": [],
   "source": []
  }
 ],
 "metadata": {
  "kernelspec": {
   "display_name": "Python 3",
   "language": "python",
   "name": "python3"
  },
  "language_info": {
   "codemirror_mode": {
    "name": "ipython",
    "version": 3
   },
   "file_extension": ".py",
   "mimetype": "text/x-python",
   "name": "python",
   "nbconvert_exporter": "python",
   "pygments_lexer": "ipython3",
   "version": "3.10.13"
  }
 },
 "nbformat": 4,
 "nbformat_minor": 2
}
