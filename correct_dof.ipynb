{
 "cells": [
  {
   "cell_type": "code",
   "execution_count": 2,
   "metadata": {},
   "outputs": [
    {
     "name": "stderr",
     "output_type": "stream",
     "text": [
      "pybullet build time: Nov 28 2023 23:45:17\n"
     ]
    }
   ],
   "source": [
    "import pybullet as p\n",
    "import pybullet_data\n",
    "import argparse\n",
    "import numpy as np\n",
    "import os\n",
    "import os.path as osp\n",
    "import joblib\n",
    "from scipy.spatial.transform import Rotation as R\n",
    "from tqdm import tqdm\n",
    "import sys\n",
    "from contextlib import contextmanager\n",
    "from multiprocessing import Pool\n",
    "import time\n",
    "import plotly\n",
    "import plotly.graph_objs as go"
   ]
  },
  {
   "cell_type": "code",
   "execution_count": 3,
   "metadata": {},
   "outputs": [],
   "source": [
    "result = joblib.load('/home/jianrenw/mocap/data/out/amass.pt')"
   ]
  },
  {
   "cell_type": "code",
   "execution_count": 4,
   "metadata": {},
   "outputs": [],
   "source": [
    "key = 'ACCAD_Male2MartialArtsStances_c3d_D5 - ready to walk away_poses'\n",
    "skeleton = result[key]['skeleton']\n",
    "mocap_rate = result[key]['mocap_framerate']"
   ]
  },
  {
   "cell_type": "code",
   "execution_count": 16,
   "metadata": {
    "pycharm": {
     "is_executing": true
    }
   },
   "outputs": [],
   "source": [
    "num_frames = skeleton.shape[0]\n",
    "\n",
    "pelvis = skeleton[:,0,:]\n",
    "\n",
    "l_upperarm = skeleton[:,16,:]\n",
    "l_forearm = skeleton[:,18,:]\n",
    "l_hand = skeleton[:,20,:]\n",
    "\n",
    "r_upperarm = skeleton[:,17,:]\n",
    "r_forearm = skeleton[:,19,:]\n",
    "r_hand = skeleton[:,21,:]\n",
    "\n",
    "l_thigh = skeleton[:,1,:]\n",
    "l_calf = skeleton[:,4,:]\n",
    "l_foot = skeleton[:,7,:]\n",
    "l_toe = skeleton[:,10,:]\n",
    "\n",
    "r_thigh = skeleton[:,2,:]\n",
    "r_calf = skeleton[:,5,:]\n",
    "r_foot = skeleton[:,8,:]\n",
    "r_toe = skeleton[:,11,:]\n",
    "\n",
    "l_elbow_i = skeleton[:,24,:]\n",
    "l_elbow_o = skeleton[:,25,:]\n",
    "r_elbow_i = skeleton[:,26,:]\n",
    "r_elbow_o = skeleton[:,27,:]\n",
    "\n",
    "# upper body\n",
    "head = (l_upperarm + r_upperarm) / 2\n",
    "upper_z = (head - pelvis) / np.linalg.norm(head - pelvis, axis=1, keepdims=True)\n",
    "upper_x = np.cross(pelvis - l_upperarm, pelvis - r_upperarm)\n",
    "upper_x = upper_x / np.linalg.norm(upper_x, axis=1, keepdims=True)\n",
    "upper_y = np.cross(upper_z, upper_x)\n",
    "upper_rot = np.stack([upper_x, upper_y, upper_z], axis=2)\n",
    "\n",
    "# lower body\n",
    "crotch = (l_thigh + r_thigh) / 2\n",
    "lower_z = - (crotch - pelvis) / np.linalg.norm(crotch - pelvis, axis=1, keepdims=True)\n",
    "lower_x = np.cross(pelvis - r_thigh, pelvis - l_thigh)\n",
    "lower_x = lower_x / np.linalg.norm(lower_x, axis=1, keepdims=True)\n",
    "lower_y = np.cross(lower_z, lower_x)\n",
    "lower_rot = np.stack([lower_x, lower_y, lower_z], axis=2)\n",
    "\n",
    "# left arm\n",
    "l_elbow_rot_z = l_forearm - l_hand\n",
    "l_elbow_rot_z = l_elbow_rot_z / np.linalg.norm(\n",
    "    l_elbow_rot_z, axis=1, keepdims=True\n",
    ")\n",
    "l_elbow_rot_y_1 = l_elbow_i - l_elbow_o\n",
    "l_elbow_rot_y_1 = l_elbow_rot_y_1 / np.linalg.norm(\n",
    "    l_elbow_rot_y_1, axis=1, keepdims=True\n",
    ")\n",
    "l_elbow_rot_y_2 = l_upperarm - l_forearm\n",
    "l_elbow_rot_y_2 = l_elbow_rot_y_2 / np.linalg.norm(\n",
    "    l_elbow_rot_y_2, axis=1, keepdims=True\n",
    ")\n",
    "l_elbow_rot_y_2 = np.cross(l_elbow_rot_y_2, -l_elbow_rot_z)\n",
    "l_elbow_rot_y_2 = l_elbow_rot_y_2 / np.linalg.norm(\n",
    "    l_elbow_rot_y_2, axis=1, keepdims=True\n",
    ")\n",
    "correction = np.einsum('ij,ij->i', l_elbow_rot_y_1, l_elbow_rot_y_2) < 0\n",
    "l_elbow_rot_y_2[correction] = -l_elbow_rot_y_2[correction]\n",
    "\n",
    "l_elbow_rot_x = np.cross(l_elbow_rot_y_2, l_elbow_rot_z)\n",
    "l_elbow_rot_x = l_elbow_rot_x / np.linalg.norm(\n",
    "    l_elbow_rot_x, axis=1, keepdims=True\n",
    ")\n",
    "\n",
    "l_elbow_rot = np.stack([l_elbow_rot_x, l_elbow_rot_y_2, l_elbow_rot_z], axis=2)\n",
    "\n",
    "l_upperarm_dir = l_forearm - l_upperarm\n",
    "l_upperarm_dir = l_upperarm_dir / np.linalg.norm(\n",
    "    l_upperarm_dir, axis=1, keepdims=True\n",
    ")\n",
    "\n",
    "# right arm\n",
    "r_elbow_rot_z = r_forearm - r_hand\n",
    "r_elbow_rot_z = r_elbow_rot_z / np.linalg.norm(\n",
    "    r_elbow_rot_z, axis=1, keepdims=True\n",
    ")\n",
    "r_elbow_rot_y_1 = r_elbow_i - r_elbow_o\n",
    "r_elbow_rot_y_1 = r_elbow_rot_y_1 / np.linalg.norm(\n",
    "    r_elbow_rot_y_1, axis=1, keepdims=True\n",
    ")\n",
    "r_elbow_rot_y_2 = r_upperarm - r_forearm\n",
    "r_elbow_rot_y_2 = r_elbow_rot_y_2 / np.linalg.norm(\n",
    "    r_elbow_rot_y_2, axis=1, keepdims=True\n",
    ")   \n",
    "r_elbow_rot_y_2 = np.cross(r_elbow_rot_y_2, -r_elbow_rot_z)\n",
    "r_elbow_rot_y_2 = r_elbow_rot_y_2 / np.linalg.norm(\n",
    "    r_elbow_rot_y_2, axis=1, keepdims=True\n",
    ")\n",
    "correction = np.einsum('ij,ij->i', r_elbow_rot_y_1, r_elbow_rot_y_2) < 0\n",
    "r_elbow_rot_y_2[correction] = -r_elbow_rot_y_2[correction]\n",
    "\n",
    "r_elbow_rot_x = np.cross(r_elbow_rot_y_2, r_elbow_rot_z)\n",
    "r_elbow_rot_x = r_elbow_rot_x / np.linalg.norm(\n",
    "    r_elbow_rot_x, axis=1, keepdims=True\n",
    ")\n",
    "r_elbow_rot = np.stack([r_elbow_rot_x, r_elbow_rot_y_2, r_elbow_rot_z], axis=2)\n",
    "\n",
    "r_upperarm_dir = r_forearm - r_upperarm\n",
    "r_upperarm_dir = r_upperarm_dir / np.linalg.norm(\n",
    "    r_upperarm_dir, axis=1, keepdims=True\n",
    ")\n",
    "\n",
    "# left knee\n",
    "l_calf_dir = l_calf - l_foot\n",
    "l_calf_dir = l_calf_dir / np.linalg.norm(\n",
    "    l_calf_dir, axis=1, keepdims=True\n",
    ")\n",
    "l_foot_dir = l_toe - l_foot\n",
    "l_foot_dir = l_foot_dir / np.linalg.norm(\n",
    "    l_foot_dir, axis=1, keepdims=True\n",
    ")\n",
    "l_knee_rot_y = np.cross(l_calf_dir, l_foot_dir)\n",
    "l_knee_rot_y = l_knee_rot_y / np.linalg.norm(\n",
    "    l_knee_rot_y, axis=1, keepdims=True\n",
    ")\n",
    "l_knee_rot_x = np.cross(l_knee_rot_y, l_calf_dir)\n",
    "l_knee_rot_x = l_knee_rot_x / np.linalg.norm(\n",
    "    l_knee_rot_x, axis=1, keepdims=True\n",
    ")\n",
    "l_knee_rot = np.stack([l_knee_rot_x, l_knee_rot_y, l_calf_dir], axis=2)\n",
    "\n",
    "l_thigh_dir = l_calf - l_thigh\n",
    "l_thigh_dir = l_thigh_dir / np.linalg.norm(l_thigh_dir, axis=1, keepdims=True)\n",
    "\n",
    "# left ankle angle\n",
    "cos = np.einsum('ij,ij->i', l_calf_dir, l_foot_dir) / (np.linalg.norm(l_calf_dir, axis=1) * np.linalg.norm(l_foot_dir, axis=1))\n",
    "l_foot_angle = np.arccos(cos) - np.arctan(0.047/0.160) - np.pi/2\n",
    "\n",
    "# right knee\n",
    "r_calf_dir = r_calf - r_foot\n",
    "r_calf_dir = r_calf_dir / np.linalg.norm(\n",
    "    r_calf_dir, axis=1, keepdims=True\n",
    ")\n",
    "r_foot_dir = r_toe - r_foot\n",
    "r_foot_dir = r_foot_dir / np.linalg.norm(\n",
    "    r_foot_dir, axis=1, keepdims=True\n",
    ")\n",
    "r_knee_rot_y = np.cross(r_calf_dir, r_foot_dir)\n",
    "r_knee_rot_y = r_knee_rot_y / np.linalg.norm(\n",
    "    r_knee_rot_y, axis=1, keepdims=True\n",
    ")\n",
    "r_knee_rot_x = np.cross(r_knee_rot_y, r_calf_dir)\n",
    "r_knee_rot_x = r_knee_rot_x / np.linalg.norm(\n",
    "    r_knee_rot_x, axis=1, keepdims=True\n",
    ")\n",
    "r_knee_rot = np.stack([r_knee_rot_x, r_knee_rot_y, r_calf_dir], axis=2)\n",
    "\n",
    "r_thigh_dir = r_calf - r_thigh\n",
    "r_thigh_dir = r_thigh_dir / np.linalg.norm(r_thigh_dir, axis=1, keepdims=True)\n",
    "\n",
    "# right ankle angle\n",
    "cos = np.einsum('ij,ij->i', r_calf_dir, r_foot_dir) / (np.linalg.norm(r_calf_dir, axis=1) * np.linalg.norm(r_foot_dir, axis=1))\n",
    "r_foot_angle = np.arccos(cos) - np.arctan(0.047/0.160) - np.pi/2\n",
    "\n",
    "\n",
    "# to pybullet\n",
    "upper_rot = R.from_matrix(upper_rot)\n",
    "lower_rot = R.from_matrix(lower_rot)\n",
    "l_knee_rot = R.from_matrix(l_knee_rot)\n",
    "r_knee_rot = R.from_matrix(r_knee_rot)\n",
    "l_elbow_rot = R.from_matrix(l_elbow_rot)\n",
    "r_elbow_rot = R.from_matrix(r_elbow_rot)\n",
    "\n",
    "# waist angle\n",
    "R_u_l = np.einsum('ijk,ikl->ijl', np.transpose(lower_rot.as_matrix(), (0, 2, 1)), upper_rot.as_matrix())\n",
    "R_u_l = R.from_matrix(R_u_l)\n",
    "waist_angles = R_u_l.as_euler('xyz', degrees=False)"
   ]
  },
  {
   "cell_type": "code",
   "execution_count": 6,
   "metadata": {},
   "outputs": [
    {
     "data": {
      "text/plain": [
       "(535, 28, 3)"
      ]
     },
     "execution_count": 6,
     "metadata": {},
     "output_type": "execute_result"
    }
   ],
   "source": [
    "skeleton.shape"
   ]
  },
  {
   "cell_type": "code",
   "execution_count": 17,
   "metadata": {},
   "outputs": [
    {
     "data": {
      "application/vnd.plotly.v1+json": {
       "config": {
        "plotlyServerURL": "https://plot.ly"
       },
       "data": [
        {
         "marker": {
          "opacity": 0.8,
          "size": 6
         },
         "mode": "markers",
         "type": "scatter3d",
         "x": [
          0.167400062084198,
          0.1474618762731552,
          0.2046748399734497,
          0.2095559537410736,
          -0.013903588056564331,
          0.19176138937473297,
          0.16869387030601501,
          0.14484062790870667,
          0.2222849428653717,
          0.15565408766269684,
          0.010656580328941345,
          0.2037256956100464,
          0.18301083147525787,
          0.12496032565832138,
          0.21605920791625977,
          0.12941578030586243,
          0.03564886748790741,
          0.2756492495536804,
          -0.09966595470905304,
          0.29409924149513245,
          -0.09104414284229279,
          0.2054588794708252,
          -0.029012367129325867,
          -0.010705173015594482,
          -0.11994801461696625,
          -0.05861002206802368,
          0.2411077618598938,
          0.3191453516483307
         ],
         "y": [
          -0.6458878517150879,
          -0.6993399262428284,
          -0.5876010060310364,
          -0.6797658205032349,
          -0.7634007930755615,
          -0.3668428659439087,
          -0.6870145797729492,
          -0.8105016946792603,
          -0.36868202686309814,
          -0.6760945320129395,
          -0.845839262008667,
          -0.22893694043159485,
          -0.6794570088386536,
          -0.7444618940353394,
          -0.6121827363967896,
          -0.6266613006591797,
          -0.8480099439620972,
          -0.49731773138046265,
          -0.7504634261131287,
          -0.357487291097641,
          -0.5601176023483276,
          -0.1344212293624878,
          -0.5081034898757935,
          -0.48480379581451416,
          -0.7775242328643799,
          -0.7249966263771057,
          -0.35569146275520325,
          -0.30996933579444885
         ],
         "z": [
          0.8613002300262451,
          0.7687565088272095,
          0.7690085172653198,
          0.9881841540336609,
          0.42948466539382935,
          0.46102195978164673,
          1.1361396312713623,
          0.051783084869384766,
          0.05535626411437988,
          1.1948413848876953,
          0.023632407188415527,
          0.00971442461013794,
          1.4147381782531738,
          1.3142441511154175,
          1.310992956161499,
          1.4818415641784668,
          1.3127493858337402,
          1.3072177171707153,
          1.1251220703125,
          1.0839723348617554,
          1.3034735918045044,
          1.1966674327850342,
          1.3742668628692627,
          1.3890091180801392,
          1.1253893375396729,
          1.1421470642089844,
          1.0945041179656982,
          1.078304648399353
         ]
        },
        {
         "marker": {
          "opacity": 0.8,
          "size": 10
         },
         "mode": "markers",
         "type": "scatter3d",
         "x": [
          -0.11994801461696625
         ],
         "y": [
          -0.7775242328643799
         ],
         "z": [
          1.1253893375396729
         ]
        }
       ],
       "layout": {
        "margin": {
         "b": 0,
         "l": 0,
         "r": 0,
         "t": 0
        },
        "scene": {
         "aspectratio": {
          "x": 1,
          "y": 1,
          "z": 1
         },
         "xaxis": {
          "range": [
           -1,
           1
          ],
          "title": {
           "text": "x"
          }
         },
         "yaxis": {
          "range": [
           -1,
           1
          ],
          "title": {
           "text": "y"
          }
         },
         "zaxis": {
          "range": [
           0,
           2
          ],
          "title": {
           "text": "z"
          }
         }
        },
        "template": {
         "data": {
          "bar": [
           {
            "error_x": {
             "color": "#2a3f5f"
            },
            "error_y": {
             "color": "#2a3f5f"
            },
            "marker": {
             "line": {
              "color": "#E5ECF6",
              "width": 0.5
             },
             "pattern": {
              "fillmode": "overlay",
              "size": 10,
              "solidity": 0.2
             }
            },
            "type": "bar"
           }
          ],
          "barpolar": [
           {
            "marker": {
             "line": {
              "color": "#E5ECF6",
              "width": 0.5
             },
             "pattern": {
              "fillmode": "overlay",
              "size": 10,
              "solidity": 0.2
             }
            },
            "type": "barpolar"
           }
          ],
          "carpet": [
           {
            "aaxis": {
             "endlinecolor": "#2a3f5f",
             "gridcolor": "white",
             "linecolor": "white",
             "minorgridcolor": "white",
             "startlinecolor": "#2a3f5f"
            },
            "baxis": {
             "endlinecolor": "#2a3f5f",
             "gridcolor": "white",
             "linecolor": "white",
             "minorgridcolor": "white",
             "startlinecolor": "#2a3f5f"
            },
            "type": "carpet"
           }
          ],
          "choropleth": [
           {
            "colorbar": {
             "outlinewidth": 0,
             "ticks": ""
            },
            "type": "choropleth"
           }
          ],
          "contour": [
           {
            "colorbar": {
             "outlinewidth": 0,
             "ticks": ""
            },
            "colorscale": [
             [
              0,
              "#0d0887"
             ],
             [
              0.1111111111111111,
              "#46039f"
             ],
             [
              0.2222222222222222,
              "#7201a8"
             ],
             [
              0.3333333333333333,
              "#9c179e"
             ],
             [
              0.4444444444444444,
              "#bd3786"
             ],
             [
              0.5555555555555556,
              "#d8576b"
             ],
             [
              0.6666666666666666,
              "#ed7953"
             ],
             [
              0.7777777777777778,
              "#fb9f3a"
             ],
             [
              0.8888888888888888,
              "#fdca26"
             ],
             [
              1,
              "#f0f921"
             ]
            ],
            "type": "contour"
           }
          ],
          "contourcarpet": [
           {
            "colorbar": {
             "outlinewidth": 0,
             "ticks": ""
            },
            "type": "contourcarpet"
           }
          ],
          "heatmap": [
           {
            "colorbar": {
             "outlinewidth": 0,
             "ticks": ""
            },
            "colorscale": [
             [
              0,
              "#0d0887"
             ],
             [
              0.1111111111111111,
              "#46039f"
             ],
             [
              0.2222222222222222,
              "#7201a8"
             ],
             [
              0.3333333333333333,
              "#9c179e"
             ],
             [
              0.4444444444444444,
              "#bd3786"
             ],
             [
              0.5555555555555556,
              "#d8576b"
             ],
             [
              0.6666666666666666,
              "#ed7953"
             ],
             [
              0.7777777777777778,
              "#fb9f3a"
             ],
             [
              0.8888888888888888,
              "#fdca26"
             ],
             [
              1,
              "#f0f921"
             ]
            ],
            "type": "heatmap"
           }
          ],
          "heatmapgl": [
           {
            "colorbar": {
             "outlinewidth": 0,
             "ticks": ""
            },
            "colorscale": [
             [
              0,
              "#0d0887"
             ],
             [
              0.1111111111111111,
              "#46039f"
             ],
             [
              0.2222222222222222,
              "#7201a8"
             ],
             [
              0.3333333333333333,
              "#9c179e"
             ],
             [
              0.4444444444444444,
              "#bd3786"
             ],
             [
              0.5555555555555556,
              "#d8576b"
             ],
             [
              0.6666666666666666,
              "#ed7953"
             ],
             [
              0.7777777777777778,
              "#fb9f3a"
             ],
             [
              0.8888888888888888,
              "#fdca26"
             ],
             [
              1,
              "#f0f921"
             ]
            ],
            "type": "heatmapgl"
           }
          ],
          "histogram": [
           {
            "marker": {
             "pattern": {
              "fillmode": "overlay",
              "size": 10,
              "solidity": 0.2
             }
            },
            "type": "histogram"
           }
          ],
          "histogram2d": [
           {
            "colorbar": {
             "outlinewidth": 0,
             "ticks": ""
            },
            "colorscale": [
             [
              0,
              "#0d0887"
             ],
             [
              0.1111111111111111,
              "#46039f"
             ],
             [
              0.2222222222222222,
              "#7201a8"
             ],
             [
              0.3333333333333333,
              "#9c179e"
             ],
             [
              0.4444444444444444,
              "#bd3786"
             ],
             [
              0.5555555555555556,
              "#d8576b"
             ],
             [
              0.6666666666666666,
              "#ed7953"
             ],
             [
              0.7777777777777778,
              "#fb9f3a"
             ],
             [
              0.8888888888888888,
              "#fdca26"
             ],
             [
              1,
              "#f0f921"
             ]
            ],
            "type": "histogram2d"
           }
          ],
          "histogram2dcontour": [
           {
            "colorbar": {
             "outlinewidth": 0,
             "ticks": ""
            },
            "colorscale": [
             [
              0,
              "#0d0887"
             ],
             [
              0.1111111111111111,
              "#46039f"
             ],
             [
              0.2222222222222222,
              "#7201a8"
             ],
             [
              0.3333333333333333,
              "#9c179e"
             ],
             [
              0.4444444444444444,
              "#bd3786"
             ],
             [
              0.5555555555555556,
              "#d8576b"
             ],
             [
              0.6666666666666666,
              "#ed7953"
             ],
             [
              0.7777777777777778,
              "#fb9f3a"
             ],
             [
              0.8888888888888888,
              "#fdca26"
             ],
             [
              1,
              "#f0f921"
             ]
            ],
            "type": "histogram2dcontour"
           }
          ],
          "mesh3d": [
           {
            "colorbar": {
             "outlinewidth": 0,
             "ticks": ""
            },
            "type": "mesh3d"
           }
          ],
          "parcoords": [
           {
            "line": {
             "colorbar": {
              "outlinewidth": 0,
              "ticks": ""
             }
            },
            "type": "parcoords"
           }
          ],
          "pie": [
           {
            "automargin": true,
            "type": "pie"
           }
          ],
          "scatter": [
           {
            "fillpattern": {
             "fillmode": "overlay",
             "size": 10,
             "solidity": 0.2
            },
            "type": "scatter"
           }
          ],
          "scatter3d": [
           {
            "line": {
             "colorbar": {
              "outlinewidth": 0,
              "ticks": ""
             }
            },
            "marker": {
             "colorbar": {
              "outlinewidth": 0,
              "ticks": ""
             }
            },
            "type": "scatter3d"
           }
          ],
          "scattercarpet": [
           {
            "marker": {
             "colorbar": {
              "outlinewidth": 0,
              "ticks": ""
             }
            },
            "type": "scattercarpet"
           }
          ],
          "scattergeo": [
           {
            "marker": {
             "colorbar": {
              "outlinewidth": 0,
              "ticks": ""
             }
            },
            "type": "scattergeo"
           }
          ],
          "scattergl": [
           {
            "marker": {
             "colorbar": {
              "outlinewidth": 0,
              "ticks": ""
             }
            },
            "type": "scattergl"
           }
          ],
          "scattermapbox": [
           {
            "marker": {
             "colorbar": {
              "outlinewidth": 0,
              "ticks": ""
             }
            },
            "type": "scattermapbox"
           }
          ],
          "scatterpolar": [
           {
            "marker": {
             "colorbar": {
              "outlinewidth": 0,
              "ticks": ""
             }
            },
            "type": "scatterpolar"
           }
          ],
          "scatterpolargl": [
           {
            "marker": {
             "colorbar": {
              "outlinewidth": 0,
              "ticks": ""
             }
            },
            "type": "scatterpolargl"
           }
          ],
          "scatterternary": [
           {
            "marker": {
             "colorbar": {
              "outlinewidth": 0,
              "ticks": ""
             }
            },
            "type": "scatterternary"
           }
          ],
          "surface": [
           {
            "colorbar": {
             "outlinewidth": 0,
             "ticks": ""
            },
            "colorscale": [
             [
              0,
              "#0d0887"
             ],
             [
              0.1111111111111111,
              "#46039f"
             ],
             [
              0.2222222222222222,
              "#7201a8"
             ],
             [
              0.3333333333333333,
              "#9c179e"
             ],
             [
              0.4444444444444444,
              "#bd3786"
             ],
             [
              0.5555555555555556,
              "#d8576b"
             ],
             [
              0.6666666666666666,
              "#ed7953"
             ],
             [
              0.7777777777777778,
              "#fb9f3a"
             ],
             [
              0.8888888888888888,
              "#fdca26"
             ],
             [
              1,
              "#f0f921"
             ]
            ],
            "type": "surface"
           }
          ],
          "table": [
           {
            "cells": {
             "fill": {
              "color": "#EBF0F8"
             },
             "line": {
              "color": "white"
             }
            },
            "header": {
             "fill": {
              "color": "#C8D4E3"
             },
             "line": {
              "color": "white"
             }
            },
            "type": "table"
           }
          ]
         },
         "layout": {
          "annotationdefaults": {
           "arrowcolor": "#2a3f5f",
           "arrowhead": 0,
           "arrowwidth": 1
          },
          "autotypenumbers": "strict",
          "coloraxis": {
           "colorbar": {
            "outlinewidth": 0,
            "ticks": ""
           }
          },
          "colorscale": {
           "diverging": [
            [
             0,
             "#8e0152"
            ],
            [
             0.1,
             "#c51b7d"
            ],
            [
             0.2,
             "#de77ae"
            ],
            [
             0.3,
             "#f1b6da"
            ],
            [
             0.4,
             "#fde0ef"
            ],
            [
             0.5,
             "#f7f7f7"
            ],
            [
             0.6,
             "#e6f5d0"
            ],
            [
             0.7,
             "#b8e186"
            ],
            [
             0.8,
             "#7fbc41"
            ],
            [
             0.9,
             "#4d9221"
            ],
            [
             1,
             "#276419"
            ]
           ],
           "sequential": [
            [
             0,
             "#0d0887"
            ],
            [
             0.1111111111111111,
             "#46039f"
            ],
            [
             0.2222222222222222,
             "#7201a8"
            ],
            [
             0.3333333333333333,
             "#9c179e"
            ],
            [
             0.4444444444444444,
             "#bd3786"
            ],
            [
             0.5555555555555556,
             "#d8576b"
            ],
            [
             0.6666666666666666,
             "#ed7953"
            ],
            [
             0.7777777777777778,
             "#fb9f3a"
            ],
            [
             0.8888888888888888,
             "#fdca26"
            ],
            [
             1,
             "#f0f921"
            ]
           ],
           "sequentialminus": [
            [
             0,
             "#0d0887"
            ],
            [
             0.1111111111111111,
             "#46039f"
            ],
            [
             0.2222222222222222,
             "#7201a8"
            ],
            [
             0.3333333333333333,
             "#9c179e"
            ],
            [
             0.4444444444444444,
             "#bd3786"
            ],
            [
             0.5555555555555556,
             "#d8576b"
            ],
            [
             0.6666666666666666,
             "#ed7953"
            ],
            [
             0.7777777777777778,
             "#fb9f3a"
            ],
            [
             0.8888888888888888,
             "#fdca26"
            ],
            [
             1,
             "#f0f921"
            ]
           ]
          },
          "colorway": [
           "#636efa",
           "#EF553B",
           "#00cc96",
           "#ab63fa",
           "#FFA15A",
           "#19d3f3",
           "#FF6692",
           "#B6E880",
           "#FF97FF",
           "#FECB52"
          ],
          "font": {
           "color": "#2a3f5f"
          },
          "geo": {
           "bgcolor": "white",
           "lakecolor": "white",
           "landcolor": "#E5ECF6",
           "showlakes": true,
           "showland": true,
           "subunitcolor": "white"
          },
          "hoverlabel": {
           "align": "left"
          },
          "hovermode": "closest",
          "mapbox": {
           "style": "light"
          },
          "paper_bgcolor": "white",
          "plot_bgcolor": "#E5ECF6",
          "polar": {
           "angularaxis": {
            "gridcolor": "white",
            "linecolor": "white",
            "ticks": ""
           },
           "bgcolor": "#E5ECF6",
           "radialaxis": {
            "gridcolor": "white",
            "linecolor": "white",
            "ticks": ""
           }
          },
          "scene": {
           "xaxis": {
            "backgroundcolor": "#E5ECF6",
            "gridcolor": "white",
            "gridwidth": 2,
            "linecolor": "white",
            "showbackground": true,
            "ticks": "",
            "zerolinecolor": "white"
           },
           "yaxis": {
            "backgroundcolor": "#E5ECF6",
            "gridcolor": "white",
            "gridwidth": 2,
            "linecolor": "white",
            "showbackground": true,
            "ticks": "",
            "zerolinecolor": "white"
           },
           "zaxis": {
            "backgroundcolor": "#E5ECF6",
            "gridcolor": "white",
            "gridwidth": 2,
            "linecolor": "white",
            "showbackground": true,
            "ticks": "",
            "zerolinecolor": "white"
           }
          },
          "shapedefaults": {
           "line": {
            "color": "#2a3f5f"
           }
          },
          "ternary": {
           "aaxis": {
            "gridcolor": "white",
            "linecolor": "white",
            "ticks": ""
           },
           "baxis": {
            "gridcolor": "white",
            "linecolor": "white",
            "ticks": ""
           },
           "bgcolor": "#E5ECF6",
           "caxis": {
            "gridcolor": "white",
            "linecolor": "white",
            "ticks": ""
           }
          },
          "title": {
           "x": 0.05
          },
          "xaxis": {
           "automargin": true,
           "gridcolor": "white",
           "linecolor": "white",
           "ticks": "",
           "title": {
            "standoff": 15
           },
           "zerolinecolor": "white",
           "zerolinewidth": 2
          },
          "yaxis": {
           "automargin": true,
           "gridcolor": "white",
           "linecolor": "white",
           "ticks": "",
           "title": {
            "standoff": 15
           },
           "zerolinecolor": "white",
           "zerolinewidth": 2
          }
         }
        }
       }
      }
     },
     "metadata": {},
     "output_type": "display_data"
    }
   ],
   "source": [
    "frame_idx = 0\n",
    "joints = go.Scatter3d(\n",
    "    x=skeleton[frame_idx, :, 0],  \n",
    "    y=skeleton[frame_idx, :, 1],  \n",
    "    z=skeleton[frame_idx, :, 2], \n",
    "    mode='markers',\n",
    "    marker={\n",
    "        'size': 6,\n",
    "        'opacity': 0.8,\n",
    "    }\n",
    ")\n",
    "\n",
    "joint_idx = 24\n",
    "address = go.Scatter3d(\n",
    "    x=skeleton[frame_idx, joint_idx:joint_idx+1, 0],  \n",
    "    y=skeleton[frame_idx, joint_idx:joint_idx+1, 1],  \n",
    "    z=skeleton[frame_idx, joint_idx:joint_idx+1, 2], \n",
    "    mode='markers',\n",
    "    marker={\n",
    "        'size': 10,\n",
    "        'opacity': 0.8,\n",
    "    }\n",
    ")\n",
    "\n",
    "layout = go.Layout(\n",
    "        margin={'l': 0, 'r': 0, 'b': 0, 't': 0},\n",
    "        scene = dict(\n",
    "            xaxis = dict(title=\"x\", range = [-1,1]),\n",
    "            yaxis = dict(title=\"y\", range = [-1,1]),\n",
    "            zaxis = dict(title=\"z\", range = [0,2]),\n",
    "            aspectratio=dict(x=1, y=1, z=1)\n",
    "    ))\n",
    "\n",
    "fig = go.Figure(data=[joints, address], layout=layout)\n",
    "# plotly.offline.iplot(fig)\n",
    "fig.show()"
   ]
  },
  {
   "cell_type": "code",
   "execution_count": 8,
   "metadata": {},
   "outputs": [
    {
     "data": {
      "text/plain": [
       "array([0.9844032 , 0.1599089 , 0.07334459], dtype=float32)"
      ]
     },
     "execution_count": 8,
     "metadata": {},
     "output_type": "execute_result"
    }
   ],
   "source": [
    "a = np.cross(r_thigh[frame_idx] - r_calf[frame_idx], r_foot[frame_idx] - r_calf[frame_idx])\n",
    "a = a / np.linalg.norm(a)\n",
    "a"
   ]
  },
  {
   "cell_type": "code",
   "execution_count": 9,
   "metadata": {},
   "outputs": [
    {
     "data": {
      "text/plain": [
       "array([ 0.14484063, -0.8105017 ,  0.05178308], dtype=float32)"
      ]
     },
     "execution_count": 9,
     "metadata": {},
     "output_type": "execute_result"
    }
   ],
   "source": [
    "l_foot[0]"
   ]
  },
  {
   "cell_type": "code",
   "execution_count": 10,
   "metadata": {},
   "outputs": [
    {
     "data": {
      "text/plain": [
       "array([-0.98520924, -0.15482583, -0.07342828])"
      ]
     },
     "execution_count": 10,
     "metadata": {},
     "output_type": "execute_result"
    }
   ],
   "source": [
    "r_knee_rot.as_matrix()[frame_idx, :, 1]"
   ]
  },
  {
   "cell_type": "code",
   "execution_count": 11,
   "metadata": {},
   "outputs": [
    {
     "data": {
      "text/plain": [
       "array([ 0.20836693, -0.9559412 ,  0.20678425], dtype=float32)"
      ]
     },
     "execution_count": 11,
     "metadata": {},
     "output_type": "execute_result"
    }
   ],
   "source": [
    "l_knee_rot_y[0]"
   ]
  },
  {
   "cell_type": "code",
   "execution_count": 146,
   "metadata": {},
   "outputs": [
    {
     "data": {
      "text/plain": [
       "array([-0.1236673 ,  0.23697223,  0.41275057], dtype=float32)"
      ]
     },
     "execution_count": 146,
     "metadata": {},
     "output_type": "execute_result"
    }
   ],
   "source": [
    "origin"
   ]
  },
  {
   "cell_type": "code",
   "execution_count": 143,
   "metadata": {},
   "outputs": [
    {
     "data": {
      "text/plain": [
       "array([[-0.0054528 ,  0.99978654, -0.01992834],\n",
       "       [-0.99839719, -0.0065657 , -0.05621336],\n",
       "       [-0.0563322 ,  0.01958988,  0.99821988]])"
      ]
     },
     "execution_count": 143,
     "metadata": {},
     "output_type": "execute_result"
    }
   ],
   "source": [
    "rotation_matrix"
   ]
  },
  {
   "cell_type": "code",
   "execution_count": 71,
   "metadata": {},
   "outputs": [
    {
     "data": {
      "text/plain": [
       "array([[-0.0054528 ,  0.99978654, -0.01992834],\n",
       "       [-0.99839719, -0.0065657 , -0.05621336],\n",
       "       [-0.0563322 ,  0.01958988,  0.99821988]])"
      ]
     },
     "execution_count": 71,
     "metadata": {},
     "output_type": "execute_result"
    }
   ],
   "source": [
    "lower_rot.as_matrix()[frame_idx]"
   ]
  },
  {
   "cell_type": "code",
   "execution_count": 18,
   "metadata": {},
   "outputs": [
    {
     "name": "stdout",
     "output_type": "stream",
     "text": [
      "startThreads creating 1 threads.\n",
      "starting thread 0\n",
      "started thread 0 \n",
      "argc=2\n",
      "argv[0] = --unused\n",
      "argv[1] = --start_demo_name=Physics Server\n",
      "ExampleBrowserThreadFunc started\n",
      "X11 functions dynamically loaded using dlopen/dlsym OK!\n",
      "X11 functions dynamically loaded using dlopen/dlsym OK!\n",
      "Creating context\n",
      "Created GL 3.3 context\n",
      "Direct GLX rendering context obtained\n",
      "Making context current\n",
      "GL_VENDOR=NVIDIA Corporation\n",
      "GL_RENDERER=NVIDIA GeForce RTX 4080/PCIe/SSE2\n",
      "GL_VERSION=3.3.0 NVIDIA 545.29.06\n",
      "GL_SHADING_LANGUAGE_VERSION=3.30 NVIDIA via Cg compiler\n",
      "pthread_getconcurrency()=0\n",
      "Version = 3.3.0 NVIDIA 545.29.06\n",
      "Vendor = NVIDIA Corporation\n",
      "Renderer = NVIDIA GeForce RTX 4080/PCIe/SSE2\n",
      "b3Printf: Selected demo: Physics Server\n",
      "startThreads creating 1 threads.\n",
      "starting thread 0\n",
      "started thread 0 \n",
      "MotionThreadFunc thread started\n",
      "ven = NVIDIA Corporation\n",
      "ven = NVIDIA Corporation\n"
     ]
    }
   ],
   "source": [
    "urdf_path = 'adam/urdf/adam_v2.urdf'\n",
    "physicsClient = p.connect(p.GUI)  # non-graphical version\n",
    "p.setAdditionalSearchPath(pybullet_data.getDataPath())  # used by loadURDF\n",
    "robot_start_pos = [0, 0, 0]\n",
    "robot_start_orientation = p.getQuaternionFromEuler([0, 0, 0])\n",
    "humanoid = p.loadURDF(urdf_path, robot_start_pos, robot_start_orientation)\n",
    "\n",
    "upperarm_len = 0.2648365892539233\n",
    "lowerarm_len = 0.27628355041864106\n",
    "thigh_len = 0.4252746432372357\n",
    "toe_len = 0.167\n",
    "heel_len = 0.079\n",
    "\n",
    "toe_R = R.from_euler('y', np.arctan(0.047/0.160)).as_matrix()\n",
    "heel_R = R.from_euler('y', np.pi / 2 + np.arctan(0.047/0.064)).as_matrix()\n",
    "\n",
    "num_joints = p.getNumJoints(humanoid)\n",
    "\n",
    "joint_names = []\n",
    "\n",
    "pelvis_copy = pelvis.copy()\n",
    "\n",
    "# Iterate through the joints and print their names\n",
    "for joint_index in range(num_joints):\n",
    "    joint_info = p.getJointInfo(humanoid, joint_index)\n",
    "    joint_name = joint_info[1].decode(\n",
    "        \"utf-8\"\n",
    "    )  # Decode the byte string to get the joint name\n",
    "    joint_names.append(joint_name)\n",
    "\n",
    "joint_poses = []\n",
    "jointDamping = [0.1] * num_joints\n",
    "jointDamping[12] = 100\n",
    "jointDamping[13] = 100\n",
    "jointDamping[14] = 100\n",
    "restPoses = [0.0] * num_joints\n",
    "init_pose = [0.0] * num_joints\n",
    "\n",
    "# for i in range(num_frames):\n",
    "\n",
    "i = 0\n",
    "\n",
    "init_pose[12] = waist_angles[i,0]\n",
    "init_pose[13] = waist_angles[i,1]\n",
    "init_pose[14] = waist_angles[i,2]\n",
    "restPoses[12] = waist_angles[i,0]\n",
    "restPoses[13] = waist_angles[i,1]\n",
    "restPoses[14] = waist_angles[i,2]\n",
    "\n",
    "p.resetBasePositionAndOrientation(\n",
    "humanoid, (pelvis[i]).tolist(), lower_rot[i].as_quat().tolist()\n",
    ")\n",
    "for joint_index, angle in enumerate(init_pose):\n",
    "    p.resetJointState(humanoid, joint_index, angle)\n",
    "\n",
    "l_shoulder_pos, _ = p.getLinkState(\n",
    "humanoid, joint_names.index(\"shoulderRoll_Left\")\n",
    ")[4:6]\n",
    "r_shoulder_pos, _ = p.getLinkState(\n",
    "humanoid, joint_names.index(\"shoulderRoll_Right\")\n",
    ")[4:6]\n",
    "l_hip_pos, _ = p.getLinkState(\n",
    "humanoid, joint_names.index(\"hipRoll_Left\")\n",
    ")[4:6]\n",
    "r_hip_pos, _ = p.getLinkState(\n",
    "humanoid, joint_names.index(\"hipRoll_Right\")\n",
    ")[4:6]\n",
    "\n",
    "# IK for l hand\n",
    "l_elbow_pos = np.array(l_shoulder_pos) + l_upperarm_dir[i] * upperarm_len\n",
    "\n",
    "# IK for r hand\n",
    "r_elbow_pos = np.array(r_shoulder_pos) + r_upperarm_dir[i] * upperarm_len\n",
    "\n",
    "# IK for l foot\n",
    "l_knee_pos = np.array(l_hip_pos) + l_thigh_dir[i] * thigh_len\n",
    "\n",
    "# IK for r foot\n",
    "r_knee_pos = np.array(r_hip_pos) + r_thigh_dir[i] * thigh_len\n",
    "\n",
    "# # Calculate the IK solution\n",
    "ik_solution_rh = p.calculateInverseKinematics(\n",
    "humanoid,\n",
    "joint_names.index(\"elbow_Right\"),\n",
    "r_elbow_pos,\n",
    "targetOrientation=r_elbow_rot.as_quat()[i],\n",
    "jointDamping=jointDamping,  # Adjust damping as needed,\n",
    "restPoses=restPoses,  # Initial joint angles\n",
    ")\n",
    "\n",
    "ik_solution_lh = p.calculateInverseKinematics(\n",
    "humanoid,\n",
    "joint_names.index(\"elbow_Left\"),\n",
    "l_elbow_pos,\n",
    "targetOrientation=l_elbow_rot.as_quat()[i],\n",
    "jointDamping=jointDamping,  # Adjust damping as needed\n",
    "restPoses=restPoses,  # Initial joint anglesss\n",
    ")\n",
    "\n",
    "ik_solution_rf = p.calculateInverseKinematics(\n",
    "humanoid,\n",
    "joint_names.index(\"kneePitch_Right\"),\n",
    "r_knee_pos,\n",
    "targetOrientation=r_knee_rot.as_quat()[i],\n",
    "jointDamping=jointDamping,  # Adjust damping as needed\n",
    "restPoses=restPoses,  # Initial joint angles\n",
    ")\n",
    "\n",
    "ik_solution_lf = p.calculateInverseKinematics(\n",
    "humanoid,\n",
    "joint_names.index(\"kneePitch_Left\"),\n",
    "l_knee_pos,\n",
    "targetOrientation=l_knee_rot.as_quat()[i],\n",
    "jointDamping=jointDamping,  # Adjust damping as needed\n",
    "restPoses=restPoses,  # Initial joint angles\n",
    ")\n",
    "\n",
    "ik_solution = np.zeros(num_joints)\n",
    "ik_solution[:4] = ik_solution_lf[:4]\n",
    "ik_solution[4] = l_foot_angle[i]\n",
    "ik_solution[6:10] = ik_solution_rf[6:10]\n",
    "ik_solution[10] = r_foot_angle[i]\n",
    "ik_solution[12] = waist_angles[i,0]\n",
    "ik_solution[13] = waist_angles[i,1]\n",
    "ik_solution[14] = waist_angles[i,2]\n",
    "ik_solution[16:20] = ik_solution_lh[15:19]\n",
    "ik_solution[24:28] = ik_solution_rh[19:23]\n",
    "\n",
    "restPoses = ik_solution\n",
    "init_pose = ik_solution\n",
    "\n",
    "for joint_index, angle in enumerate(init_pose):\n",
    "    p.resetJointState(humanoid, joint_index, angle)\n",
    "\n",
    "l_ankle_pos, l_ankle_rot = p.getLinkState(\n",
    "humanoid, joint_names.index(\"anklePitch_Left\")\n",
    ")[4:6]\n",
    "r_ankle_pos, r_ankle_rot = p.getLinkState(\n",
    "humanoid, joint_names.index(\"anklePitch_Right\")\n",
    ")[4:6]\n",
    "\n",
    "l_rot_matrix = p.getMatrixFromQuaternion(l_ankle_rot)\n",
    "l_rot_matrix = np.array(l_rot_matrix).reshape(3, 3)\n",
    "l_toe_pose = np.dot(l_rot_matrix@toe_R, [toe_len, 0, 0]) + l_ankle_pos\n",
    "l_heel_pose = np.dot(l_rot_matrix@heel_R, [heel_len, 0, 0]) + l_ankle_pos\n",
    "\n",
    "r_rot_matrix = p.getMatrixFromQuaternion(r_ankle_rot)\n",
    "r_rot_matrix = np.array(r_rot_matrix).reshape(3, 3)\n",
    "r_toe_pose = np.dot(r_rot_matrix@toe_R, [toe_len, 0, 0]) + r_ankle_pos\n",
    "r_heel_pose = np.dot(r_rot_matrix@heel_R, [heel_len, 0, 0]) + r_ankle_pos\n",
    "\n",
    "# sphere_radius = 0.01\n",
    "# visual_shape_id = p.createVisualShape(p.GEOM_SPHERE, radius=sphere_radius, rgbaColor=[1, 0, 0, 1])  # Red sphere\n",
    "# sphere_body_id = p.createMultiBody(baseMass=0, baseVisualShapeIndex=visual_shape_id, basePosition=l_toe_pose)\n",
    "# sphere_body_id = p.createMultiBody(baseMass=0, baseVisualShapeIndex=visual_shape_id, basePosition=l_heel_pose)\n",
    "# sphere_body_id = p.createMultiBody(baseMass=0, baseVisualShapeIndex=visual_shape_id, basePosition=r_toe_pose)\n",
    "# sphere_body_id = p.createMultiBody(baseMass=0, baseVisualShapeIndex=visual_shape_id, basePosition=r_heel_pose)\n",
    "\n",
    "# sphere_body_id = p.createMultiBody(baseMass=0, baseVisualShapeIndex=visual_shape_id, basePosition=r_knee_pos)\n",
    "# # sphere_body_id = p.createMultiBody(baseMass=0, baseVisualShapeIndex=visual_shape_id, basePosition=l_knee_pos)\n",
    "# # sphere_body_id = p.createMultiBody(baseMass=0, baseVisualShapeIndex=visual_shape_id, basePosition=r_toe_pose)\n",
    "# # sphere_body_id = p.createMultiBody(baseMass=0, baseVisualShapeIndex=visual_shape_id, basePosition=r_heel_pose)\n",
    "\n",
    "# frame_size=0.1\n",
    "# rot_matrix = r_elbow_rot.as_matrix()[i]\n",
    "# # Extract the rotated axes\n",
    "# x_axis_end = np.dot(rot_matrix, [frame_size, 0, 0]) + r_elbow_pos\n",
    "# y_axis_end = np.dot(rot_matrix, [0, frame_size, 0]) + r_elbow_pos\n",
    "# z_axis_end = np.dot(rot_matrix, [0, 0, frame_size]) + r_elbow_pos\n",
    "\n",
    "\n",
    "# p.addUserDebugLine(r_elbow_pos, x_axis_end, [1, 0, 0], parentObjectUniqueId=-1, parentLinkIndex=-1)\n",
    "\n",
    "# # Y-axis (green)\n",
    "# p.addUserDebugLine(r_elbow_pos, y_axis_end, [0, 1, 0], parentObjectUniqueId=-1, parentLinkIndex=-1)\n",
    "\n",
    "# # Z-axis (blue)\n",
    "# p.addUserDebugLine(r_elbow_pos, z_axis_end, [0, 0, 1], parentObjectUniqueId=-1, parentLinkIndex=-1)\n",
    "\n",
    "\n",
    "frame_size=0.1\n",
    "rot_matrix = l_elbow_rot.as_matrix()[i]\n",
    "# Extract the rotated axes\n",
    "x_axis_end = np.dot(rot_matrix, [frame_size, 0, 0]) + l_elbow_pos\n",
    "y_axis_end = np.dot(rot_matrix, [0, frame_size, 0]) + l_elbow_pos\n",
    "z_axis_end = np.dot(rot_matrix, [0, 0, frame_size]) + l_elbow_pos\n",
    "\n",
    "\n",
    "p.addUserDebugLine(l_elbow_pos, x_axis_end, [1, 0, 0], parentObjectUniqueId=-1, parentLinkIndex=-1)\n",
    "\n",
    "# Y-axis (green)\n",
    "p.addUserDebugLine(l_elbow_pos, y_axis_end, [0, 1, 0], parentObjectUniqueId=-1, parentLinkIndex=-1)\n",
    "\n",
    "# Z-axis (blue)\n",
    "p.addUserDebugLine(l_elbow_pos, z_axis_end, [0, 0, 1], parentObjectUniqueId=-1, parentLinkIndex=-1)\n",
    "\n",
    "# if i == 0:\n",
    "#     min_foot_z = np.min([l_toe_pose[2], r_toe_pose[2], l_heel_pose[2], r_heel_pose[2]])\n",
    "\n",
    "# pelvis_copy[i, 2] = pelvis[i,2] - min_foot_z\n",
    "\n",
    "# Step the simulation\n",
    "joint_poses.append(ik_solution)\n",
    "time.sleep(100)\n",
    "# print(i)\n",
    "\n",
    "# p.disconnect()"
   ]
  },
  {
   "cell_type": "code",
   "execution_count": 11,
   "metadata": {},
   "outputs": [
    {
     "data": {
      "text/plain": [
       "15"
      ]
     },
     "execution_count": 11,
     "metadata": {},
     "output_type": "execute_result"
    }
   ],
   "source": [
    "joint_names.index(\"shoulderBase_Left\")"
   ]
  },
  {
   "cell_type": "code",
   "execution_count": 23,
   "metadata": {},
   "outputs": [
    {
     "data": {
      "text/plain": [
       "'shoulderPitch_Right'"
      ]
     },
     "execution_count": 23,
     "metadata": {},
     "output_type": "execute_result"
    },
    {
     "ename": "",
     "evalue": "",
     "output_type": "error",
     "traceback": [
      "\u001b[1;31mThe Kernel crashed while executing code in the current cell or a previous cell. \n",
      "\u001b[1;31mPlease review the code in the cell(s) to identify a possible cause of the failure. \n",
      "\u001b[1;31mClick <a href='https://aka.ms/vscodeJupyterKernelCrash'>here</a> for more info. \n",
      "\u001b[1;31mView Jupyter <a href='command:jupyter.viewOutput'>log</a> for further details."
     ]
    }
   ],
   "source": [
    "joint_names[24]"
   ]
  },
  {
   "cell_type": "code",
   "execution_count": 21,
   "metadata": {},
   "outputs": [
    {
     "data": {
      "text/plain": [
       "23"
      ]
     },
     "execution_count": 21,
     "metadata": {},
     "output_type": "execute_result"
    }
   ],
   "source": [
    "joint_names.index(\"shoulderBase_Right\")"
   ]
  },
  {
   "cell_type": "code",
   "execution_count": 86,
   "metadata": {},
   "outputs": [
    {
     "data": {
      "text/plain": [
       "-30.33916070825221"
      ]
     },
     "execution_count": 86,
     "metadata": {},
     "output_type": "execute_result"
    }
   ],
   "source": [
    "r_foot_angle[i,0] * 180 / np.pi"
   ]
  },
  {
   "cell_type": "code",
   "execution_count": 13,
   "metadata": {},
   "outputs": [
    {
     "name": "stdout",
     "output_type": "stream",
     "text": [
      "numActiveThreads = 0\n",
      "stopping threads\n",
      "Thread with taskId 0 exiting\n",
      "Thread TERMINATED\n",
      "destroy semaphore\n",
      "semaphore destroyed\n",
      "destroy main semaphore\n",
      "main semaphore destroyed\n",
      "finished\n",
      "numActiveThreads = 0\n",
      "btShutDownExampleBrowser stopping threads\n",
      "Thread with taskId 0 exiting\n",
      "Thread TERMINATED\n",
      "destroy semaphore\n",
      "semaphore destroyed\n",
      "destroy main semaphore\n",
      "main semaphore destroyed\n"
     ]
    }
   ],
   "source": [
    "p.disconnect()"
   ]
  },
  {
   "cell_type": "code",
   "execution_count": 63,
   "metadata": {},
   "outputs": [
    {
     "data": {
      "text/plain": [
       "16.37015090008355"
      ]
     },
     "execution_count": 63,
     "metadata": {},
     "output_type": "execute_result"
    }
   ],
   "source": [
    "np.arctan(0.047/0.160) * 180 / np.pi"
   ]
  },
  {
   "cell_type": "code",
   "execution_count": 87,
   "metadata": {},
   "outputs": [
    {
     "data": {
      "text/plain": [
       "2.0943951023931957"
      ]
     },
     "execution_count": 87,
     "metadata": {},
     "output_type": "execute_result"
    }
   ],
   "source": [
    "np.arccos(-0.5)"
   ]
  },
  {
   "cell_type": "code",
   "execution_count": 85,
   "metadata": {},
   "outputs": [
    {
     "data": {
      "text/plain": [
       "array([ 6.71163372e+00,  7.50771448e+00,  1.30669005e+02,  1.09124436e+01,\n",
       "       -1.22323156e+01,  0.00000000e+00,  1.43936105e+01, -6.34846699e+00,\n",
       "       -1.78459026e+02,  1.90304669e+01, -6.67029444e+00,  0.00000000e+00,\n",
       "        3.25804068e-02, -4.03170932e+00, -2.15374167e+00,  0.00000000e+00,\n",
       "        1.95059438e+01,  8.59846687e+01, -1.47355886e+02,  2.03940889e+00,\n",
       "        0.00000000e+00,  0.00000000e+00,  0.00000000e+00,  0.00000000e+00,\n",
       "       -4.89162629e+01, -7.73326663e+01, -1.26818297e+02, -2.34664103e+01,\n",
       "        0.00000000e+00,  0.00000000e+00,  0.00000000e+00,  0.00000000e+00,\n",
       "        0.00000000e+00,  0.00000000e+00,  0.00000000e+00])"
      ]
     },
     "execution_count": 85,
     "metadata": {},
     "output_type": "execute_result"
    }
   ],
   "source": [
    "init_pose * 180 / np.pi"
   ]
  },
  {
   "cell_type": "code",
   "execution_count": 142,
   "metadata": {},
   "outputs": [],
   "source": [
    "v = np.load('data/A12 - crawl backwards_poses_vertices.npy')"
   ]
  },
  {
   "cell_type": "code",
   "execution_count": 140,
   "metadata": {},
   "outputs": [
    {
     "data": {
      "text/plain": [
       "5169"
      ]
     },
     "execution_count": 140,
     "metadata": {},
     "output_type": "execute_result"
    }
   ],
   "source": [
    "np.argmin(np.linalg.norm(v[frame_idx] - np.array([-0.009,0.358,1.71]), axis=1))"
   ]
  },
  {
   "cell_type": "code",
   "execution_count": 130,
   "metadata": {},
   "outputs": [
    {
     "data": {
      "text/plain": [
       "379"
      ]
     },
     "execution_count": 130,
     "metadata": {},
     "output_type": "execute_result"
    }
   ],
   "source": [
    "frame_idx"
   ]
  },
  {
   "cell_type": "code",
   "execution_count": null,
   "metadata": {},
   "outputs": [],
   "source": []
  }
 ],
 "metadata": {
  "kernelspec": {
   "display_name": "Python 3",
   "language": "python",
   "name": "python3"
  },
  "language_info": {
   "codemirror_mode": {
    "name": "ipython",
    "version": 3
   },
   "file_extension": ".py",
   "mimetype": "text/x-python",
   "name": "python",
   "nbconvert_exporter": "python",
   "pygments_lexer": "ipython3",
   "version": "3.10.13"
  }
 },
 "nbformat": 4,
 "nbformat_minor": 2
}
