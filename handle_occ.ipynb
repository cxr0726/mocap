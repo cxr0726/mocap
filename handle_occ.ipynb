{
 "cells": [
  {
   "cell_type": "code",
   "execution_count": 1,
   "metadata": {},
   "outputs": [],
   "source": [
    "import joblib"
   ]
  },
  {
   "cell_type": "code",
   "execution_count": 2,
   "metadata": {},
   "outputs": [],
   "source": [
    "# load motion data\n",
    "data_path = \"ACCAD_Male2MartialArtsStances_c3d_D5 - ready to walk away_poses.pt\"\n",
    "adam_pose = joblib.load(data_path)"
   ]
  },
  {
   "cell_type": "code",
   "execution_count": 3,
   "metadata": {},
   "outputs": [
    {
     "data": {
      "text/plain": [
       "array([-0.03629386,  0.00692368,  0.03256917], dtype=float32)"
      ]
     },
     "execution_count": 3,
     "metadata": {},
     "output_type": "execute_result"
    }
   ],
   "source": [
    "adam_pose['root_vel'][0]"
   ]
  },
  {
   "cell_type": "code",
   "execution_count": 27,
   "metadata": {
    "pycharm": {
     "is_executing": true
    }
   },
   "outputs": [],
   "source": [
    "def amass2adam(useful_poses):\n",
    "\n",
    "    num_frames = useful_poses.shape[0]\n",
    "\n",
    "    pelvis = useful_poses[:,0,:]\n",
    "\n",
    "    l_upperarm = useful_poses[:,16,:]\n",
    "    l_forearm = useful_poses[:,18,:]\n",
    "    l_hand = useful_poses[:,20,:]\n",
    "\n",
    "    r_upperarm = useful_poses[:,17,:]\n",
    "    r_forearm = useful_poses[:,19,:]\n",
    "    r_hand = useful_poses[:,21,:]\n",
    "\n",
    "    l_thigh = useful_poses[:,1,:]\n",
    "    l_calf = useful_poses[:,4,:]\n",
    "    l_foot = useful_poses[:,7,:]\n",
    "    l_toe = useful_poses[:,10,:]\n",
    "\n",
    "    r_thigh = useful_poses[:,2,:]\n",
    "    r_calf = useful_poses[:,5,:]\n",
    "    r_foot = useful_poses[:,8,:]\n",
    "    r_toe = useful_poses[:,11,:]\n",
    "\n",
    "    # upper body\n",
    "    head = (l_upperarm + r_upperarm) / 2\n",
    "    upper_z = (head - pelvis) / np.linalg.norm(head - pelvis, axis=1, keepdims=True)\n",
    "    upper_x = np.cross(pelvis - l_upperarm, pelvis - r_upperarm)\n",
    "    upper_x = upper_x / np.linalg.norm(upper_x, axis=1, keepdims=True)\n",
    "    upper_y = np.cross(upper_z, upper_x)\n",
    "    upper_rot = np.stack([upper_x, upper_y, upper_z], axis=2)\n",
    "\n",
    "    # lower body\n",
    "    crotch = (l_thigh + r_thigh) / 2\n",
    "    lower_z = - (crotch - pelvis) / np.linalg.norm(crotch - pelvis, axis=1, keepdims=True)\n",
    "    lower_x = np.cross(pelvis - r_thigh, pelvis - l_thigh)\n",
    "    lower_x = lower_x / np.linalg.norm(lower_x, axis=1, keepdims=True)\n",
    "    lower_y = np.cross(lower_z, lower_x)\n",
    "    lower_rot = np.stack([lower_x, lower_y, lower_z], axis=2)\n",
    "\n",
    "    # left elbow\n",
    "    l_elbow_rot_z = l_forearm - l_hand\n",
    "    l_elbow_rot_z = l_elbow_rot_z / np.linalg.norm(\n",
    "        l_elbow_rot_z, axis=1, keepdims=True\n",
    "    )\n",
    "\n",
    "    l_elbow_rot_y = l_upperarm - l_forearm\n",
    "    l_elbow_rot_y = l_elbow_rot_y / np.linalg.norm(\n",
    "        l_elbow_rot_y, axis=1, keepdims=True\n",
    "    )\n",
    "    l_elbow_rot_y = np.cross(l_elbow_rot_y, -l_elbow_rot_z)\n",
    "    l_elbow_rot_y = l_elbow_rot_y / np.linalg.norm(\n",
    "        l_elbow_rot_y, axis=1, keepdims=True\n",
    "    )\n",
    "\n",
    "    l_elbow_rot_x = np.cross(l_elbow_rot_y, l_elbow_rot_z)\n",
    "    l_elbow_rot_x = l_elbow_rot_x / np.linalg.norm(\n",
    "        l_elbow_rot_x, axis=1, keepdims=True\n",
    "    )\n",
    "\n",
    "    l_elbow_rot = np.stack([l_elbow_rot_x, l_elbow_rot_y, l_elbow_rot_z], axis=2)\n",
    "\n",
    "    l_upperarm_dir = l_forearm - l_upperarm\n",
    "    l_upperarm_dir = l_upperarm_dir / np.linalg.norm(\n",
    "        l_upperarm_dir, axis=1, keepdims=True\n",
    "    )\n",
    "\n",
    "    # right elbow\n",
    "    r_elbow_rot_z = r_forearm - r_hand\n",
    "    r_elbow_rot_z = r_elbow_rot_z / np.linalg.norm(\n",
    "        r_elbow_rot_z, axis=1, keepdims=True\n",
    "    )\n",
    "\n",
    "    r_elbow_rot_y = r_upperarm - r_forearm\n",
    "    r_elbow_rot_y = r_elbow_rot_y / np.linalg.norm(\n",
    "        r_elbow_rot_y, axis=1, keepdims=True\n",
    "    )\n",
    "    r_elbow_rot_y = np.cross(r_elbow_rot_y, -r_elbow_rot_z)\n",
    "    r_elbow_rot_y = r_elbow_rot_y / np.linalg.norm(\n",
    "        r_elbow_rot_y, axis=1, keepdims=True\n",
    "    )\n",
    "\n",
    "    r_elbow_rot_x = np.cross(r_elbow_rot_y, r_elbow_rot_z)\n",
    "    r_elbow_rot_x = r_elbow_rot_x / np.linalg.norm(\n",
    "        r_elbow_rot_x, axis=1, keepdims=True\n",
    "    )\n",
    "    r_elbow_rot = np.stack([r_elbow_rot_x, r_elbow_rot_y, r_elbow_rot_z], axis=2)\n",
    "\n",
    "    r_upperarm_dir = r_forearm - r_upperarm\n",
    "    r_upperarm_dir = r_upperarm_dir / np.linalg.norm(\n",
    "        r_upperarm_dir, axis=1, keepdims=True\n",
    "    )\n",
    "\n",
    "    # left knee\n",
    "    l_knee_rot_z = l_calf - l_foot\n",
    "    l_knee_rot_z = l_knee_rot_z / np.linalg.norm(\n",
    "        l_knee_rot_z, axis=1, keepdims=True\n",
    "    )\n",
    "\n",
    "    l_knee_rot_y = l_calf - l_thigh\n",
    "    l_knee_rot_y = l_knee_rot_y / np.linalg.norm(\n",
    "        l_knee_rot_y, axis=1, keepdims=True\n",
    "    )\n",
    "    l_knee_rot_y = np.cross(l_knee_rot_z, l_knee_rot_y)\n",
    "    l_knee_rot_y = l_knee_rot_y / np.linalg.norm(\n",
    "        l_knee_rot_y, axis=1, keepdims=True\n",
    "    )\n",
    "\n",
    "    l_knee_rot_x = np.cross(l_knee_rot_y, l_knee_rot_z)\n",
    "    l_knee_rot_x = l_knee_rot_x / np.linalg.norm(\n",
    "        l_knee_rot_x, axis=1, keepdims=True\n",
    "    )\n",
    "    l_knee_rot = np.stack([l_knee_rot_x, l_knee_rot_y, l_knee_rot_z], axis=2)\n",
    "\n",
    "    l_thigh_dir = l_calf - l_thigh\n",
    "    l_thigh_dir = l_thigh_dir / np.linalg.norm(l_thigh_dir, axis=1, keepdims=True)\n",
    "\n",
    "    # right knee\n",
    "    r_knee_rot_z = r_calf - r_foot\n",
    "    r_knee_rot_z = r_knee_rot_z / np.linalg.norm(\n",
    "        r_knee_rot_z, axis=1, keepdims=True\n",
    "    )\n",
    "\n",
    "    r_knee_rot_y = r_calf - r_thigh\n",
    "    r_knee_rot_y = r_knee_rot_y / np.linalg.norm(\n",
    "        r_knee_rot_y, axis=1, keepdims=True\n",
    "    )\n",
    "    r_knee_rot_y = np.cross(r_knee_rot_z, r_knee_rot_y)\n",
    "    r_knee_rot_y = r_knee_rot_y / np.linalg.norm(\n",
    "        r_knee_rot_y, axis=1, keepdims=True\n",
    "    )\n",
    "\n",
    "    r_knee_rot_x = np.cross(r_knee_rot_y, r_knee_rot_z)\n",
    "    r_knee_rot_x = r_knee_rot_x / np.linalg.norm(\n",
    "        r_knee_rot_x, axis=1, keepdims=True\n",
    "    )\n",
    "    r_knee_rot = np.stack([r_knee_rot_x, r_knee_rot_y, r_knee_rot_z], axis=2)\n",
    "\n",
    "    r_thigh_dir = r_calf - r_thigh\n",
    "    r_thigh_dir = r_thigh_dir / np.linalg.norm(r_thigh_dir, axis=1, keepdims=True)\n",
    "\n",
    "    # to pybullet\n",
    "    upper_rot = R.from_matrix(upper_rot)\n",
    "    lower_rot = R.from_matrix(lower_rot)\n",
    "    l_elbow_rot = R.from_matrix(l_elbow_rot)\n",
    "    r_elbow_rot = R.from_matrix(r_elbow_rot)\n",
    "    l_knee_rot = R.from_matrix(l_knee_rot)\n",
    "    r_knee_rot = R.from_matrix(r_knee_rot)\n",
    "\n",
    "    # waist angle\n",
    "    R_u_l = np.einsum('ijk,ikl->ijl', np.transpose(lower_rot.as_matrix(), (0, 2, 1)), upper_rot.as_matrix())\n",
    "    R_u_l = R.from_matrix(R_u_l)\n",
    "    waist_angles = R_u_l.as_euler('xyz', degrees=False)\n",
    "\n",
    "    # ankle angle\n",
    "    l_calf_dir = l_calf - l_foot\n",
    "    l_foot_dir = l_toe - l_foot\n",
    "    l_foot_dir = l_foot_dir / np.linalg.norm(l_foot_dir, axis=1, keepdims=True)\n",
    "    cos = np.einsum('ij,ij->i', l_calf_dir, l_foot_dir) / (np.linalg.norm(l_calf_dir, axis=1) * np.linalg.norm(l_foot_dir, axis=1))\n",
    "    l_foot_angle = np.arccos(cos) - np.arctan(0.047/0.160) - np.pi/2\n",
    "\n",
    "    r_calf_dir = r_calf - r_foot\n",
    "    r_foot_dir = r_toe - r_foot\n",
    "    r_foot_dir = r_foot_dir / np.linalg.norm(r_foot_dir, axis=1, keepdims=True)\n",
    "    cos = np.einsum('ij,ij->i', r_calf_dir, r_foot_dir) / (np.linalg.norm(r_calf_dir, axis=1) * np.linalg.norm(r_foot_dir, axis=1))\n",
    "    r_foot_angle = np.arccos(cos) - np.arctan(0.047/0.160) - np.pi/2\n",
    "\n",
    "\n",
    "    amass_data = {'num_frames': num_frames,\n",
    "                'pelvis': pelvis,\n",
    "                'upper_rot': upper_rot,\n",
    "                'lower_rot': lower_rot,\n",
    "                'l_elbow_rot': l_elbow_rot,\n",
    "                'r_elbow_rot': r_elbow_rot,\n",
    "                'l_knee_rot': l_knee_rot,\n",
    "                'r_knee_rot': r_knee_rot,\n",
    "                'l_upperarm_dir': l_upperarm_dir,\n",
    "                'r_upperarm_dir': r_upperarm_dir,\n",
    "                'l_thigh_dir': l_thigh_dir,\n",
    "                'r_thigh_dir': r_thigh_dir,\n",
    "                'waist_angles': waist_angles,\n",
    "                'l_foot_angle': l_foot_angle,\n",
    "                'r_foot_angle': r_foot_angle,\n",
    "                'l_foot_dir': l_foot_dir,\n",
    "                'r_foot_dir': r_foot_dir,\n",
    "    }\n",
    "\n",
    "    return amass_data"
   ]
  },
  {
   "cell_type": "code",
   "execution_count": 7,
   "metadata": {},
   "outputs": [],
   "source": [
    "result = joblib.load('/home/jianrenw/mocap/data/out/amass.pt')"
   ]
  },
  {
   "cell_type": "code",
   "execution_count": 8,
   "metadata": {},
   "outputs": [],
   "source": [
    "keys = list(result.keys())\n",
    "current_key = keys[15]"
   ]
  },
  {
   "cell_type": "code",
   "execution_count": 9,
   "metadata": {},
   "outputs": [],
   "source": [
    "pose = result[current_key]['pose']\n",
    "mocap_rate = result[current_key]['mocap_framerate']"
   ]
  },
  {
   "cell_type": "code",
   "execution_count": 28,
   "metadata": {},
   "outputs": [],
   "source": [
    "amass_data = amass2adam(pose)"
   ]
  },
  {
   "cell_type": "code",
   "execution_count": 4,
   "metadata": {},
   "outputs": [],
   "source": [
    "urdf_path = '/home/jianrenw/mocap/adam/urdf/adam_v2.urdf'"
   ]
  },
  {
   "cell_type": "code",
   "execution_count": 25,
   "metadata": {},
   "outputs": [],
   "source": [
    "import plotly\n",
    "import plotly.graph_objs as go"
   ]
  },
  {
   "cell_type": "code",
   "execution_count": 26,
   "metadata": {},
   "outputs": [
    {
     "data": {
      "application/vnd.plotly.v1+json": {
       "config": {
        "linkText": "Export to plot.ly",
        "plotlyServerURL": "https://plot.ly",
        "showLink": false
       },
       "data": [
        {
         "marker": {
          "opacity": 0.8,
          "size": 6
         },
         "mode": "markers",
         "type": "scatter3d",
         "x": [
          -1.5190815925598145,
          -1.5280630588531494,
          -1.4836061000823975,
          -1.4815826416015625,
          -1.6962084770202637,
          -1.467044472694397,
          -1.5130518674850464,
          -1.4958178997039795,
          -1.3739111423492432,
          -1.5224378108978271,
          -1.6314971446990967,
          -1.444192886352539,
          -1.5011588335037231,
          -1.5352914333343506,
          -1.481022834777832,
          -1.5598211288452148,
          -1.60225248336792,
          -1.4536998271942139,
          -1.7590272426605225,
          -1.408608078956604,
          -1.7442669868469238,
          -1.433178186416626,
          -1.6787679195404053,
          -1.654146671295166
         ],
         "y": [
          0.10127376019954681,
          0.04179692268371582,
          0.16453655064105988,
          0.07214038074016571,
          -0.06809014081954956,
          0.4106524586677551,
          0.05952838063240051,
          -0.17137521505355835,
          0.4560265839099884,
          0.06658327579498291,
          -0.20147016644477844,
          0.582054853439331,
          0.09860716760158539,
          0.0066772401332855225,
          0.1540222465991974,
          0.14440539479255676,
          -0.10363775491714478,
          0.27525806427001953,
          -0.024400651454925537,
          0.44237393140792847,
          0.20616865158081055,
          0.7039303779602051,
          0.23881494998931885,
          0.2529381215572357
         ],
         "z": [
          0.9037382006645203,
          0.817154586315155,
          0.8185921907424927,
          1.0186136960983276,
          0.45513683557510376,
          0.48650234937667847,
          1.1416616439819336,
          0.06985741853713989,
          0.0615193247795105,
          1.192107915878296,
          0.030070066452026367,
          0.019595682621002197,
          1.398163080215454,
          1.3110500574111938,
          1.2966907024383545,
          1.46791672706604,
          1.3486804962158203,
          1.294646978378296,
          1.1561810970306396,
          1.104042410850525,
          1.2846591472625732,
          1.1410102844238281,
          1.3611345291137695,
          1.3770900964736938
         ]
        }
       ],
       "layout": {
        "margin": {
         "b": 0,
         "l": 0,
         "r": 0,
         "t": 0
        },
        "scene": {
         "aspectratio": {
          "x": 1,
          "y": 1,
          "z": 1
         },
         "xaxis": {
          "range": [
           -2,
           0
          ],
          "title": {
           "text": "x"
          }
         },
         "yaxis": {
          "range": [
           -1,
           1
          ],
          "title": {
           "text": "y"
          }
         },
         "zaxis": {
          "range": [
           0,
           2
          ],
          "title": {
           "text": "z"
          }
         }
        },
        "template": {
         "data": {
          "bar": [
           {
            "error_x": {
             "color": "#2a3f5f"
            },
            "error_y": {
             "color": "#2a3f5f"
            },
            "marker": {
             "line": {
              "color": "#E5ECF6",
              "width": 0.5
             },
             "pattern": {
              "fillmode": "overlay",
              "size": 10,
              "solidity": 0.2
             }
            },
            "type": "bar"
           }
          ],
          "barpolar": [
           {
            "marker": {
             "line": {
              "color": "#E5ECF6",
              "width": 0.5
             },
             "pattern": {
              "fillmode": "overlay",
              "size": 10,
              "solidity": 0.2
             }
            },
            "type": "barpolar"
           }
          ],
          "carpet": [
           {
            "aaxis": {
             "endlinecolor": "#2a3f5f",
             "gridcolor": "white",
             "linecolor": "white",
             "minorgridcolor": "white",
             "startlinecolor": "#2a3f5f"
            },
            "baxis": {
             "endlinecolor": "#2a3f5f",
             "gridcolor": "white",
             "linecolor": "white",
             "minorgridcolor": "white",
             "startlinecolor": "#2a3f5f"
            },
            "type": "carpet"
           }
          ],
          "choropleth": [
           {
            "colorbar": {
             "outlinewidth": 0,
             "ticks": ""
            },
            "type": "choropleth"
           }
          ],
          "contour": [
           {
            "colorbar": {
             "outlinewidth": 0,
             "ticks": ""
            },
            "colorscale": [
             [
              0,
              "#0d0887"
             ],
             [
              0.1111111111111111,
              "#46039f"
             ],
             [
              0.2222222222222222,
              "#7201a8"
             ],
             [
              0.3333333333333333,
              "#9c179e"
             ],
             [
              0.4444444444444444,
              "#bd3786"
             ],
             [
              0.5555555555555556,
              "#d8576b"
             ],
             [
              0.6666666666666666,
              "#ed7953"
             ],
             [
              0.7777777777777778,
              "#fb9f3a"
             ],
             [
              0.8888888888888888,
              "#fdca26"
             ],
             [
              1,
              "#f0f921"
             ]
            ],
            "type": "contour"
           }
          ],
          "contourcarpet": [
           {
            "colorbar": {
             "outlinewidth": 0,
             "ticks": ""
            },
            "type": "contourcarpet"
           }
          ],
          "heatmap": [
           {
            "colorbar": {
             "outlinewidth": 0,
             "ticks": ""
            },
            "colorscale": [
             [
              0,
              "#0d0887"
             ],
             [
              0.1111111111111111,
              "#46039f"
             ],
             [
              0.2222222222222222,
              "#7201a8"
             ],
             [
              0.3333333333333333,
              "#9c179e"
             ],
             [
              0.4444444444444444,
              "#bd3786"
             ],
             [
              0.5555555555555556,
              "#d8576b"
             ],
             [
              0.6666666666666666,
              "#ed7953"
             ],
             [
              0.7777777777777778,
              "#fb9f3a"
             ],
             [
              0.8888888888888888,
              "#fdca26"
             ],
             [
              1,
              "#f0f921"
             ]
            ],
            "type": "heatmap"
           }
          ],
          "heatmapgl": [
           {
            "colorbar": {
             "outlinewidth": 0,
             "ticks": ""
            },
            "colorscale": [
             [
              0,
              "#0d0887"
             ],
             [
              0.1111111111111111,
              "#46039f"
             ],
             [
              0.2222222222222222,
              "#7201a8"
             ],
             [
              0.3333333333333333,
              "#9c179e"
             ],
             [
              0.4444444444444444,
              "#bd3786"
             ],
             [
              0.5555555555555556,
              "#d8576b"
             ],
             [
              0.6666666666666666,
              "#ed7953"
             ],
             [
              0.7777777777777778,
              "#fb9f3a"
             ],
             [
              0.8888888888888888,
              "#fdca26"
             ],
             [
              1,
              "#f0f921"
             ]
            ],
            "type": "heatmapgl"
           }
          ],
          "histogram": [
           {
            "marker": {
             "pattern": {
              "fillmode": "overlay",
              "size": 10,
              "solidity": 0.2
             }
            },
            "type": "histogram"
           }
          ],
          "histogram2d": [
           {
            "colorbar": {
             "outlinewidth": 0,
             "ticks": ""
            },
            "colorscale": [
             [
              0,
              "#0d0887"
             ],
             [
              0.1111111111111111,
              "#46039f"
             ],
             [
              0.2222222222222222,
              "#7201a8"
             ],
             [
              0.3333333333333333,
              "#9c179e"
             ],
             [
              0.4444444444444444,
              "#bd3786"
             ],
             [
              0.5555555555555556,
              "#d8576b"
             ],
             [
              0.6666666666666666,
              "#ed7953"
             ],
             [
              0.7777777777777778,
              "#fb9f3a"
             ],
             [
              0.8888888888888888,
              "#fdca26"
             ],
             [
              1,
              "#f0f921"
             ]
            ],
            "type": "histogram2d"
           }
          ],
          "histogram2dcontour": [
           {
            "colorbar": {
             "outlinewidth": 0,
             "ticks": ""
            },
            "colorscale": [
             [
              0,
              "#0d0887"
             ],
             [
              0.1111111111111111,
              "#46039f"
             ],
             [
              0.2222222222222222,
              "#7201a8"
             ],
             [
              0.3333333333333333,
              "#9c179e"
             ],
             [
              0.4444444444444444,
              "#bd3786"
             ],
             [
              0.5555555555555556,
              "#d8576b"
             ],
             [
              0.6666666666666666,
              "#ed7953"
             ],
             [
              0.7777777777777778,
              "#fb9f3a"
             ],
             [
              0.8888888888888888,
              "#fdca26"
             ],
             [
              1,
              "#f0f921"
             ]
            ],
            "type": "histogram2dcontour"
           }
          ],
          "mesh3d": [
           {
            "colorbar": {
             "outlinewidth": 0,
             "ticks": ""
            },
            "type": "mesh3d"
           }
          ],
          "parcoords": [
           {
            "line": {
             "colorbar": {
              "outlinewidth": 0,
              "ticks": ""
             }
            },
            "type": "parcoords"
           }
          ],
          "pie": [
           {
            "automargin": true,
            "type": "pie"
           }
          ],
          "scatter": [
           {
            "fillpattern": {
             "fillmode": "overlay",
             "size": 10,
             "solidity": 0.2
            },
            "type": "scatter"
           }
          ],
          "scatter3d": [
           {
            "line": {
             "colorbar": {
              "outlinewidth": 0,
              "ticks": ""
             }
            },
            "marker": {
             "colorbar": {
              "outlinewidth": 0,
              "ticks": ""
             }
            },
            "type": "scatter3d"
           }
          ],
          "scattercarpet": [
           {
            "marker": {
             "colorbar": {
              "outlinewidth": 0,
              "ticks": ""
             }
            },
            "type": "scattercarpet"
           }
          ],
          "scattergeo": [
           {
            "marker": {
             "colorbar": {
              "outlinewidth": 0,
              "ticks": ""
             }
            },
            "type": "scattergeo"
           }
          ],
          "scattergl": [
           {
            "marker": {
             "colorbar": {
              "outlinewidth": 0,
              "ticks": ""
             }
            },
            "type": "scattergl"
           }
          ],
          "scattermapbox": [
           {
            "marker": {
             "colorbar": {
              "outlinewidth": 0,
              "ticks": ""
             }
            },
            "type": "scattermapbox"
           }
          ],
          "scatterpolar": [
           {
            "marker": {
             "colorbar": {
              "outlinewidth": 0,
              "ticks": ""
             }
            },
            "type": "scatterpolar"
           }
          ],
          "scatterpolargl": [
           {
            "marker": {
             "colorbar": {
              "outlinewidth": 0,
              "ticks": ""
             }
            },
            "type": "scatterpolargl"
           }
          ],
          "scatterternary": [
           {
            "marker": {
             "colorbar": {
              "outlinewidth": 0,
              "ticks": ""
             }
            },
            "type": "scatterternary"
           }
          ],
          "surface": [
           {
            "colorbar": {
             "outlinewidth": 0,
             "ticks": ""
            },
            "colorscale": [
             [
              0,
              "#0d0887"
             ],
             [
              0.1111111111111111,
              "#46039f"
             ],
             [
              0.2222222222222222,
              "#7201a8"
             ],
             [
              0.3333333333333333,
              "#9c179e"
             ],
             [
              0.4444444444444444,
              "#bd3786"
             ],
             [
              0.5555555555555556,
              "#d8576b"
             ],
             [
              0.6666666666666666,
              "#ed7953"
             ],
             [
              0.7777777777777778,
              "#fb9f3a"
             ],
             [
              0.8888888888888888,
              "#fdca26"
             ],
             [
              1,
              "#f0f921"
             ]
            ],
            "type": "surface"
           }
          ],
          "table": [
           {
            "cells": {
             "fill": {
              "color": "#EBF0F8"
             },
             "line": {
              "color": "white"
             }
            },
            "header": {
             "fill": {
              "color": "#C8D4E3"
             },
             "line": {
              "color": "white"
             }
            },
            "type": "table"
           }
          ]
         },
         "layout": {
          "annotationdefaults": {
           "arrowcolor": "#2a3f5f",
           "arrowhead": 0,
           "arrowwidth": 1
          },
          "autotypenumbers": "strict",
          "coloraxis": {
           "colorbar": {
            "outlinewidth": 0,
            "ticks": ""
           }
          },
          "colorscale": {
           "diverging": [
            [
             0,
             "#8e0152"
            ],
            [
             0.1,
             "#c51b7d"
            ],
            [
             0.2,
             "#de77ae"
            ],
            [
             0.3,
             "#f1b6da"
            ],
            [
             0.4,
             "#fde0ef"
            ],
            [
             0.5,
             "#f7f7f7"
            ],
            [
             0.6,
             "#e6f5d0"
            ],
            [
             0.7,
             "#b8e186"
            ],
            [
             0.8,
             "#7fbc41"
            ],
            [
             0.9,
             "#4d9221"
            ],
            [
             1,
             "#276419"
            ]
           ],
           "sequential": [
            [
             0,
             "#0d0887"
            ],
            [
             0.1111111111111111,
             "#46039f"
            ],
            [
             0.2222222222222222,
             "#7201a8"
            ],
            [
             0.3333333333333333,
             "#9c179e"
            ],
            [
             0.4444444444444444,
             "#bd3786"
            ],
            [
             0.5555555555555556,
             "#d8576b"
            ],
            [
             0.6666666666666666,
             "#ed7953"
            ],
            [
             0.7777777777777778,
             "#fb9f3a"
            ],
            [
             0.8888888888888888,
             "#fdca26"
            ],
            [
             1,
             "#f0f921"
            ]
           ],
           "sequentialminus": [
            [
             0,
             "#0d0887"
            ],
            [
             0.1111111111111111,
             "#46039f"
            ],
            [
             0.2222222222222222,
             "#7201a8"
            ],
            [
             0.3333333333333333,
             "#9c179e"
            ],
            [
             0.4444444444444444,
             "#bd3786"
            ],
            [
             0.5555555555555556,
             "#d8576b"
            ],
            [
             0.6666666666666666,
             "#ed7953"
            ],
            [
             0.7777777777777778,
             "#fb9f3a"
            ],
            [
             0.8888888888888888,
             "#fdca26"
            ],
            [
             1,
             "#f0f921"
            ]
           ]
          },
          "colorway": [
           "#636efa",
           "#EF553B",
           "#00cc96",
           "#ab63fa",
           "#FFA15A",
           "#19d3f3",
           "#FF6692",
           "#B6E880",
           "#FF97FF",
           "#FECB52"
          ],
          "font": {
           "color": "#2a3f5f"
          },
          "geo": {
           "bgcolor": "white",
           "lakecolor": "white",
           "landcolor": "#E5ECF6",
           "showlakes": true,
           "showland": true,
           "subunitcolor": "white"
          },
          "hoverlabel": {
           "align": "left"
          },
          "hovermode": "closest",
          "mapbox": {
           "style": "light"
          },
          "paper_bgcolor": "white",
          "plot_bgcolor": "#E5ECF6",
          "polar": {
           "angularaxis": {
            "gridcolor": "white",
            "linecolor": "white",
            "ticks": ""
           },
           "bgcolor": "#E5ECF6",
           "radialaxis": {
            "gridcolor": "white",
            "linecolor": "white",
            "ticks": ""
           }
          },
          "scene": {
           "xaxis": {
            "backgroundcolor": "#E5ECF6",
            "gridcolor": "white",
            "gridwidth": 2,
            "linecolor": "white",
            "showbackground": true,
            "ticks": "",
            "zerolinecolor": "white"
           },
           "yaxis": {
            "backgroundcolor": "#E5ECF6",
            "gridcolor": "white",
            "gridwidth": 2,
            "linecolor": "white",
            "showbackground": true,
            "ticks": "",
            "zerolinecolor": "white"
           },
           "zaxis": {
            "backgroundcolor": "#E5ECF6",
            "gridcolor": "white",
            "gridwidth": 2,
            "linecolor": "white",
            "showbackground": true,
            "ticks": "",
            "zerolinecolor": "white"
           }
          },
          "shapedefaults": {
           "line": {
            "color": "#2a3f5f"
           }
          },
          "ternary": {
           "aaxis": {
            "gridcolor": "white",
            "linecolor": "white",
            "ticks": ""
           },
           "baxis": {
            "gridcolor": "white",
            "linecolor": "white",
            "ticks": ""
           },
           "bgcolor": "#E5ECF6",
           "caxis": {
            "gridcolor": "white",
            "linecolor": "white",
            "ticks": ""
           }
          },
          "title": {
           "x": 0.05
          },
          "xaxis": {
           "automargin": true,
           "gridcolor": "white",
           "linecolor": "white",
           "ticks": "",
           "title": {
            "standoff": 15
           },
           "zerolinecolor": "white",
           "zerolinewidth": 2
          },
          "yaxis": {
           "automargin": true,
           "gridcolor": "white",
           "linecolor": "white",
           "ticks": "",
           "title": {
            "standoff": 15
           },
           "zerolinecolor": "white",
           "zerolinewidth": 2
          }
         }
        }
       }
      }
     },
     "metadata": {},
     "output_type": "display_data"
    }
   ],
   "source": [
    "frame_idx = 310\n",
    "joints = go.Scatter3d(\n",
    "    x=pose[frame_idx, :, 0],  \n",
    "    y=pose[frame_idx, :, 1],  \n",
    "    z=pose[frame_idx, :, 2], \n",
    "    mode='markers',\n",
    "    marker={\n",
    "        'size': 6,\n",
    "        'opacity': 0.8,\n",
    "    }\n",
    ")\n",
    "\n",
    "layout = go.Layout(\n",
    "        margin={'l': 0, 'r': 0, 'b': 0, 't': 0},\n",
    "        scene = dict(\n",
    "            xaxis = dict(title=\"x\", range = [-2,0]),\n",
    "            yaxis = dict(title=\"y\", range = [-1,1]),\n",
    "            zaxis = dict(title=\"z\", range = [0,2]),\n",
    "            aspectratio=dict(x=1, y=1, z=1)\n",
    "    ))\n",
    "\n",
    "fig = go.Figure(data=[joints], layout=layout)\n",
    "plotly.offline.iplot(fig)"
   ]
  },
  {
   "cell_type": "code",
   "execution_count": 17,
   "metadata": {},
   "outputs": [
    {
     "data": {
      "text/plain": [
       "array([[-0.93095705, -0.33178577, -0.15243746],\n",
       "       [ 0.33879245, -0.94060894, -0.02178306],\n",
       "       [-0.13615673, -0.07192375,  0.98807303]])"
      ]
     },
     "execution_count": 17,
     "metadata": {},
     "output_type": "execute_result"
    }
   ],
   "source": [
    "lower_rot[i].as_matrix()"
   ]
  },
  {
   "cell_type": "code",
   "execution_count": 19,
   "metadata": {},
   "outputs": [],
   "source": [
    "useful_poses = pose"
   ]
  },
  {
   "cell_type": "code",
   "execution_count": 20,
   "metadata": {},
   "outputs": [],
   "source": [
    "pelvis = useful_poses[:,0,:]\n",
    "\n",
    "l_upperarm = useful_poses[:,16,:]\n",
    "l_forearm = useful_poses[:,18,:]\n",
    "l_hand = useful_poses[:,20,:]\n",
    "\n",
    "r_upperarm = useful_poses[:,17,:]\n",
    "r_forearm = useful_poses[:,19,:]\n",
    "r_hand = useful_poses[:,21,:]\n",
    "\n",
    "l_thigh = useful_poses[:,1,:]\n",
    "l_calf = useful_poses[:,4,:]\n",
    "l_foot = useful_poses[:,7,:]\n",
    "l_toe = useful_poses[:,10,:]\n",
    "\n",
    "r_thigh = useful_poses[:,2,:]\n",
    "r_calf = useful_poses[:,5,:]\n",
    "r_foot = useful_poses[:,8,:]\n",
    "r_toe = useful_poses[:,11,:]"
   ]
  },
  {
   "cell_type": "code",
   "execution_count": 84,
   "metadata": {},
   "outputs": [
    {
     "data": {
      "text/plain": [
       "82.99478973698383"
      ]
     },
     "execution_count": 84,
     "metadata": {},
     "output_type": "execute_result"
    }
   ],
   "source": [
    "a = pose[frame_idx, 5] - pose[frame_idx, 8]\n",
    "b = pose[frame_idx, 11] - pose[frame_idx, 8]\n",
    "c = np.dot(a, b) / (np.linalg.norm(a) * np.linalg.norm(b))\n",
    "angle = np.arccos(c)\n",
    "angle * 180 / np.pi"
   ]
  },
  {
   "cell_type": "code",
   "execution_count": 83,
   "metadata": {},
   "outputs": [
    {
     "data": {
      "text/plain": [
       "array([-1.0301911 , -0.41919518,  0.01949066], dtype=float32)"
      ]
     },
     "execution_count": 83,
     "metadata": {},
     "output_type": "execute_result"
    }
   ],
   "source": [
    "pose[frame_idx, 11]"
   ]
  },
  {
   "cell_type": "code",
   "execution_count": 29,
   "metadata": {},
   "outputs": [
    {
     "name": "stdout",
     "output_type": "stream",
     "text": [
      "startThreads creating 1 threads.\n",
      "starting thread 0\n",
      "started thread 0 \n",
      "argc=2\n",
      "argv[0] = --unused\n",
      "argv[1] = --start_demo_name=Physics Server\n",
      "ExampleBrowserThreadFunc started\n",
      "X11 functions dynamically loaded using dlopen/dlsym OK!\n",
      "X11 functions dynamically loaded using dlopen/dlsym OK!\n",
      "Creating context\n",
      "Created GL 3.3 context\n",
      "Direct GLX rendering context obtained\n",
      "Making context current\n",
      "GL_VENDOR=NVIDIA Corporation\n",
      "GL_RENDERER=NVIDIA GeForce RTX 4080/PCIe/SSE2\n",
      "GL_VERSION=3.3.0 NVIDIA 545.29.06\n",
      "GL_SHADING_LANGUAGE_VERSION=3.30 NVIDIA via Cg compiler\n",
      "pthread_getconcurrency()=0\n",
      "Version = 3.3.0 NVIDIA 545.29.06\n",
      "Vendor = NVIDIA Corporation\n",
      "Renderer = NVIDIA GeForce RTX 4080/PCIe/SSE2\n",
      "b3Printf: Selected demo: Physics Server\n",
      "startThreads creating 1 threads.\n",
      "starting thread 0\n",
      "started thread 0 \n",
      "MotionThreadFunc thread started\n",
      "ven = NVIDIA Corporation\n",
      "ven = NVIDIA Corporation\n",
      "numActiveThreads = 0\n",
      "stopping threads\n",
      "Thread with taskId 0 exiting\n",
      "Thread TERMINATED\n",
      "destroy semaphore\n",
      "semaphore destroyed\n",
      "destroy main semaphore\n",
      "main semaphore destroyed\n",
      "finished\n",
      "numActiveThreads = 0\n",
      "btShutDownExampleBrowser stopping threads\n",
      "Thread with taskId 0 exiting\n",
      "Thread TERMINATED\n",
      "destroy semaphore\n",
      "semaphore destroyed\n",
      "destroy main semaphore\n",
      "main semaphore destroyed\n"
     ]
    }
   ],
   "source": [
    "physicsClient = p.connect(p.GUI)  # non-graphical version\n",
    "p.setAdditionalSearchPath(pybullet_data.getDataPath())  # used by loadURDF\n",
    "robot_start_pos = [0, 0, 0]\n",
    "robot_start_orientation = p.getQuaternionFromEuler([0, 0, 0])\n",
    "humanoid = p.loadURDF(urdf_path, robot_start_pos, robot_start_orientation)\n",
    "\n",
    "num_frames = amass_data['num_frames']\n",
    "pelvis = amass_data['pelvis']\n",
    "upper_rot = amass_data['upper_rot']\n",
    "lower_rot = amass_data['lower_rot']\n",
    "l_elbow_rot = amass_data['l_elbow_rot']\n",
    "r_elbow_rot = amass_data['r_elbow_rot']\n",
    "l_knee_rot = amass_data['l_knee_rot']\n",
    "r_knee_rot = amass_data['r_knee_rot']\n",
    "l_upperarm_dir = amass_data['l_upperarm_dir']\n",
    "r_upperarm_dir = amass_data['r_upperarm_dir']\n",
    "l_thigh_dir = amass_data['l_thigh_dir']\n",
    "r_thigh_dir = amass_data['r_thigh_dir']\n",
    "waist_angles = amass_data['waist_angles']\n",
    "l_foot_angle = amass_data['l_foot_angle']\n",
    "r_foot_angle = amass_data['r_foot_angle']\n",
    "l_foot_dir = amass_data['l_foot_dir']\n",
    "r_foot_dir = amass_data['r_foot_dir']\n",
    "\n",
    "upperarm_len = 0.2648365892539233\n",
    "thigh_len = 0.4252746432372357\n",
    "toe_len = 0.167\n",
    "heel_len = 0.079\n",
    "\n",
    "toe_R = R.from_euler('y', np.arctan(0.047/0.160)).as_matrix()\n",
    "heel_R = R.from_euler('y', np.pi / 2 + np.arctan(0.047/0.064)).as_matrix()\n",
    "\n",
    "num_joints = p.getNumJoints(humanoid)\n",
    "\n",
    "joint_names = []\n",
    "\n",
    "pelvis_copy = pelvis.copy()\n",
    "\n",
    "# Iterate through the joints and print their names\n",
    "for joint_index in range(num_joints):\n",
    "    joint_info = p.getJointInfo(humanoid, joint_index)\n",
    "    joint_name = joint_info[1].decode(\n",
    "        \"utf-8\"\n",
    "    )  # Decode the byte string to get the joint name\n",
    "    joint_names.append(joint_name)\n",
    "\n",
    "joint_poses = []\n",
    "jointDamping = [0.1] * num_joints\n",
    "jointDamping[12] = 100\n",
    "jointDamping[13] = 100\n",
    "jointDamping[14] = 100\n",
    "restPoses = [0.0] * num_joints\n",
    "init_pose = [0.0] * num_joints\n",
    "\n",
    "for i in range(num_frames):\n",
    "\n",
    "    init_pose[12] = waist_angles[i,0]\n",
    "    init_pose[13] = waist_angles[i,1]\n",
    "    init_pose[14] = waist_angles[i,2]\n",
    "    restPoses[12] = waist_angles[i,0]\n",
    "    restPoses[13] = waist_angles[i,1]\n",
    "    restPoses[14] = waist_angles[i,2]\n",
    "\n",
    "    p.resetBasePositionAndOrientation(\n",
    "        humanoid, (pelvis[i]).tolist(), lower_rot[i].as_quat().tolist()\n",
    "    )\n",
    "    for joint_index, angle in enumerate(init_pose):\n",
    "        p.resetJointState(humanoid, joint_index, angle)\n",
    "\n",
    "    l_shoulder_pos, _ = p.getLinkState(\n",
    "        humanoid, joint_names.index(\"shoulderRoll_Left\")\n",
    "    )[4:6]\n",
    "    r_shoulder_pos, _ = p.getLinkState(\n",
    "        humanoid, joint_names.index(\"shoulderRoll_Right\")\n",
    "    )[4:6]\n",
    "    l_hip_pos, _ = p.getLinkState(\n",
    "        humanoid, joint_names.index(\"hipRoll_Left\")\n",
    "    )[4:6]\n",
    "    r_hip_pos, _ = p.getLinkState(\n",
    "        humanoid, joint_names.index(\"hipRoll_Right\")\n",
    "    )[4:6]\n",
    "\n",
    "    # IK for l hand\n",
    "    l_elbow_pos = np.array(l_shoulder_pos) + l_upperarm_dir[i] * upperarm_len\n",
    "\n",
    "    # IK for r hand\n",
    "    r_elbow_pos = np.array(r_shoulder_pos) + r_upperarm_dir[i] * upperarm_len\n",
    "\n",
    "    # IK for l foot\n",
    "    l_knee_pos = np.array(l_hip_pos) + l_thigh_dir[i] * thigh_len\n",
    "\n",
    "    # IK for r foot\n",
    "    r_knee_pos = np.array(r_hip_pos) + r_thigh_dir[i] * thigh_len\n",
    "\n",
    "    # # Calculate the IK solution\n",
    "    ik_solution_rh = p.calculateInverseKinematics(\n",
    "        humanoid,\n",
    "        joint_names.index(\"elbow_Right\"),\n",
    "        r_elbow_pos,\n",
    "        targetOrientation=r_elbow_rot.as_quat()[i],\n",
    "        jointDamping=jointDamping,  # Adjust damping as needed,\n",
    "        restPoses=restPoses,  # Initial joint angles\n",
    "    )\n",
    "\n",
    "    ik_solution_lh = p.calculateInverseKinematics(\n",
    "        humanoid,\n",
    "        joint_names.index(\"elbow_Left\"),\n",
    "        l_elbow_pos,\n",
    "        targetOrientation=l_elbow_rot.as_quat()[i],\n",
    "        jointDamping=jointDamping,  # Adjust damping as needed\n",
    "        restPoses=restPoses,  # Initial joint anglesss\n",
    "    )\n",
    "\n",
    "    ik_solution_rf = p.calculateInverseKinematics(\n",
    "        humanoid,\n",
    "        joint_names.index(\"kneePitch_Right\"),\n",
    "        r_knee_pos,\n",
    "        targetOrientation=r_knee_rot.as_quat()[i],\n",
    "        jointDamping=jointDamping,  # Adjust damping as needed\n",
    "        restPoses=restPoses,  # Initial joint angles\n",
    "    )\n",
    "\n",
    "    ik_solution_lf = p.calculateInverseKinematics(\n",
    "        humanoid,\n",
    "        joint_names.index(\"kneePitch_Left\"),\n",
    "        l_knee_pos,\n",
    "        targetOrientation=l_knee_rot.as_quat()[i],\n",
    "        jointDamping=jointDamping,  # Adjust damping as needed\n",
    "        restPoses=restPoses,  # Initial joint angles\n",
    "    )\n",
    "\n",
    "    # p.resetJointState(humanoid, joint_index, ik_solution)\n",
    "\n",
    "    ik_solution = np.zeros(num_joints)\n",
    "    ik_solution[:4] = ik_solution_lf[:4]\n",
    "    ik_solution[4] = l_foot_angle[i]\n",
    "    ik_solution[6:10] = ik_solution_rf[6:10]\n",
    "    ik_solution[10] = r_foot_angle[i]\n",
    "    ik_solution[12] = waist_angles[i,0]\n",
    "    ik_solution[13] = waist_angles[i,1]\n",
    "    ik_solution[14] = waist_angles[i,2]\n",
    "    ik_solution[16:20] = ik_solution_lh[15:19]\n",
    "    ik_solution[24:28] = ik_solution_rh[19:23]\n",
    "\n",
    "    restPoses = ik_solution\n",
    "    init_pose = ik_solution\n",
    "\n",
    "    for joint_index, angle in enumerate(init_pose):\n",
    "        p.resetJointState(humanoid, joint_index, angle)\n",
    "\n",
    "    l_ankle_pos, l_ankle_rot = p.getLinkState(\n",
    "        humanoid, joint_names.index(\"anklePitch_Left\")\n",
    "    )[4:6]\n",
    "    r_ankle_pos, r_ankle_rot = p.getLinkState(\n",
    "        humanoid, joint_names.index(\"anklePitch_Right\")\n",
    "    )[4:6]\n",
    "\n",
    "    l_rot_matrix = p.getMatrixFromQuaternion(l_ankle_rot)\n",
    "    l_rot_matrix = np.array(l_rot_matrix).reshape(3, 3)\n",
    "    l_toe_pose = np.dot(l_rot_matrix@toe_R, [toe_len, 0, 0]) + l_ankle_pos\n",
    "    l_heel_pose = np.dot(l_rot_matrix@heel_R, [heel_len, 0, 0]) + l_ankle_pos\n",
    "\n",
    "    r_rot_matrix = p.getMatrixFromQuaternion(r_ankle_rot)\n",
    "    r_rot_matrix = np.array(r_rot_matrix).reshape(3, 3)\n",
    "    r_toe_pose = np.dot(r_rot_matrix@toe_R, [toe_len, 0, 0]) + r_ankle_pos\n",
    "    r_heel_pose = np.dot(r_rot_matrix@heel_R, [heel_len, 0, 0]) + r_ankle_pos\n",
    "\n",
    "    sphere_radius = 0.05\n",
    "    visual_shape_id = p.createVisualShape(p.GEOM_SPHERE, radius=sphere_radius, rgbaColor=[1, 0, 0, 1])  # Red sphere\n",
    "    sphere_body_id = p.createMultiBody(baseMass=0, baseVisualShapeIndex=visual_shape_id, basePosition=l_toe_pose)\n",
    "    sphere_body_id = p.createMultiBody(baseMass=0, baseVisualShapeIndex=visual_shape_id, basePosition=l_heel_pose)\n",
    "    sphere_body_id = p.createMultiBody(baseMass=0, baseVisualShapeIndex=visual_shape_id, basePosition=r_toe_pose)\n",
    "    sphere_body_id = p.createMultiBody(baseMass=0, baseVisualShapeIndex=visual_shape_id, basePosition=r_heel_pose)\n",
    "    if i == 0:\n",
    "        min_foot_z = np.min([l_toe_pose[2], r_toe_pose[2], l_heel_pose[2], r_heel_pose[2]])\n",
    "\n",
    "    pelvis_copy[i, 2] = pelvis[i,2] - min_foot_z\n",
    "\n",
    "    # Step the simulation\n",
    "    joint_poses.append(ik_solution)\n",
    "    time.sleep(0.01)\n",
    "\n",
    "p.disconnect()"
   ]
  },
  {
   "cell_type": "code",
   "execution_count": 86,
   "metadata": {},
   "outputs": [
    {
     "data": {
      "text/plain": [
       "-30.33916070825221"
      ]
     },
     "execution_count": 86,
     "metadata": {},
     "output_type": "execute_result"
    }
   ],
   "source": [
    "r_foot_angle[i,0] * 180 / np.pi"
   ]
  },
  {
   "cell_type": "code",
   "execution_count": 6,
   "metadata": {},
   "outputs": [
    {
     "name": "stdout",
     "output_type": "stream",
     "text": [
      "numActiveThreads = 0\n",
      "stopping threads\n",
      "Thread with taskId 0 exiting\n",
      "Thread TERMINATED\n",
      "destroy semaphore\n",
      "semaphore destroyed\n",
      "destroy main semaphore\n",
      "main semaphore destroyed\n",
      "finished\n",
      "numActiveThreads = 0\n",
      "btShutDownExampleBrowser stopping threads\n",
      "Thread with taskId 0 exiting\n",
      "Thread TERMINATED\n",
      "destroy semaphore\n",
      "semaphore destroyed\n",
      "destroy main semaphore\n",
      "main semaphore destroyed\n"
     ]
    }
   ],
   "source": [
    "p.disconnect()"
   ]
  },
  {
   "cell_type": "code",
   "execution_count": 85,
   "metadata": {},
   "outputs": [
    {
     "data": {
      "text/plain": [
       "16.37015090008355"
      ]
     },
     "execution_count": 85,
     "metadata": {},
     "output_type": "execute_result"
    }
   ],
   "source": [
    "np.arctan(0.047/0.160) * 180 / np.pi"
   ]
  },
  {
   "cell_type": "code",
   "execution_count": 87,
   "metadata": {},
   "outputs": [
    {
     "data": {
      "text/plain": [
       "2.0943951023931957"
      ]
     },
     "execution_count": 87,
     "metadata": {},
     "output_type": "execute_result"
    }
   ],
   "source": [
    "np.arccos(-0.5)"
   ]
  },
  {
   "cell_type": "code",
   "execution_count": null,
   "metadata": {},
   "outputs": [],
   "source": []
  }
 ],
 "metadata": {
  "kernelspec": {
   "display_name": "Python 3",
   "language": "python",
   "name": "python3"
  },
  "language_info": {
   "codemirror_mode": {
    "name": "ipython",
    "version": 3
   },
   "file_extension": ".py",
   "mimetype": "text/x-python",
   "name": "python",
   "nbconvert_exporter": "python",
   "pygments_lexer": "ipython3",
   "version": "3.10.13"
  }
 },
 "nbformat": 4,
 "nbformat_minor": 2
}
